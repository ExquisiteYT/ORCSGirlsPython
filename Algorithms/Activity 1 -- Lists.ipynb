{
  "nbformat": 4,
  "nbformat_minor": 0,
  "metadata": {
    "colab": {
      "name": "AlgorithmsPlay.ipynb",
      "version": "0.3.2",
      "provenance": [],
      "collapsed_sections": [],
      "include_colab_link": true
    },
    "kernelspec": {
      "display_name": "Python 3",
      "language": "python",
      "name": "python3"
    }
  },
  "cells": [
    {
      "cell_type": "markdown",
      "metadata": {
        "id": "view-in-github",
        "colab_type": "text"
      },
      "source": [
        "<a href=\"https://colab.research.google.com/github/tproffen/ORCSGirlsPython/blob/master/Algorithms/Activity%201%20--%20Lists.ipynb\" target=\"_parent\"><img src=\"https://colab.research.google.com/assets/colab-badge.svg\" alt=\"Open In Colab\"/></a>"
      ]
    },
    {
      "metadata": {
        "colab_type": "text",
        "id": "OJTK0vIDpw1q"
      },
      "cell_type": "markdown",
      "source": [
        "<img src=\"https://github.com/tproffen/ORCSGirlsPython/blob/master/MachineLearning/Images/PoweredTechGirlz.png?raw=1\" width=\"15%\" align=\"right\" hpsace=\"50\">\n",
        "\n",
        "# Activity 1: Lists \n",
        "\n",
        "Welcome to working with Python and Jupyter Notebooks. If you have done the Python class, this is familiar. If not, simply enter Python code in the cells below and either press the play button on the left or press `shift+enter`. \n",
        "\n",
        "Ready? Let's go."
      ]
    },
    {
      "metadata": {
        "id": "XNt_eKPVqY87",
        "colab_type": "text"
      },
      "cell_type": "markdown",
      "source": [
        "### Variables and lists\n",
        "\n",
        "We use `variables` to stire information, for example a number or a piece of text. The command ```print``` allows us to see what is stored in a variable. See the examples below. Change some of the values.\n",
        "\n"
      ]
    },
    {
      "metadata": {
        "id": "6-6L04Y75Q-_",
        "colab_type": "code",
        "colab": {}
      },
      "cell_type": "code",
      "source": [
        "number=4\n",
        "print (number)"
      ],
      "execution_count": 0,
      "outputs": []
    },
    {
      "metadata": {
        "id": "xpX6ITPf5ci2",
        "colab_type": "code",
        "colab": {}
      },
      "cell_type": "code",
      "source": [
        "name=\"Thomas\"\n",
        "print (name)"
      ],
      "execution_count": 0,
      "outputs": []
    },
    {
      "metadata": {
        "id": "smz-tVmE5inw",
        "colab_type": "text"
      },
      "cell_type": "markdown",
      "source": [
        "Try defining your own and store a number and then use print to check."
      ]
    },
    {
      "metadata": {
        "id": "Y3Wksw7u5oqe",
        "colab_type": "code",
        "colab": {}
      },
      "cell_type": "code",
      "source": [
        ""
      ],
      "execution_count": 0,
      "outputs": []
    },
    {
      "metadata": {
        "id": "HNF0Amoz5sKA",
        "colab_type": "text"
      },
      "cell_type": "markdown",
      "source": [
        "Now imagine you want to store a complete list of numbers or a list of your favorite colors. In Python we uses square brackets ```[]``` to define lists."
      ]
    },
    {
      "metadata": {
        "id": "4UEsiZx9qY88",
        "colab_type": "code",
        "colab": {}
      },
      "cell_type": "code",
      "source": [
        "data=[2,5,7]\n",
        "print (data)"
      ],
      "execution_count": 0,
      "outputs": []
    },
    {
      "metadata": {
        "id": "gxFWJeUNqY8-",
        "colab_type": "code",
        "colab": {}
      },
      "cell_type": "code",
      "source": [
        "bestestcolors=[\"red\", \"purple\", \"pink\", \"black\"]\n",
        "print (bestestcolors)"
      ],
      "execution_count": 0,
      "outputs": []
    },
    {
      "metadata": {
        "id": "i_x5HrpO6X16",
        "colab_type": "text"
      },
      "cell_type": "markdown",
      "source": [
        "The code below will print the 1st element of the list ```bestestcolors```. The strange thing about many programming languages including Python is that the list items are numbered from 0 and not 1."
      ]
    },
    {
      "metadata": {
        "id": "y8rj-orVqY9R",
        "colab_type": "code",
        "colab": {}
      },
      "cell_type": "code",
      "source": [
        "print (bestestcolors[1])"
      ],
      "execution_count": 0,
      "outputs": []
    },
    {
      "metadata": {
        "id": "7FP9t7ve7JSo",
        "colab_type": "text"
      },
      "cell_type": "markdown",
      "source": [
        "Complete the print statement below to print the element containing ```black```."
      ]
    },
    {
      "metadata": {
        "id": "nnbMRw1Z7F08",
        "colab_type": "code",
        "colab": {}
      },
      "cell_type": "code",
      "source": [
        "print (bestestcolors[?])"
      ],
      "execution_count": 0,
      "outputs": []
    },
    {
      "metadata": {
        "id": "g1YArPlT7in4",
        "colab_type": "text"
      },
      "cell_type": "markdown",
      "source": [
        "### Things to do with lists\n",
        "\n",
        "There are many built in functions to work with lists. First we want to determine the length of a list. In other works, how many elements does a list have. How many entries does the list ```bestestcolors``` have?"
      ]
    },
    {
      "metadata": {
        "id": "-hzjNd1r7XrO",
        "colab_type": "code",
        "colab": {}
      },
      "cell_type": "code",
      "source": [
        "n=len(bestestcolors)\n",
        "print(n)"
      ],
      "execution_count": 0,
      "outputs": []
    },
    {
      "metadata": {
        "id": "NZaL6eJm8RHu",
        "colab_type": "text"
      },
      "cell_type": "markdown",
      "source": [
        "Often we want to run through all the elements of a list. You might remember ```loops``` from last time. Run the code in the cell below."
      ]
    },
    {
      "metadata": {
        "id": "t0BHWbK58EsQ",
        "colab_type": "code",
        "colab": {}
      },
      "cell_type": "code",
      "source": [
        "n=len(bestestcolors)\n",
        "for i in range(n):\n",
        "  print (\"I am at element \",i,\"with value\", bestestcolors[i])"
      ],
      "execution_count": 0,
      "outputs": []
    },
    {
      "metadata": {
        "id": "B-Egm2Pj9PwR",
        "colab_type": "text"
      },
      "cell_type": "markdown",
      "source": [
        "## Your turn\n",
        "\n",
        "With all the commands you used above, you know all the Python to write some code to determine the largest number in a list. There are built in fuctions, but here we want to use a loop like in the example above.\n",
        "\n",
        "It is helpful to first think of the steps (or algorithm) needed. "
      ]
    },
    {
      "metadata": {
        "id": "YVcLYooF8snh",
        "colab_type": "code",
        "colab": {}
      },
      "cell_type": "code",
      "source": [
        "data = [2,3,5,1,12,21,5,7,9,11,16,0,4]\n",
        "maximum = 0\n",
        "\n",
        "# Loop over all elements of data. \n",
        "#   If the element of data is greater than the value in maximum\n",
        "#     Store the current value in maximum.\n",
        "\n",
        "# Turn the steps above into Python code\n"
      ],
      "execution_count": 0,
      "outputs": []
    }
  ]
}