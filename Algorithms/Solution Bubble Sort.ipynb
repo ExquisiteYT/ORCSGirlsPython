{
  "nbformat": 4,
  "nbformat_minor": 0,
  "metadata": {
    "colab": {
      "name": "AlgorithmsPlay.ipynb",
      "version": "0.3.2",
      "provenance": [],
      "collapsed_sections": [],
      "toc_visible": true,
      "include_colab_link": true
    },
    "kernelspec": {
      "display_name": "Python 3",
      "language": "python",
      "name": "python3"
    }
  },
  "cells": [
    {
      "cell_type": "markdown",
      "metadata": {
        "id": "view-in-github",
        "colab_type": "text"
      },
      "source": [
        "<a href=\"https://colab.research.google.com/github/tproffen/ORCSGirlsPython/blob/master/Algorithms/Solution%20Bubble%20Sort.ipynb\" target=\"_parent\"><img src=\"https://colab.research.google.com/assets/colab-badge.svg\" alt=\"Open In Colab\"/></a>"
      ]
    },
    {
      "metadata": {
        "colab_type": "text",
        "id": "OJTK0vIDpw1q"
      },
      "cell_type": "markdown",
      "source": [
        "<img src=\"https://github.com/tproffen/ORCSGirlsPython/blob/master/MachineLearning/Images/PoweredTechGirlz.png?raw=1\" width=\"15%\" align=\"right\" hpsace=\"50\">\n",
        "\n",
        "# Solution: Bubble Sort \n",
        "\n",
        "Here are the solutions to the Bubble sort activity. Did you get it right? "
      ]
    },
    {
      "metadata": {
        "id": "qucAzK2boAbZ",
        "colab_type": "code",
        "colab": {
          "base_uri": "https://localhost:8080/",
          "height": 68
        },
        "outputId": "3c6cebd9-1586-4ac7-b740-bf34c59ebf99"
      },
      "cell_type": "code",
      "source": [
        "!mkdir -p Helpers\n",
        "!curl -o Helpers/helpers.py https://raw.githubusercontent.com/tproffen/ORCSGirlsPython/master/Algorithms/Helpers/helpers.py"
      ],
      "execution_count": 4,
      "outputs": [
        {
          "output_type": "stream",
          "text": [
            "  % Total    % Received % Xferd  Average Speed   Time    Time     Time  Current\n",
            "                                 Dload  Upload   Total   Spent    Left  Speed\n",
            "\r  0     0    0     0    0     0      0      0 --:--:-- --:--:-- --:--:--     0\r100   534  100   534    0     0   3068      0 --:--:-- --:--:-- --:--:--  3068\n"
          ],
          "name": "stdout"
        }
      ]
    },
    {
      "metadata": {
        "colab_type": "code",
        "id": "GLtyldM6ixcn",
        "colab": {}
      },
      "cell_type": "code",
      "source": [
        "%matplotlib inline\n",
        "from Helpers.helpers import *"
      ],
      "execution_count": 0,
      "outputs": []
    },
    {
      "metadata": {
        "id": "NGcf-tFxoAbe",
        "colab_type": "text"
      },
      "cell_type": "markdown",
      "source": [
        "## Data\n",
        "\n",
        "As in the activity, here we set the data array and store it in ```data``` and store the length of the list in the variable ```n```.\n"
      ]
    },
    {
      "metadata": {
        "id": "N5aeZXEuoAbf",
        "colab_type": "code",
        "colab": {}
      },
      "cell_type": "code",
      "source": [
        "data=[2,5,7,11,2,1,4,8,12,3,7]\n",
        "n=len(data)"
      ],
      "execution_count": 0,
      "outputs": []
    },
    {
      "metadata": {
        "id": "DzLdHWP4oAbh",
        "colab_type": "text"
      },
      "cell_type": "markdown",
      "source": [
        "## \"Dumb\" Bubble sort\n",
        "\n",
        "Here we loop over all list elements no matter what. Check what happens when you run the cell again and sort the sorted data? "
      ]
    },
    {
      "metadata": {
        "colab_type": "code",
        "id": "v4BlXmzbL1jk",
        "outputId": "b784a5b9-b526-4000-a36f-ec6f0b720ee2",
        "scrolled": false,
        "colab": {
          "base_uri": "https://localhost:8080/",
          "height": 374
        }
      },
      "cell_type": "code",
      "source": [
        "for j in range(n):\n",
        "  for i in range(n-1):\n",
        "    if data[i]>data[i+1]:\n",
        "      temp = data[i]\n",
        "      data[i] = data[i+1]\n",
        "      data[i+1] = temp\n",
        "    updateGraph(i,data)\n"
      ],
      "execution_count": 7,
      "outputs": [
        {
          "output_type": "display_data",
          "data": {
            "image/png": "[encoded data removed]",
            "text/plain": [
              "<Figure size 864x432 with 1 Axes>"
            ]
          },
          "metadata": {
            "tags": []
          }
        }
      ]
    },
    {
      "metadata": {
        "id": "M8i_cdMUoj4A",
        "colab_type": "text"
      },
      "cell_type": "markdown",
      "source": [
        "## Bubble sort\n",
        "\n",
        "Here we end the loop over all elements once no swap of number occurs - in other words the element are sorted and in the right order. Check what happens when you run the cell again and sort the sorted data? "
      ]
    },
    {
      "metadata": {
        "id": "E5-6fozaoAbn",
        "colab_type": "code",
        "colab": {}
      },
      "cell_type": "code",
      "source": [
        "data=[2,5,7,11,2,1,4,8,12,3,7]\n",
        "n=len(data)"
      ],
      "execution_count": 0,
      "outputs": []
    },
    {
      "metadata": {
        "id": "JgWtRAwdoAbq",
        "colab_type": "code",
        "colab": {
          "base_uri": "https://localhost:8080/",
          "height": 374
        },
        "outputId": "d7c81b33-e783-456c-c726-cf63792d6d91"
      },
      "cell_type": "code",
      "source": [
        "swap=True\n",
        "\n",
        "for j in range(n):\n",
        "  if (swap):\n",
        "    swap=False\n",
        "    for i in range(n-1):\n",
        "      if data[i]>data[i+1]:\n",
        "        temp = data[i]\n",
        "        data[i] = data[i+1]\n",
        "        data[i+1] = temp\n",
        "        swap=True\n",
        "      updateGraph(i,data)"
      ],
      "execution_count": 11,
      "outputs": [
        {
          "output_type": "display_data",
          "data": {
            "image/png": "[encoded data removed]",
            "text/plain": [
              "<Figure size 864x432 with 1 Axes>"
            ]
          },
          "metadata": {
            "tags": []
          }
        }
      ]
    },
    {
      "metadata": {
        "id": "vetjhl8SoAbt",
        "colab_type": "code",
        "colab": {}
      },
      "cell_type": "code",
      "source": [
        ""
      ],
      "execution_count": 0,
      "outputs": []
    }
  ]
}