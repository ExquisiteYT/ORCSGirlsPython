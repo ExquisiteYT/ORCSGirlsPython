{
  "nbformat": 4,
  "nbformat_minor": 0,
  "metadata": {
    "colab": {
      "name": "Curves.ipynb",
      "provenance": [],
      "collapsed_sections": [],
      "toc_visible": true,
      "include_colab_link": true
    },
    "kernelspec": {
      "display_name": "Python 3",
      "language": "python",
      "name": "python3"
    }
  },
  "cells": [
    {
      "cell_type": "markdown",
      "metadata": {
        "id": "view-in-github",
        "colab_type": "text"
      },
      "source": [
        "<a href=\"https://colab.research.google.com/github/tproffen/ORCSGirlsPython/blob/master/ArtisticMath/Activity%201%20--%20Curves.ipynb\" target=\"_parent\"><img src=\"https://colab.research.google.com/assets/colab-badge.svg\" alt=\"Open In Colab\"/></a>"
      ]
    },
    {
      "cell_type": "markdown",
      "metadata": {
        "id": "OJTK0vIDpw1q"
      },
      "source": [
        "<img src=\"https://github.com/tproffen/ORCSGirlsPython/blob/master/MachineLearning/Images/PoweredTechGirlz.png?raw=1\" width=\"10%\" align=\"right\" hpsace=\"50\">\n",
        "\n",
        "# Demo Activity: Artistic Math using Curves \n",
        "\n",
        "Demo how to use the turtle functions and prefefined functions."
      ]
    },
    {
      "cell_type": "markdown",
      "metadata": {
        "id": "axlORNV3sNnV"
      },
      "source": [
        "## Turtle Commands\r\n",
        "\r\n",
        "These activities use a modified version of [ColabTurtle](https://github.com/tolgaatam/ColabTurtle) developed by [Tolga Atam](https://github.com/tolgaatam). Here is a list of commands you can use to draw.\r\n",
        "\r\n",
        "* **`initializeTurtle(initial_speed=DEFAULT_SPEED, initial_window_size=DEFAULT_WINDOW_SIZE)`** Initializes the drawing display. This command needs to be called *first*. The parameters are options. For example `initializeTurtle()` will create a drawing area with the default size and drawing speed. To create a area of e.g. 1000 x 800 pixles, you would use the command `initializeTurtle(initial_window_size=(1000,800))`\r\n",
        "* **`forward(units)`** Moves the turtle (pen) forward by the amount `units`. \r\n",
        "* **`backward(units)`** Moves the turtle (pen) backward by the amount `units`. \r\n",
        "* **`right(degrees)`**  Turns the direction of the turtle (pen) to the right by `degrees`.\r\n",
        "* **`face(degrees)`** Sets the direction or heading  of the turtle (pen) to `degrees`.\r\n",
        "* **`left(degrees)`** Turns the direction of the turtle (pen) to the left by `degrees`.\r\n",
        "* **`penup()`** Pen up. No lines will be drawn.\r\n",
        "* **`pendown()`** Pen down. Lines between points will be drawn.\r\n",
        "* **`speed(speed)`** Set drawing speed to `speed` (1:slowest, 13: fastest).\r\n",
        "* **`setx(x)`** Set turtle x position to `x`.\r\n",
        "* **`sety(y)`** Set turtle y position to `y`.\r\n",
        "* **`getx()`** Get the current x position of the turtle.\r\n",
        "* **`gety()`** Get the current y position of the turtle.\r\n",
        "* **`goto(x, y)`** Set turtle position to `x,y`.\r\n",
        "* **`showturtle()`** Show the turtle symbol on drawing.\r\n",
        "* **`hideturtle()`** Hide the turtle symbol on drawing.\r\n",
        "* **`liveon()`** Show drawing step by step.\r\n",
        "* **`liveoff()`** Do not show drawing until `show()` command.\r\n",
        "* **`show()`** Show current drawing.\r\n",
        "* **`bgcolor(color)`** Set background color to `color` (CSS color names and #xxxxxx format allowed).\r\n",
        "* **`color(color)`** Set line color to `color` (CSS color names and #xxxxxx format allowed).\r\n",
        "* **`width(width)`** Set line width."
      ]
    },
    {
      "cell_type": "code",
      "metadata": {
        "id": "kBxoXL4tqIDq"
      },
      "source": [
        "!curl -s -o setup.sh https://raw.githubusercontent.com/tproffen/ORCSGirlsPython/master/ArtisticMath/Helpers/setup_activity1.sh\n",
        "!bash setup.sh"
      ],
      "execution_count": null,
      "outputs": []
    },
    {
      "cell_type": "code",
      "metadata": {
        "id": "fHnjJndmqIED"
      },
      "source": [
        "from Helpers.helpers import *"
      ],
      "execution_count": null,
      "outputs": []
    },
    {
      "cell_type": "markdown",
      "metadata": {
        "id": "9OAgPfQq3Rvu"
      },
      "source": [
        "## Program your own Cardioid\r\n",
        "\r\n",
        "Note helpers import arange from Numpy allowing simple for loops with float increments making the code easier. Also the conversion from fload x and y to integer values now happens in the turtle library."
      ]
    },
    {
      "cell_type": "code",
      "metadata": {
        "id": "Zk5XBvnCzcAm"
      },
      "source": [
        "initializeTurtle(initial_window_size=(1000,600))\r\n",
        "\r\n",
        "xstart=500\r\n",
        "ystart=300\r\n",
        "a=100\r\n",
        "\r\n",
        "for t in arange(0,6.4,0.1):\r\n",
        "  x = a*(math.cos(t) - math.cos(2*t))\r\n",
        "  y = a*(math.sin(t) - math.sin(2*t))\r\n",
        "  goto (x+xstart, y+ystart)\r\n",
        "\r\n",
        "show()"
      ],
      "execution_count": null,
      "outputs": []
    },
    {
      "cell_type": "markdown",
      "metadata": {
        "id": "WZc9qGgosMqX"
      },
      "source": [
        "## Shape Functions\r\n",
        "\r\n",
        "There are a number of predefined functions to play with.\r\n",
        "\r\n",
        "* **`def roseCurve(x_start, y_start, sizefactor, petalsCount)`**:\r\n",
        "* **`def parabola(x_start, y_start, sizefactor)`**:\r\n",
        "* **`def spiral(x_start, y_start, sizefactor, spiralLength)`**:\r\n",
        "* **`def circle(x_start, y_start, sizefactor)`**:\r\n",
        "* **`def polygon(x_start, y_start, sizefactor, numSides)`**:\r\n",
        "* **`def bowtie(x_start, y_start, sizefactor)`**:\r\n",
        "\r\n",
        "And there is a helper function to draw a grid \r\n",
        "\r\n",
        "* **`def grid(delta)`**:\r\n"
      ]
    },
    {
      "cell_type": "code",
      "metadata": {
        "id": "vmJaaArIcyRO"
      },
      "source": [
        "initializeTurtle(initial_window_size=(1000,600))\r\n",
        "\r\n",
        "# Settings like color, line width, ..\r\n",
        "bgcolor('#dddddd')\r\n",
        "color('red')\r\n",
        "width(1)\r\n",
        "hideturtle()\r\n",
        "liveoff()\r\n",
        "\r\n",
        "# Draw a light grey grid spaced 100\r\n",
        "color('#aaaaaa')\r\n",
        "grid(100)\r\n",
        "\r\n",
        "color('red')\r\n",
        "\r\n",
        "roseCurve(100, 200, 100, 13)\r\n",
        "parabola(400, 200, 50)\r\n",
        "spiral(700,200,1,100)\r\n",
        "circle(100,500,100)\r\n",
        "polygon(400,500,100,3)\r\n",
        "bowtie(600,400,200)\r\n",
        "show()\r\n"
      ],
      "execution_count": null,
      "outputs": []
    }
  ]
}