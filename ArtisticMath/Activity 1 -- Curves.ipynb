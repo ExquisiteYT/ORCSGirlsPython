{
  "nbformat": 4,
  "nbformat_minor": 0,
  "metadata": {
    "colab": {
      "name": "Curves.ipynb",
      "provenance": [],
      "collapsed_sections": [],
      "include_colab_link": true
    },
    "kernelspec": {
      "display_name": "Python 3",
      "language": "python",
      "name": "python3"
    }
  },
  "cells": [
    {
      "cell_type": "markdown",
      "metadata": {
        "id": "view-in-github",
        "colab_type": "text"
      },
      "source": [
        "<a href=\"https://colab.research.google.com/github/tproffen/ORCSGirlsPython/blob/master/ArtisticMath/Activity%201%20--%20Curves.ipynb\" target=\"_parent\"><img src=\"https://colab.research.google.com/assets/colab-badge.svg\" alt=\"Open In Colab\"/></a>"
      ]
    },
    {
      "cell_type": "markdown",
      "metadata": {
        "id": "OJTK0vIDpw1q"
      },
      "source": [
        "<img src=\"https://github.com/tproffen/ORCSGirlsPython/blob/master/MachineLearning/Images/PoweredTechGirlz.png?raw=1\" width=\"10%\" align=\"right\" hpsace=\"50\">\n",
        "\n",
        "# Activity 1: Artistic Math using Curves \n",
        "\n",
        "Welcome text .."
      ]
    },
    {
      "cell_type": "code",
      "metadata": {
        "id": "kBxoXL4tqIDq"
      },
      "source": [
        "!curl -s -o setup.sh https://raw.githubusercontent.com/tproffen/ORCSGirlsPython/master/ArtisticMath/Helpers/setup_activity1.sh\n",
        "!bash setup.sh"
      ],
      "execution_count": null,
      "outputs": []
    },
    {
      "cell_type": "code",
      "metadata": {
        "id": "fHnjJndmqIED"
      },
      "source": [
        "from Helpers.helpers import *"
      ],
      "execution_count": null,
      "outputs": []
    },
    {
      "cell_type": "code",
      "metadata": {
        "id": "vmJaaArIcyRO"
      },
      "source": [
        "initializeTurtle(initial_window_size=(1000,600))\r\n",
        "bgcolor('#dddddd')\r\n",
        "color('red')\r\n",
        "width(1)\r\n",
        "hideturtle()\r\n",
        "\r\n",
        "liveoff()\r\n",
        "bowtie(200,200,10)\r\n",
        "show()"
      ],
      "execution_count": null,
      "outputs": []
    },
    {
      "cell_type": "code",
      "metadata": {
        "id": "hW5xeuEHZe4r"
      },
      "source": [
        ""
      ],
      "execution_count": null,
      "outputs": []
    }
  ]
}