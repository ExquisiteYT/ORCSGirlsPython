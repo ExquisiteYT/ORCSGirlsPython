{
  "nbformat": 4,
  "nbformat_minor": 0,
  "metadata": {
    "colab": {
      "name": "Curves.ipynb",
      "provenance": [],
      "collapsed_sections": [],
      "include_colab_link": true
    },
    "kernelspec": {
      "display_name": "Python 3",
      "language": "python",
      "name": "python3"
    }
  },
  "cells": [
    {
      "cell_type": "markdown",
      "metadata": {
        "id": "view-in-github",
        "colab_type": "text"
      },
      "source": [
        "<a href=\"https://colab.research.google.com/github/tproffen/ORCSGirlsPython/blob/master/ArtisticMath/Activity%201%20--%20Curves.ipynb\" target=\"_parent\"><img src=\"https://colab.research.google.com/assets/colab-badge.svg\" alt=\"Open In Colab\"/></a>"
      ]
    },
    {
      "cell_type": "markdown",
      "metadata": {
        "id": "OJTK0vIDpw1q"
      },
      "source": [
        "<img src=\"https://github.com/tproffen/ORCSGirlsPython/blob/master/MachineLearning/Images/PoweredTechGirlz.png?raw=1\" width=\"10%\" align=\"right\" hpsace=\"50\">\n",
        "\n",
        "# Activity 1: Artistic Math using Curves \n",
        "\n",
        "Welcome text .."
      ]
    },
    {
      "cell_type": "markdown",
      "metadata": {
        "id": "axlORNV3sNnV"
      },
      "source": [
        "## Turtle Commands\r\n",
        "\r\n",
        "These activities use a modified version of [ColabTurtle](https://github.com/tolgaatam/ColabTurtle) developed by [Tolga Atam](https://github.com/tolgaatam). Here is a list of commands you can use to draw.\r\n",
        "\r\n",
        "* **`initializeTurtle(initial_speed=DEFAULT_SPEED, initial_window_size=DEFAULT_WINDOW_SIZE)`** Initializes the drawing display. This command needs to be called *first*. The parameters are options. For example `initializeTurtle()` will create a drawing area with the default size and drawing speed. To create a area of e.g. 1000 x 800 pixles, you would use the command `initializeTurtle(initial_window_size=(1000,800))`\r\n",
        "* **`forward(units)`** Moves the turtle (pen) forward by the amount `units`. \r\n",
        "* **`backward(units)`** Moves the turtle (pen) backward by the amount `units`. \r\n",
        "* **`right(degrees)`**  Turns the direction of the turtle (pen) to the right by `degrees`.\r\n",
        "* **`face(degrees)`** Sets the direction or heading  of the turtle (pen) to `degrees`.\r\n",
        "* **`left(degrees)`** Turns the direction of the turtle (pen) to the left by `degrees`.\r\n",
        "* **`penup()`** Pen up. No lines will be drawn.\r\n",
        "* **`pendown()`** Pen down. Lines between points will be drawn.\r\n",
        "* **`speed(speed)`** Set drawing speed to `speed` (1:slowest, 13: fastest).\r\n",
        "* **`setx(x)`** Set turtle x position to `x`.\r\n",
        "* **`sety(y)`** Set turtle y position to `y`.\r\n",
        "* **`getx()`** Get the current x position of the turtle.\r\n",
        "* **`gety()`** Get the current y position of the turtle.\r\n",
        "* **`goto(x, y)`** Set turtle position to `x,y`.\r\n",
        "* **`showturtle()`** Show the turtle symbol on drawing.\r\n",
        "* **`hideturtle()`** Hide the turtle symbol on drawing.\r\n",
        "* **`liveon()`** Show drawing step by step.\r\n",
        "* **`liveoff()`** Do not show drawing until `show()` command.\r\n",
        "* **`show()`** Show current drawing.\r\n",
        "* **`bgcolor(color)`** Set background color to `color` (CSS color names and #xxxxxx format allowed).\r\n",
        "* **`color(color)`** Set line color to `color` (CSS color names and #xxxxxx format allowed).\r\n",
        "* **`width(width)`** Set line width."
      ]
    },
    {
      "cell_type": "code",
      "metadata": {
        "id": "kBxoXL4tqIDq"
      },
      "source": [
        "!curl -s -o setup.sh https://raw.githubusercontent.com/tproffen/ORCSGirlsPython/master/ArtisticMath/Helpers/setup_activity1.sh\n",
        "!bash setup.sh"
      ],
      "execution_count": null,
      "outputs": []
    },
    {
      "cell_type": "code",
      "metadata": {
        "id": "fHnjJndmqIED"
      },
      "source": [
        "from Helpers.helpers import *"
      ],
      "execution_count": null,
      "outputs": []
    },
    {
      "cell_type": "markdown",
      "metadata": {
        "id": "WZc9qGgosMqX"
      },
      "source": [
        ""
      ]
    },
    {
      "cell_type": "code",
      "metadata": {
        "id": "vmJaaArIcyRO"
      },
      "source": [
        "initializeTurtle(initial_window_size=(1000,600))\r\n",
        "\r\n",
        "# Settings like color, line width, ..\r\n",
        "bgcolor('#dddddd')\r\n",
        "color('red')\r\n",
        "width(1)\r\n",
        "hideturtle()\r\n",
        "liveoff()\r\n",
        "\r\n",
        "# Draw a light grey grid spaced 100\r\n",
        "color('#aaaaaa')\r\n",
        "grid(100)\r\n",
        "\r\n",
        "# Draw a red bowtie\r\n",
        "color('red')\r\n",
        "bowtie(200,200,10)\r\n",
        "show()\r\n",
        "\r\n",
        "# Draw a blue thick, rose pedal with an oppacity of 10% on top\r\n",
        "color('rgba(0,0,255,0.1)')\r\n",
        "width(4)\r\n",
        "roseCurve(350,350,100,10)\r\n",
        "show()"
      ],
      "execution_count": null,
      "outputs": []
    },
    {
      "cell_type": "code",
      "metadata": {
        "id": "hW5xeuEHZe4r"
      },
      "source": [
        ""
      ],
      "execution_count": null,
      "outputs": []
    }
  ]
}