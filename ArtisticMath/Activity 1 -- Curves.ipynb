{
  "nbformat": 4,
  "nbformat_minor": 0,
  "metadata": {
    "colab": {
      "name": "Curves.ipynb",
      "version": "0.3.2",
      "provenance": [],
      "collapsed_sections": [],
      "include_colab_link": true
    },
    "kernelspec": {
      "display_name": "Python 3",
      "language": "python",
      "name": "python3"
    }
  },
  "cells": [
    {
      "cell_type": "markdown",
      "metadata": {
        "id": "view-in-github",
        "colab_type": "text"
      },
      "source": [
        "<a href=\"https://colab.research.google.com/github/tproffen/ORCSGirlsPython/blob/master/ArtisticMath/Activity%201%20--%20Curves.ipynb\" target=\"_parent\"><img src=\"https://colab.research.google.com/assets/colab-badge.svg\" alt=\"Open In Colab\"/></a>"
      ]
    },
    {
      "metadata": {
        "colab_type": "text",
        "id": "OJTK0vIDpw1q"
      },
      "cell_type": "markdown",
      "source": [
        "<img src=\"https://github.com/tproffen/ORCSGirlsPython/blob/master/MachineLearning/Images/PoweredTechGirlz.png?raw=1\" width=\"10%\" align=\"right\" hpsace=\"50\">\n",
        "\n",
        "# Activity 2: Bubble Sort \n",
        "\n",
        "After we tried it 'unplugged', lets try bubble sort in Python. First run the cells below for some needed setup."
      ]
    },
    {
      "metadata": {
        "id": "kBxoXL4tqIDq",
        "colab_type": "code",
        "colab": {}
      },
      "cell_type": "code",
      "source": [
        "!curl -s -o setup.sh https://raw.githubusercontent.com/tproffen/ORCSGirlsPython/master/ArtisticMath/Helpers/setup_activity1.sh\n",
        "!bash setup.sh"
      ],
      "execution_count": 0,
      "outputs": []
    },
    {
      "metadata": {
        "colab_type": "code",
        "id": "GLtyldM6ixcn",
        "colab": {}
      },
      "cell_type": "code",
      "source": [
        "%matplotlib inline\n",
        "import numpy as np\n",
        "from Helpers.helpers import *"
      ],
      "execution_count": 0,
      "outputs": []
    },
    {
      "metadata": {
        "id": "qUpg_KvmqIDu",
        "colab_type": "text"
      },
      "cell_type": "markdown",
      "source": [
        "## Data\n",
        "\n",
        "Here we setup our data and store the length of the list in variable ```n```.  Feel free to change the numbers.\n",
        "\n"
      ]
    },
    {
      "metadata": {
        "id": "YE2WOppMqIDv",
        "colab_type": "code",
        "colab": {}
      },
      "cell_type": "code",
      "source": [
        "data=[2,5,7,11,2,1,4,8,12,3,7]\n",
        "n=len(data)\n",
        "\n",
        "print (\"Data: \",data)\n",
        "print (\"Length: \",n)"
      ],
      "execution_count": 0,
      "outputs": []
    },
    {
      "metadata": {
        "id": "AZ_9rxCKGUjP",
        "colab_type": "text"
      },
      "cell_type": "markdown",
      "source": [
        "We have a helper function called ```updateGraph(i,data)``` that shows a graph of the data passed as second argument which for use is calles ```data```. This first parameter ```i``` tells the function which elements to color different, so for example in a loop we can see progress.\n",
        "\n",
        "Let's try it below. Change the first argument to numbers between 0 and the length of your data list minus 1. Do you see what you expect?\n"
      ]
    },
    {
      "metadata": {
        "id": "cwg8kiakqIDx",
        "colab_type": "code",
        "colab": {}
      },
      "cell_type": "code",
      "source": [
        "updateGraph(1,data)"
      ],
      "execution_count": 0,
      "outputs": []
    },
    {
      "metadata": {
        "id": "7MRofCLHJOyK",
        "colab_type": "text"
      },
      "cell_type": "markdown",
      "source": [
        "## One sorting pass\n",
        "\n",
        "Ok, remember the unplugged activity? Below, add code that loops through the data and at every step, compare the data value with the one next to it (Hint: ```data[i]``` and ```data[i+1]```). Swap the values if they are not in order - in other words if ```data[i]>data[i+1]```. Inside the loop, call  ```updateGraph``` so you can see the progress.\n",
        "\n",
        "Add code below and watch what happens in a sorting pass. What happens when you run the cell (play button or ```shift+enter```) again and again?"
      ]
    },
    {
      "metadata": {
        "colab_type": "code",
        "id": "cSlbnyoQMGUo",
        "colab": {}
      },
      "cell_type": "code",
      "source": [
        "# Add your code here"
      ],
      "execution_count": 0,
      "outputs": []
    },
    {
      "metadata": {
        "id": "ISqaZeNJMQ0s",
        "colab_type": "text"
      },
      "cell_type": "markdown",
      "source": [
        "## Repeat sorting pass\n",
        "\n",
        "To be sure sorting finishes, we can simply repeat the sorting you coded above as many times as we have elements. So we set the data back to the original values. After that place the code for the single pass you wrote above (cut &paste) inside a loop over all elements."
      ]
    },
    {
      "metadata": {
        "id": "sMj-9_ymqID-",
        "colab_type": "code",
        "colab": {}
      },
      "cell_type": "code",
      "source": [
        "data=[2,5,7,11,2,1,4,8,12,3,7]\n",
        "\n",
        "# Add your code here. Start by copying the single pass code here and then add the outside loop."
      ],
      "execution_count": 0,
      "outputs": []
    },
    {
      "metadata": {
        "id": "3xvmN5uUM2N-",
        "colab_type": "text"
      },
      "cell_type": "markdown",
      "source": [
        "## How many time to repeat?\n",
        "\n",
        "The code above works, you mght have seen it keep running through the list even after the values are sorted? You might remember that wewant to stop __when no elements get swapped in a complete sorting pass__, in other words when to values get swapped in the inside loop of your code above.\n",
        "\n",
        "You can for example use a variable to check if a swap occured in a sorting pass. If not, you stop sorting."
      ]
    },
    {
      "metadata": {
        "id": "L-8ZlP9AqIEA",
        "colab_type": "code",
        "colab": {}
      },
      "cell_type": "code",
      "source": [
        "data=[2,5,7,11,2,1,4,8,12,3,7]\n",
        "\n",
        "# Add your code here. Start by copying the sorting code above. \n",
        "# Then add a variable to keep track of if swaps occured in a pass."
      ],
      "execution_count": 0,
      "outputs": []
    },
    {
      "metadata": {
        "id": "fHnjJndmqIED",
        "colab_type": "code",
        "colab": {}
      },
      "cell_type": "code",
      "source": [
        ""
      ],
      "execution_count": 0,
      "outputs": []
    }
  ]
}