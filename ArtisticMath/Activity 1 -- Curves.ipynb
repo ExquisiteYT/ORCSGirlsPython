{
  "nbformat": 4,
  "nbformat_minor": 0,
  "metadata": {
    "colab": {
      "name": "Curves.ipynb",
      "provenance": [],
      "collapsed_sections": [],
      "include_colab_link": true
    },
    "kernelspec": {
      "display_name": "Python 3",
      "language": "python",
      "name": "python3"
    }
  },
  "cells": [
    {
      "cell_type": "markdown",
      "metadata": {
        "id": "view-in-github",
        "colab_type": "text"
      },
      "source": [
        "<a href=\"https://colab.research.google.com/github/tproffen/ORCSGirlsPython/blob/master/ArtisticMath/Activity%201%20--%20Curves.ipynb\" target=\"_parent\"><img src=\"https://colab.research.google.com/assets/colab-badge.svg\" alt=\"Open In Colab\"/></a>"
      ]
    },
    {
      "cell_type": "markdown",
      "metadata": {
        "id": "OJTK0vIDpw1q"
      },
      "source": [
        "<img src=\"https://github.com/tproffen/ORCSGirlsPython/blob/master/MachineLearning/Images/PoweredTechGirlz.png?raw=1\" width=\"10%\" align=\"right\" hpsace=\"50\">\n",
        "\n",
        "# Demo Activity: Artistic Math using Curves \n",
        "\n",
        "Demo how to use the turtle functions and prefefined functions."
      ]
    },
    {
      "cell_type": "markdown",
      "metadata": {
        "id": "axlORNV3sNnV"
      },
      "source": [
        "## Turtle Commands\r\n",
        "\r\n",
        "These activities use a modified version of [ColabTurtle](https://github.com/tolgaatam/ColabTurtle) developed by [Tolga Atam](https://github.com/tolgaatam). Here is a list of commands you can use to draw.\r\n",
        "\r\n",
        "* **`initializeTurtle(initial_speed=DEFAULT_SPEED, initial_window_size=DEFAULT_WINDOW_SIZE)`** Initializes the drawing display. This command needs to be called *first*. The parameters are options. For example `initializeTurtle()` will create a drawing area with the default size and drawing speed. To create a area of e.g. 1000 x 800 pixles, you would use the command `initializeTurtle(initial_window_size=(1000,800))`\r\n",
        "* **`forward(units)`** Moves the turtle (pen) forward by the amount `units`. \r\n",
        "* **`backward(units)`** Moves the turtle (pen) backward by the amount `units`. \r\n",
        "* **`right(degrees)`**  Turns the direction of the turtle (pen) to the right by `degrees`.\r\n",
        "* **`face(degrees)`** Sets the direction or heading  of the turtle (pen) to `degrees`.\r\n",
        "* **`left(degrees)`** Turns the direction of the turtle (pen) to the left by `degrees`.\r\n",
        "* **`penup()`** Pen up. No lines will be drawn.\r\n",
        "* **`pendown()`** Pen down. Lines between points will be drawn.\r\n",
        "* **`speed(speed)`** Set drawing speed to `speed` (1:slowest, 13: fastest).\r\n",
        "* **`setx(x)`** Set turtle x position to `x`.\r\n",
        "* **`sety(y)`** Set turtle y position to `y`.\r\n",
        "* **`getx()`** Get the current x position of the turtle.\r\n",
        "* **`gety()`** Get the current y position of the turtle.\r\n",
        "* **`goto(x, y)`** Set turtle position to `x,y`.\r\n",
        "* **`showturtle()`** Show the turtle symbol on drawing.\r\n",
        "* **`hideturtle()`** Hide the turtle symbol on drawing.\r\n",
        "* **`liveon()`** Show drawing step by step.\r\n",
        "* **`liveoff()`** Do not show drawing until `show()` command.\r\n",
        "* **`show()`** Show current drawing.\r\n",
        "* **`bgcolor(color)`** Set background color to `color` (CSS color names and #xxxxxx format allowed).\r\n",
        "* **`color(color)`** Set line color to `color` (CSS color names and #xxxxxx format allowed).\r\n",
        "* **`width(width)`** Set line width."
      ]
    },
    {
      "cell_type": "code",
      "metadata": {
        "id": "kBxoXL4tqIDq",
        "outputId": "b14902f9-6deb-4138-c67d-03a4909be311",
        "colab": {
          "base_uri": "https://localhost:8080/"
        }
      },
      "source": [
        "!curl -s -o setup.sh https://raw.githubusercontent.com/tproffen/ORCSGirlsPython/master/ArtisticMath/Helpers/setup_activity1.sh\n",
        "!bash setup.sh"
      ],
      "execution_count": 1,
      "outputs": [
        {
          "output_type": "stream",
          "text": [
            "Fetching needed files ..\n",
            "Done\n"
          ],
          "name": "stdout"
        }
      ]
    },
    {
      "cell_type": "code",
      "metadata": {
        "id": "fHnjJndmqIED"
      },
      "source": [
        "from Helpers.helpers import *"
      ],
      "execution_count": 8,
      "outputs": []
    },
    {
      "cell_type": "markdown",
      "metadata": {
        "id": "9OAgPfQq3Rvu"
      },
      "source": [
        "## Program your own Cardioid\r\n",
        "\r\n",
        "Note helpers import arange from Numpy allowing simple for loops with float increments making the code easier. Also the conversion from fload x and y to integer values now happens in the turtle library."
      ]
    },
    {
      "cell_type": "code",
      "metadata": {
        "id": "Zk5XBvnCzcAm",
        "outputId": "baf2a530-61e0-4318-9474-8768c03bb669",
        "colab": {
          "base_uri": "https://localhost:8080/",
          "height": 642
        }
      },
      "source": [
        "initializeTurtle(initial_window_size=(1000,600))\r\n",
        "\r\n",
        "xstart=500\r\n",
        "ystart=300\r\n",
        "a=100\r\n",
        "\r\n",
        "for t in arange(0,6.4,0.1):\r\n",
        "  x = a*(math.cos(t) - math.cos(2*t))\r\n",
        "  y = a*(math.sin(t) - math.sin(2*t))\r\n",
        "  goto (x+xstart, y+ystart)\r\n",
        "\r\n",
        "show()"
      ],
      "execution_count": 16,
      "outputs": [
        {
          "output_type": "display_data",
          "data": {
            "text/html": [
              "\n",
              "      <svg width=\"1000\" height=\"600\">\n",
              "        <rect width=\"100%\" height=\"100%\" fill=\"black\"/>\n",
              "        <line x1=\"500\" y1=\"300\" x2=\"500\" y2=\"300\" stroke-linecap=\"round\" style=\"stroke:white;stroke-width:4\"/><line x1=\"500\" y1=\"300\" x2=\"501\" y2=\"290\" stroke-linecap=\"round\" style=\"stroke:white;stroke-width:4\"/><line x1=\"501\" y1=\"290\" x2=\"506\" y2=\"281\" stroke-linecap=\"round\" style=\"stroke:white;stroke-width:4\"/><line x1=\"506\" y1=\"281\" x2=\"513\" y2=\"273\" stroke-linecap=\"round\" style=\"stroke:white;stroke-width:4\"/><line x1=\"513\" y1=\"273\" x2=\"522\" y2=\"267\" stroke-linecap=\"round\" style=\"stroke:white;stroke-width:4\"/><line x1=\"522\" y1=\"267\" x2=\"534\" y2=\"264\" stroke-linecap=\"round\" style=\"stroke:white;stroke-width:4\"/><line x1=\"534\" y1=\"264\" x2=\"546\" y2=\"263\" stroke-linecap=\"round\" style=\"stroke:white;stroke-width:4\"/><line x1=\"546\" y1=\"263\" x2=\"559\" y2=\"266\" stroke-linecap=\"round\" style=\"stroke:white;stroke-width:4\"/><line x1=\"559\" y1=\"266\" x2=\"573\" y2=\"272\" stroke-linecap=\"round\" style=\"stroke:white;stroke-width:4\"/><line x1=\"573\" y1=\"272\" x2=\"585\" y2=\"281\" stroke-linecap=\"round\" style=\"stroke:white;stroke-width:4\"/><line x1=\"585\" y1=\"281\" x2=\"596\" y2=\"293\" stroke-linecap=\"round\" style=\"stroke:white;stroke-width:4\"/><line x1=\"596\" y1=\"293\" x2=\"604\" y2=\"308\" stroke-linecap=\"round\" style=\"stroke:white;stroke-width:4\"/><line x1=\"604\" y1=\"308\" x2=\"610\" y2=\"326\" stroke-linecap=\"round\" style=\"stroke:white;stroke-width:4\"/><line x1=\"610\" y1=\"326\" x2=\"612\" y2=\"345\" stroke-linecap=\"round\" style=\"stroke:white;stroke-width:4\"/><line x1=\"612\" y1=\"345\" x2=\"611\" y2=\"365\" stroke-linecap=\"round\" style=\"stroke:white;stroke-width:4\"/><line x1=\"611\" y1=\"365\" x2=\"606\" y2=\"386\" stroke-linecap=\"round\" style=\"stroke:white;stroke-width:4\"/><line x1=\"606\" y1=\"386\" x2=\"597\" y2=\"406\" stroke-linecap=\"round\" style=\"stroke:white;stroke-width:4\"/><line x1=\"597\" y1=\"406\" x2=\"584\" y2=\"425\" stroke-linecap=\"round\" style=\"stroke:white;stroke-width:4\"/><line x1=\"584\" y1=\"425\" x2=\"567\" y2=\"442\" stroke-linecap=\"round\" style=\"stroke:white;stroke-width:4\"/><line x1=\"567\" y1=\"442\" x2=\"547\" y2=\"456\" stroke-linecap=\"round\" style=\"stroke:white;stroke-width:4\"/><line x1=\"547\" y1=\"456\" x2=\"524\" y2=\"467\" stroke-linecap=\"round\" style=\"stroke:white;stroke-width:4\"/><line x1=\"524\" y1=\"467\" x2=\"499\" y2=\"473\" stroke-linecap=\"round\" style=\"stroke:white;stroke-width:4\"/><line x1=\"499\" y1=\"473\" x2=\"472\" y2=\"476\" stroke-linecap=\"round\" style=\"stroke:white;stroke-width:4\"/><line x1=\"472\" y1=\"476\" x2=\"445\" y2=\"474\" stroke-linecap=\"round\" style=\"stroke:white;stroke-width:4\"/><line x1=\"445\" y1=\"474\" x2=\"418\" y2=\"467\" stroke-linecap=\"round\" style=\"stroke:white;stroke-width:4\"/><line x1=\"418\" y1=\"467\" x2=\"392\" y2=\"456\" stroke-linecap=\"round\" style=\"stroke:white;stroke-width:4\"/><line x1=\"392\" y1=\"456\" x2=\"367\" y2=\"440\" stroke-linecap=\"round\" style=\"stroke:white;stroke-width:4\"/><line x1=\"367\" y1=\"440\" x2=\"346\" y2=\"420\" stroke-linecap=\"round\" style=\"stroke:white;stroke-width:4\"/><line x1=\"346\" y1=\"420\" x2=\"328\" y2=\"397\" stroke-linecap=\"round\" style=\"stroke:white;stroke-width:4\"/><line x1=\"328\" y1=\"397\" x2=\"314\" y2=\"370\" stroke-linecap=\"round\" style=\"stroke:white;stroke-width:4\"/><line x1=\"314\" y1=\"370\" x2=\"305\" y2=\"342\" stroke-linecap=\"round\" style=\"stroke:white;stroke-width:4\"/><line x1=\"305\" y1=\"342\" x2=\"300\" y2=\"312\" stroke-linecap=\"round\" style=\"stroke:white;stroke-width:4\"/><line x1=\"300\" y1=\"312\" x2=\"301\" y2=\"283\" stroke-linecap=\"round\" style=\"stroke:white;stroke-width:4\"/><line x1=\"301\" y1=\"283\" x2=\"306\" y2=\"253\" stroke-linecap=\"round\" style=\"stroke:white;stroke-width:4\"/><line x1=\"306\" y1=\"253\" x2=\"316\" y2=\"225\" stroke-linecap=\"round\" style=\"stroke:white;stroke-width:4\"/><line x1=\"316\" y1=\"225\" x2=\"331\" y2=\"199\" stroke-linecap=\"round\" style=\"stroke:white;stroke-width:4\"/><line x1=\"331\" y1=\"199\" x2=\"349\" y2=\"176\" stroke-linecap=\"round\" style=\"stroke:white;stroke-width:4\"/><line x1=\"349\" y1=\"176\" x2=\"371\" y2=\"157\" stroke-linecap=\"round\" style=\"stroke:white;stroke-width:4\"/><line x1=\"371\" y1=\"157\" x2=\"396\" y2=\"142\" stroke-linecap=\"round\" style=\"stroke:white;stroke-width:4\"/><line x1=\"396\" y1=\"142\" x2=\"422\" y2=\"131\" stroke-linecap=\"round\" style=\"stroke:white;stroke-width:4\"/><line x1=\"422\" y1=\"131\" x2=\"449\" y2=\"125\" stroke-linecap=\"round\" style=\"stroke:white;stroke-width:4\"/><line x1=\"449\" y1=\"125\" x2=\"476\" y2=\"124\" stroke-linecap=\"round\" style=\"stroke:white;stroke-width:4\"/><line x1=\"476\" y1=\"124\" x2=\"503\" y2=\"127\" stroke-linecap=\"round\" style=\"stroke:white;stroke-width:4\"/><line x1=\"503\" y1=\"127\" x2=\"528\" y2=\"135\" stroke-linecap=\"round\" style=\"stroke:white;stroke-width:4\"/><line x1=\"528\" y1=\"135\" x2=\"550\" y2=\"146\" stroke-linecap=\"round\" style=\"stroke:white;stroke-width:4\"/><line x1=\"550\" y1=\"146\" x2=\"570\" y2=\"161\" stroke-linecap=\"round\" style=\"stroke:white;stroke-width:4\"/><line x1=\"570\" y1=\"161\" x2=\"586\" y2=\"178\" stroke-linecap=\"round\" style=\"stroke:white;stroke-width:4\"/><line x1=\"586\" y1=\"178\" x2=\"599\" y2=\"198\" stroke-linecap=\"round\" style=\"stroke:white;stroke-width:4\"/><line x1=\"599\" y1=\"198\" x2=\"607\" y2=\"218\" stroke-linecap=\"round\" style=\"stroke:white;stroke-width:4\"/><line x1=\"607\" y1=\"218\" x2=\"612\" y2=\"238\" stroke-linecap=\"round\" style=\"stroke:white;stroke-width:4\"/><line x1=\"612\" y1=\"238\" x2=\"612\" y2=\"259\" stroke-linecap=\"round\" style=\"stroke:white;stroke-width:4\"/><line x1=\"612\" y1=\"259\" x2=\"609\" y2=\"277\" stroke-linecap=\"round\" style=\"stroke:white;stroke-width:4\"/><line x1=\"609\" y1=\"277\" x2=\"603\" y2=\"294\" stroke-linecap=\"round\" style=\"stroke:white;stroke-width:4\"/><line x1=\"603\" y1=\"294\" x2=\"594\" y2=\"309\" stroke-linecap=\"round\" style=\"stroke:white;stroke-width:4\"/><line x1=\"594\" y1=\"309\" x2=\"583\" y2=\"321\" stroke-linecap=\"round\" style=\"stroke:white;stroke-width:4\"/><line x1=\"583\" y1=\"321\" x2=\"570\" y2=\"329\" stroke-linecap=\"round\" style=\"stroke:white;stroke-width:4\"/><line x1=\"570\" y1=\"329\" x2=\"557\" y2=\"335\" stroke-linecap=\"round\" style=\"stroke:white;stroke-width:4\"/><line x1=\"557\" y1=\"335\" x2=\"544\" y2=\"337\" stroke-linecap=\"round\" style=\"stroke:white;stroke-width:4\"/><line x1=\"544\" y1=\"337\" x2=\"532\" y2=\"336\" stroke-linecap=\"round\" style=\"stroke:white;stroke-width:4\"/><line x1=\"532\" y1=\"336\" x2=\"521\" y2=\"332\" stroke-linecap=\"round\" style=\"stroke:white;stroke-width:4\"/><line x1=\"521\" y1=\"332\" x2=\"512\" y2=\"326\" stroke-linecap=\"round\" style=\"stroke:white;stroke-width:4\"/><line x1=\"512\" y1=\"326\" x2=\"505\" y2=\"318\" stroke-linecap=\"round\" style=\"stroke:white;stroke-width:4\"/><line x1=\"505\" y1=\"318\" x2=\"501\" y2=\"308\" stroke-linecap=\"round\" style=\"stroke:white;stroke-width:4\"/><line x1=\"501\" y1=\"308\" x2=\"500\" y2=\"298\" stroke-linecap=\"round\" style=\"stroke:white;stroke-width:4\"/>\n",
              "        \n",
              "      <g visibility=visible transform=\"rotate(180,500,298) translate(500, 298)\">\n",
              "        <circle stroke=\"white\" stroke-width=\"3\" fill=\"transparent\" r=\"12\" cx=\"0\" cy=\"0\"/>\n",
              "        <polygon points=\"0,19 3,16 -3,16\" style=\"fill:white;stroke:white;stroke-width:2\"/>\n",
              "      </g>\n",
              "    \n",
              "      </svg>\n",
              "    <script>\n",
              "function saveSVG() {\n",
              "  var svg = document.querySelector( \"svg\" );\n",
              "  var svgData = new XMLSerializer().serializeToString( svg ); \n",
              "  var canvas = document.createElement( \"canvas\" );\n",
              "  var ctx = canvas.getContext( \"2d\" );\n",
              "  var img = document.createElement( \"img\" );\n",
              "  img.setAttribute( \"src\", \"data:image/svg+xml;base64,\" + btoa( svgData ) );\n",
              "\n",
              "  img.onload = function() {\n",
              "    ctx.canvas.width=800;\n",
              "    ctx.canvas.height=500;\n",
              "    ctx.drawImage( img, 0, 0 );\n",
              "    \n",
              "    var a = document.createElement(\"a\");\n",
              "    a.download = \"turtle.png\";\n",
              "    a.href = canvas.toDataURL(\"image/png\");\n",
              "    a.click();};\n",
              "}\n",
              "</script>\n",
              "<div><button onclick=\"saveSVG()\">Save image as PNG</button>\n"
            ],
            "text/plain": [
              "<IPython.core.display.HTML object>"
            ]
          },
          "metadata": {
            "tags": []
          }
        }
      ]
    },
    {
      "cell_type": "markdown",
      "metadata": {
        "id": "WZc9qGgosMqX"
      },
      "source": [
        "## Shape Functions\r\n",
        "\r\n",
        "There are a number of predefined functions to play with.\r\n",
        "\r\n",
        "* **`def roseCurve(x_start, y_start, sizefactor, petalsCount)`**:\r\n",
        "* **`def parabola(x_start, y_start, sizefactor)`**:\r\n",
        "* **`def spiral(x_start, y_start, sizefactor, spiralLength)`**:\r\n",
        "* **`def circle(x_start, y_start, sizefactor)`**:\r\n",
        "* **`def polygon(x_start, y_start, sizefactor, numSides)`**:\r\n",
        "* **`def bowtie(x_start, y_start, sizefactor)`**:\r\n",
        "\r\n",
        "And there is a helper function to draw a grid \r\n",
        "\r\n",
        "* **`def grid(delta)`**:\r\n"
      ]
    },
    {
      "cell_type": "code",
      "metadata": {
        "id": "vmJaaArIcyRO"
      },
      "source": [
        "initializeTurtle(initial_window_size=(1000,600))\r\n",
        "\r\n",
        "# Settings like color, line width, ..\r\n",
        "bgcolor('#dddddd')\r\n",
        "color('red')\r\n",
        "width(1)\r\n",
        "hideturtle()\r\n",
        "liveoff()\r\n",
        "\r\n",
        "# Draw a light grey grid spaced 100\r\n",
        "color('#aaaaaa')\r\n",
        "grid(100)\r\n",
        "\r\n",
        "# Draw a red bowtie\r\n",
        "color('red')\r\n",
        "bowtie(200,200,10)\r\n",
        "show()\r\n",
        "\r\n",
        "# Draw a blue thick, rose pedal with an oppacity of 10% on top\r\n",
        "color('rgba(0,0,255,0.1)')\r\n",
        "width(4)\r\n",
        "roseCurve(350,350,100,10)\r\n",
        "show()"
      ],
      "execution_count": null,
      "outputs": []
    },
    {
      "cell_type": "code",
      "metadata": {
        "id": "hW5xeuEHZe4r"
      },
      "source": [
        ""
      ],
      "execution_count": null,
      "outputs": []
    }
  ]
}