{
  "nbformat": 4,
  "nbformat_minor": 0,
  "metadata": {
    "colab": {
      "name": "Activity 3 -- Make Art",
      "provenance": []
    },
    "kernelspec": {
      "name": "python3",
      "display_name": "Python 3"
    }
  },
  "cells": [
    {
      "cell_type": "markdown",
      "metadata": {
        "id": "MzwIrb8coQbv"
      },
      "source": [
        "#Create your pattern!\r\n",
        "\r\n",
        "###Using the document on the orcsgirls.org/class page, find more equations of shapes and create more functions to draw the shapes. \r\n",
        "\r\n",
        "Once you have finished, share the notebook using the share button in the upper right hand corner.  Make sure you share the link that is share with everyone!"
      ]
    },
    {
      "cell_type": "code",
      "metadata": {
        "id": "v4VZnSuNBVvi"
      },
      "source": [
        "!curl -s -o setup.sh https://raw.githubusercontent.com/tproffen/ORCSGirlsPython/master/ArtisticMath/Helpers/setup_activities.sh\r\n",
        "!bash setup.sh\r\n",
        "from Helpers.helpers import *"
      ],
      "execution_count": null,
      "outputs": []
    },
    {
      "cell_type": "code",
      "metadata": {
        "id": "FK1l55N9oLQZ"
      },
      "source": [
        "initializeTurtle(initial_window_size=(1000,600))\r\n",
        "bgcolor('purple')\r\n",
        "color('white')\r\n",
        "width(1)\r\n",
        "hideturtle()\r\n",
        "liveoff()\r\n",
        "\r\n",
        "\r\n",
        "#add your commands below\r\n",
        "\r\n",
        "\r\n",
        "\r\n",
        "## add commands above me!\r\n",
        "show()"
      ],
      "execution_count": null,
      "outputs": []
    }
  ]
}