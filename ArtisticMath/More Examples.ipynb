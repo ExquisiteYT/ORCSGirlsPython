{
  "nbformat": 4,
  "nbformat_minor": 0,
  "metadata": {
    "colab": {
      "name": "More Examples.ipynb",
      "provenance": [],
      "collapsed_sections": [],
      "include_colab_link": true
    },
    "kernelspec": {
      "display_name": "Python 3",
      "language": "python",
      "name": "python3"
    }
  },
  "cells": [
    {
      "cell_type": "markdown",
      "metadata": {
        "id": "view-in-github",
        "colab_type": "text"
      },
      "source": [
        "<a href=\"https://colab.research.google.com/github/tproffen/ORCSGirlsPython/blob/master/ArtisticMath/More%20Examples.ipynb\" target=\"_parent\"><img src=\"https://colab.research.google.com/assets/colab-badge.svg\" alt=\"Open In Colab\"/></a>"
      ]
    },
    {
      "cell_type": "markdown",
      "metadata": {
        "id": "OJTK0vIDpw1q"
      },
      "source": [
        "<img src=\"https://github.com/tproffen/ORCSGirlsPython/blob/master/Images/PoweredTechGirlz.png?raw=1\" width=\"10%\" align=\"right\" hpsace=\"50\">\n",
        "\n",
        "# Examples: Artistic Math using Curves \n",
        "\n",
        "More examples how to use the turtle functions and prefefined functions."
      ]
    },
    {
      "cell_type": "markdown",
      "metadata": {
        "id": "axlORNV3sNnV"
      },
      "source": [
        "## Turtle Commands\r\n",
        "\r\n",
        "These activities use a modified version of [ColabTurtle](https://github.com/tolgaatam/ColabTurtle) developed by [Tolga Atam](https://github.com/tolgaatam). Here is a list of commands you can use to draw.\r\n",
        "\r\n",
        "* **`initializeTurtle(initial_speed=DEFAULT_SPEED, initial_window_size=DEFAULT_WINDOW_SIZE)`** Initializes the drawing display. This command needs to be called *first*. The parameters are options. For example `initializeTurtle()` will create a drawing area with the default size and drawing speed. To create a area of e.g. 1000 x 800 pixles, you would use the command `initializeTurtle(initial_window_size=(1000,800))`\r\n",
        "* **`forward(units)`** Moves the turtle (pen) forward by the amount `units`. \r\n",
        "* **`backward(units)`** Moves the turtle (pen) backward by the amount `units`. \r\n",
        "* **`right(degrees)`**  Turns the direction of the turtle (pen) to the right by `degrees`.\r\n",
        "* **`face(degrees)`** Sets the direction or heading  of the turtle (pen) to `degrees`.\r\n",
        "* **`left(degrees)`** Turns the direction of the turtle (pen) to the left by `degrees`.\r\n",
        "* **`penup()`** Pen up. No lines will be drawn.\r\n",
        "* **`pendown()`** Pen down. Lines between points will be drawn.\r\n",
        "* **`speed(speed)`** Set drawing speed to `speed` (1:slowest, 13: fastest).\r\n",
        "* **`setx(x)`** Set turtle x position to `x`.\r\n",
        "* **`sety(y)`** Set turtle y position to `y`.\r\n",
        "* **`getx()`** Get the current x position of the turtle.\r\n",
        "* **`gety()`** Get the current y position of the turtle.\r\n",
        "* **`goto(x, y)`** Set turtle position to `x,y`.\r\n",
        "* **`showturtle()`** Show the turtle symbol on drawing.\r\n",
        "* **`hideturtle()`** Hide the turtle symbol on drawing.\r\n",
        "* **`liveon()`** Show drawing step by step.\r\n",
        "* **`liveoff()`** Do not show drawing until `show()` command.\r\n",
        "* **`show()`** Show current drawing.\r\n",
        "* **`bgcolor(color)`** Set background color to `color` (CSS color names and #xxxxxx format allowed).\r\n",
        "* **`color(color)`** Set line color to `color` (CSS color names and #xxxxxx format allowed).\r\n",
        "* **`width(width)`** Set line width."
      ]
    },
    {
      "cell_type": "code",
      "metadata": {
        "id": "kBxoXL4tqIDq",
        "colab": {
          "base_uri": "https://localhost:8080/"
        },
        "outputId": "e2821783-1614-4407-f16f-cc7cebe25129"
      },
      "source": [
        "!curl -s -o setup.sh https://raw.githubusercontent.com/tproffen/ORCSGirlsPython/master/ArtisticMath/Helpers/setup_activities.sh\n",
        "!bash setup.sh"
      ],
      "execution_count": null,
      "outputs": [
        {
          "output_type": "stream",
          "text": [
            "Fetching needed files ..\n",
            "Done\n"
          ],
          "name": "stdout"
        }
      ]
    },
    {
      "cell_type": "code",
      "metadata": {
        "id": "fHnjJndmqIED"
      },
      "source": [
        "from Helpers.helpers import *"
      ],
      "execution_count": null,
      "outputs": []
    },
    {
      "cell_type": "markdown",
      "metadata": {
        "id": "9OAgPfQq3Rvu"
      },
      "source": [
        "## Program your own Cardioid\r\n",
        "\r\n",
        "Note helpers import arange from Numpy allowing simple for loops with float increments making the code easier. Also the conversion from fload x and y to integer values now happens in the turtle library."
      ]
    },
    {
      "cell_type": "code",
      "metadata": {
        "id": "Zk5XBvnCzcAm"
      },
      "source": [
        "initializeTurtle(initial_window_size=(1000,600))\r\n",
        "\r\n",
        "xstart=500\r\n",
        "ystart=300\r\n",
        "a=100\r\n",
        "\r\n",
        "for t in arange(0,6.4,0.1):\r\n",
        "  x = a*(math.cos(t) - math.cos(2*t))\r\n",
        "  y = a*(math.sin(t) - math.sin(2*t))\r\n",
        "  goto (x+xstart, y+ystart)\r\n",
        "\r\n",
        "show()"
      ],
      "execution_count": null,
      "outputs": []
    },
    {
      "cell_type": "markdown",
      "metadata": {
        "id": "WZc9qGgosMqX"
      },
      "source": [
        "## Shape Functions\r\n",
        "\r\n",
        "There are a number of predefined functions to play with.\r\n",
        "\r\n",
        "* **`roseCurve(x_start, y_start, sizefactor, petalsCount)`**:\r\n",
        "* **`parabola(x_start, y_start, sizefactor)`**:\r\n",
        "* **`spiral(x_start, y_start, sizefactor, spiralLength)`**:\r\n",
        "* **`circle(x_start, y_start, sizefactor)`**:\r\n",
        "* **`polygon(x_start, y_start, sizefactor, numSides)`**:\r\n",
        "* **`bowtie(x_start, y_start, sizefactor)`**:\r\n",
        "\r\n",
        "Fractals\r\n",
        "\r\n",
        "* **`snowflake(x_start, y_start, size, order)`** Complete snowflake around `x_start`, `y_start` with size `size`. The order can go from 0 to 4. Higher makes it very slow.\r\n",
        "* **`koch(size, order)`** Single fractal line (side of snowflake). It will start where the turtle is at. This is the recursive function making kinks in the line :)\r\n",
        "\r\n",
        "And there is a helper function to draw a grid \r\n",
        "\r\n",
        "* **`grid(delta)`**:\r\n"
      ]
    },
    {
      "cell_type": "code",
      "metadata": {
        "id": "vmJaaArIcyRO"
      },
      "source": [
        "initializeTurtle(initial_window_size=(1000,600))\r\n",
        "\r\n",
        "# Settings like color, line width, ..\r\n",
        "bgcolor('#dddddd')\r\n",
        "color('red')\r\n",
        "width(1)\r\n",
        "hideturtle()\r\n",
        "liveoff()\r\n",
        "\r\n",
        "# Draw a light grey grid spaced 100\r\n",
        "color('#aaaaaa')\r\n",
        "grid(100)\r\n",
        "\r\n",
        "color('red')\r\n",
        "\r\n",
        "roseCurve(100, 200, 100, 13)\r\n",
        "parabola(400, 200, 50)\r\n",
        "spiral(700,200,1,100)\r\n",
        "circle(100,500,100)\r\n",
        "polygon(400,500,100,3)\r\n",
        "bowtie(600,400,200)\r\n",
        "show()\r\n"
      ],
      "execution_count": null,
      "outputs": []
    },
    {
      "cell_type": "markdown",
      "metadata": {
        "id": "ewhYZZS8_Gqr"
      },
      "source": [
        "## Fractals\r\n",
        "\r\n",
        "Here is an example of a fractal - the Koch Snowflake. While the curves we have done so far are given by equations, these fractals are described by an algorithm and use *recursion* - in other words the function calls itself. More details are [here](https://python-with-science.readthedocs.io/en/latest/koch_fractal/koch_fractal.html) and much more detail is [here](http://paulbourke.net/fractals/fracintro/). Have fun."
      ]
    },
    {
      "cell_type": "code",
      "metadata": {
        "id": "nBj_aUZx_teX",
        "colab": {
          "base_uri": "https://localhost:8080/",
          "height": 642
        },
        "outputId": "d2292683-1ecf-428d-cbad-584e0b9e4c67"
      },
      "source": [
        "initializeTurtle(initial_window_size=(1000,600))\r\n",
        "\r\n",
        "# Settings like color, line width, ..\r\n",
        "bgcolor('#dddddd')\r\n",
        "color('red')\r\n",
        "width(1)\r\n",
        "hideturtle()\r\n",
        "liveoff()\r\n",
        "\r\n",
        "snowflake(150,300,175,0)\r\n",
        "snowflake(350,300,175,1)\r\n",
        "snowflake(550,300,175,2)\r\n",
        "snowflake(750,300,175,3)\r\n",
        "\r\n",
        "show()"
      ],
      "execution_count": null,
      "outputs": [
        {
          "output_type": "display_data",
          "data": {
            "text/html": [
              "\n",
              "      <svg width=\"1000\" height=\"600\">\n",
              "        <rect width=\"100%\" height=\"100%\" fill=\"#dddddd\"/>\n",
              "        <line x1=\"150.00000000000003\" y1=\"401.0\" x2=\"62.49999999999996\" y2=\"249.44555433772328\" stroke-linecap=\"round\" style=\"stroke:red;stroke-width:1\"/><line x1=\"62.49999999999996\" y1=\"249.44555433772328\" x2=\"237.49999999999994\" y2=\"249.44555433772328\" stroke-linecap=\"round\" style=\"stroke:red;stroke-width:1\"/><line x1=\"237.49999999999994\" y1=\"249.44555433772328\" x2=\"150.0\" y2=\"401.00000000000006\" stroke-linecap=\"round\" style=\"stroke:red;stroke-width:1\"/><line x1=\"400.50000000000006\" y1=\"387.46856578222827\" x2=\"349.9818514459078\" y2=\"358.3018991155616\" stroke-linecap=\"round\" style=\"stroke:red;stroke-width:1\"/><line x1=\"349.9818514459078\" y1=\"358.3018991155616\" x2=\"299.46370289181556\" y2=\"387.46856578222827\" stroke-linecap=\"round\" style=\"stroke:red;stroke-width:1\"/><line x1=\"299.46370289181556\" y1=\"387.46856578222827\" x2=\"299.46370289181556\" y2=\"329.13523244889495\" stroke-linecap=\"round\" style=\"stroke:red;stroke-width:1\"/><line x1=\"299.46370289181556\" y1=\"329.13523244889495\" x2=\"248.9455543377233\" y2=\"299.96856578222827\" stroke-linecap=\"round\" style=\"stroke:red;stroke-width:1\"/><line x1=\"248.9455543377233\" y1=\"299.96856578222827\" x2=\"299.46370289181556\" y2=\"270.8018991155616\" stroke-linecap=\"round\" style=\"stroke:red;stroke-width:1\"/><line x1=\"299.46370289181556\" y1=\"270.8018991155616\" x2=\"299.46370289181556\" y2=\"212.46856578222824\" stroke-linecap=\"round\" style=\"stroke:red;stroke-width:1\"/><line x1=\"299.46370289181556\" y1=\"212.46856578222824\" x2=\"349.9818514459078\" y2=\"241.6352324488949\" stroke-linecap=\"round\" style=\"stroke:red;stroke-width:1\"/><line x1=\"349.9818514459078\" y1=\"241.6352324488949\" x2=\"400.50000000000006\" y2=\"212.4685657822282\" stroke-linecap=\"round\" style=\"stroke:red;stroke-width:1\"/><line x1=\"400.50000000000006\" y1=\"212.4685657822282\" x2=\"400.50000000000006\" y2=\"270.8018991155615\" stroke-linecap=\"round\" style=\"stroke:red;stroke-width:1\"/><line x1=\"400.50000000000006\" y1=\"270.8018991155615\" x2=\"451.0181485540923\" y2=\"299.9685657822282\" stroke-linecap=\"round\" style=\"stroke:red;stroke-width:1\"/><line x1=\"451.0181485540923\" y1=\"299.9685657822282\" x2=\"400.50000000000006\" y2=\"329.1352324488949\" stroke-linecap=\"round\" style=\"stroke:red;stroke-width:1\"/><line x1=\"400.50000000000006\" y1=\"329.1352324488949\" x2=\"400.50000000000006\" y2=\"387.4685657822282\" stroke-linecap=\"round\" style=\"stroke:red;stroke-width:1\"/><line x1=\"637.4685657822283\" y1=\"350.5\" x2=\"618.0241213377839\" y2=\"350.5\" stroke-linecap=\"round\" style=\"stroke:red;stroke-width:1\"/><line x1=\"618.0241213377839\" y1=\"350.5\" x2=\"608.3018991155617\" y2=\"367.33938285136406\" stroke-linecap=\"round\" style=\"stroke:red;stroke-width:1\"/><line x1=\"608.3018991155617\" y1=\"367.33938285136406\" x2=\"598.5796768933394\" y2=\"350.5\" stroke-linecap=\"round\" style=\"stroke:red;stroke-width:1\"/><line x1=\"598.5796768933394\" y1=\"350.5\" x2=\"579.135232448895\" y2=\"350.5\" stroke-linecap=\"round\" style=\"stroke:red;stroke-width:1\"/><line x1=\"579.135232448895\" y1=\"350.5\" x2=\"569.4130102266728\" y2=\"367.33938285136406\" stroke-linecap=\"round\" style=\"stroke:red;stroke-width:1\"/><line x1=\"569.4130102266728\" y1=\"367.33938285136406\" x2=\"579.135232448895\" y2=\"384.1787657027281\" stroke-linecap=\"round\" style=\"stroke:red;stroke-width:1\"/><line x1=\"579.135232448895\" y1=\"384.1787657027281\" x2=\"559.6907880044505\" y2=\"384.1787657027281\" stroke-linecap=\"round\" style=\"stroke:red;stroke-width:1\"/><line x1=\"559.6907880044505\" y1=\"384.1787657027281\" x2=\"549.9685657822283\" y2=\"401.0181485540922\" stroke-linecap=\"round\" style=\"stroke:red;stroke-width:1\"/><line x1=\"549.9685657822283\" y1=\"401.0181485540922\" x2=\"540.246343560006\" y2=\"384.1787657027281\" stroke-linecap=\"round\" style=\"stroke:red;stroke-width:1\"/><line x1=\"540.246343560006\" y1=\"384.1787657027281\" x2=\"520.8018991155616\" y2=\"384.1787657027281\" stroke-linecap=\"round\" style=\"stroke:red;stroke-width:1\"/><line x1=\"520.8018991155616\" y1=\"384.1787657027281\" x2=\"530.5241213377838\" y2=\"367.33938285136406\" stroke-linecap=\"round\" style=\"stroke:red;stroke-width:1\"/><line x1=\"530.5241213377838\" y1=\"367.33938285136406\" x2=\"520.8018991155615\" y2=\"350.5\" stroke-linecap=\"round\" style=\"stroke:red;stroke-width:1\"/><line x1=\"520.8018991155615\" y1=\"350.5\" x2=\"501.357454671117\" y2=\"350.5\" stroke-linecap=\"round\" style=\"stroke:red;stroke-width:1\"/><line x1=\"501.357454671117\" y1=\"350.5\" x2=\"491.6352324488948\" y2=\"367.33938285136406\" stroke-linecap=\"round\" style=\"stroke:red;stroke-width:1\"/><line x1=\"491.6352324488948\" y1=\"367.33938285136406\" x2=\"481.91301022667255\" y2=\"350.5\" stroke-linecap=\"round\" style=\"stroke:red;stroke-width:1\"/><line x1=\"481.91301022667255\" y1=\"350.5\" x2=\"462.4685657822281\" y2=\"350.5\" stroke-linecap=\"round\" style=\"stroke:red;stroke-width:1\"/><line x1=\"462.4685657822281\" y1=\"350.5\" x2=\"472.1907880044503\" y2=\"333.66061714863594\" stroke-linecap=\"round\" style=\"stroke:red;stroke-width:1\"/><line x1=\"472.1907880044503\" y1=\"333.66061714863594\" x2=\"462.4685657822281\" y2=\"316.8212342972719\" stroke-linecap=\"round\" style=\"stroke:red;stroke-width:1\"/><line x1=\"462.4685657822281\" y1=\"316.8212342972719\" x2=\"481.91301022667255\" y2=\"316.8212342972719\" stroke-linecap=\"round\" style=\"stroke:red;stroke-width:1\"/><line x1=\"481.91301022667255\" y1=\"316.8212342972719\" x2=\"491.6352324488948\" y2=\"299.9818514459078\" stroke-linecap=\"round\" style=\"stroke:red;stroke-width:1\"/><line x1=\"491.6352324488948\" y1=\"299.9818514459078\" x2=\"481.91301022667255\" y2=\"283.14246859454374\" stroke-linecap=\"round\" style=\"stroke:red;stroke-width:1\"/><line x1=\"481.91301022667255\" y1=\"283.14246859454374\" x2=\"462.4685657822281\" y2=\"283.14246859454374\" stroke-linecap=\"round\" style=\"stroke:red;stroke-width:1\"/><line x1=\"462.4685657822281\" y1=\"283.14246859454374\" x2=\"472.1907880044503\" y2=\"266.3030857431797\" stroke-linecap=\"round\" style=\"stroke:red;stroke-width:1\"/><line x1=\"472.1907880044503\" y1=\"266.3030857431797\" x2=\"462.4685657822281\" y2=\"249.4637028918156\" stroke-linecap=\"round\" style=\"stroke:red;stroke-width:1\"/><line x1=\"462.4685657822281\" y1=\"249.4637028918156\" x2=\"481.91301022667255\" y2=\"249.4637028918156\" stroke-linecap=\"round\" style=\"stroke:red;stroke-width:1\"/><line x1=\"481.91301022667255\" y1=\"249.4637028918156\" x2=\"491.6352324488948\" y2=\"232.6243200404515\" stroke-linecap=\"round\" style=\"stroke:red;stroke-width:1\"/><line x1=\"491.6352324488948\" y1=\"232.6243200404515\" x2=\"501.357454671117\" y2=\"249.4637028918156\" stroke-linecap=\"round\" style=\"stroke:red;stroke-width:1\"/><line x1=\"501.357454671117\" y1=\"249.4637028918156\" x2=\"520.8018991155615\" y2=\"249.4637028918156\" stroke-linecap=\"round\" style=\"stroke:red;stroke-width:1\"/><line x1=\"520.8018991155615\" y1=\"249.4637028918156\" x2=\"530.5241213377836\" y2=\"232.6243200404515\" stroke-linecap=\"round\" style=\"stroke:red;stroke-width:1\"/><line x1=\"530.5241213377836\" y1=\"232.6243200404515\" x2=\"520.8018991155614\" y2=\"215.7849371890874\" stroke-linecap=\"round\" style=\"stroke:red;stroke-width:1\"/><line x1=\"520.8018991155614\" y1=\"215.7849371890874\" x2=\"540.2463435600058\" y2=\"215.7849371890874\" stroke-linecap=\"round\" style=\"stroke:red;stroke-width:1\"/><line x1=\"540.2463435600058\" y1=\"215.7849371890874\" x2=\"549.968565782228\" y2=\"198.9455543377233\" stroke-linecap=\"round\" style=\"stroke:red;stroke-width:1\"/><line x1=\"549.968565782228\" y1=\"198.9455543377233\" x2=\"559.6907880044502\" y2=\"215.7849371890874\" stroke-linecap=\"round\" style=\"stroke:red;stroke-width:1\"/><line x1=\"559.6907880044502\" y1=\"215.7849371890874\" x2=\"579.1352324488946\" y2=\"215.7849371890874\" stroke-linecap=\"round\" style=\"stroke:red;stroke-width:1\"/><line x1=\"579.1352324488946\" y1=\"215.7849371890874\" x2=\"569.4130102266724\" y2=\"232.6243200404515\" stroke-linecap=\"round\" style=\"stroke:red;stroke-width:1\"/><line x1=\"569.4130102266724\" y1=\"232.6243200404515\" x2=\"579.1352324488946\" y2=\"249.4637028918156\" stroke-linecap=\"round\" style=\"stroke:red;stroke-width:1\"/><line x1=\"579.1352324488946\" y1=\"249.4637028918156\" x2=\"598.5796768933391\" y2=\"249.4637028918156\" stroke-linecap=\"round\" style=\"stroke:red;stroke-width:1\"/><line x1=\"598.5796768933391\" y1=\"249.4637028918156\" x2=\"608.3018991155612\" y2=\"232.6243200404515\" stroke-linecap=\"round\" style=\"stroke:red;stroke-width:1\"/><line x1=\"608.3018991155612\" y1=\"232.6243200404515\" x2=\"618.0241213377834\" y2=\"249.4637028918156\" stroke-linecap=\"round\" style=\"stroke:red;stroke-width:1\"/><line x1=\"618.0241213377834\" y1=\"249.4637028918156\" x2=\"637.4685657822279\" y2=\"249.4637028918156\" stroke-linecap=\"round\" style=\"stroke:red;stroke-width:1\"/><line x1=\"637.4685657822279\" y1=\"249.4637028918156\" x2=\"627.7463435600057\" y2=\"266.3030857431797\" stroke-linecap=\"round\" style=\"stroke:red;stroke-width:1\"/><line x1=\"627.7463435600057\" y1=\"266.3030857431797\" x2=\"637.4685657822279\" y2=\"283.14246859454374\" stroke-linecap=\"round\" style=\"stroke:red;stroke-width:1\"/><line x1=\"637.4685657822279\" y1=\"283.14246859454374\" x2=\"618.0241213377834\" y2=\"283.14246859454374\" stroke-linecap=\"round\" style=\"stroke:red;stroke-width:1\"/><line x1=\"618.0241213377834\" y1=\"283.14246859454374\" x2=\"608.3018991155612\" y2=\"299.9818514459078\" stroke-linecap=\"round\" style=\"stroke:red;stroke-width:1\"/><line x1=\"608.3018991155612\" y1=\"299.9818514459078\" x2=\"618.0241213377834\" y2=\"316.8212342972719\" stroke-linecap=\"round\" style=\"stroke:red;stroke-width:1\"/><line x1=\"618.0241213377834\" y1=\"316.8212342972719\" x2=\"637.4685657822279\" y2=\"316.8212342972719\" stroke-linecap=\"round\" style=\"stroke:red;stroke-width:1\"/><line x1=\"637.4685657822279\" y1=\"316.8212342972719\" x2=\"627.7463435600057\" y2=\"333.66061714863594\" stroke-linecap=\"round\" style=\"stroke:red;stroke-width:1\"/><line x1=\"627.7463435600057\" y1=\"333.66061714863594\" x2=\"637.4685657822279\" y2=\"350.5\" stroke-linecap=\"round\" style=\"stroke:red;stroke-width:1\"/><line x1=\"851.0\" y1=\"300.0\" x2=\"845.3868723828787\" y2=\"303.24074074074076\" stroke-linecap=\"round\" style=\"stroke:red;stroke-width:1\"/><line x1=\"845.3868723828787\" y1=\"303.24074074074076\" x2=\"845.3868723828787\" y2=\"309.72222222222223\" stroke-linecap=\"round\" style=\"stroke:red;stroke-width:1\"/><line x1=\"845.3868723828787\" y1=\"309.72222222222223\" x2=\"839.7737447657573\" y2=\"306.48148148148147\" stroke-linecap=\"round\" style=\"stroke:red;stroke-width:1\"/><line x1=\"839.7737447657573\" y1=\"306.48148148148147\" x2=\"834.160617148636\" y2=\"309.72222222222223\" stroke-linecap=\"round\" style=\"stroke:red;stroke-width:1\"/><line x1=\"834.160617148636\" y1=\"309.72222222222223\" x2=\"834.160617148636\" y2=\"316.2037037037037\" stroke-linecap=\"round\" style=\"stroke:red;stroke-width:1\"/><line x1=\"834.160617148636\" y1=\"316.2037037037037\" x2=\"839.7737447657573\" y2=\"319.44444444444446\" stroke-linecap=\"round\" style=\"stroke:red;stroke-width:1\"/><line x1=\"839.7737447657573\" y1=\"319.44444444444446\" x2=\"834.160617148636\" y2=\"322.6851851851852\" stroke-linecap=\"round\" style=\"stroke:red;stroke-width:1\"/><line x1=\"834.160617148636\" y1=\"322.6851851851852\" x2=\"834.160617148636\" y2=\"329.1666666666667\" stroke-linecap=\"round\" style=\"stroke:red;stroke-width:1\"/><line x1=\"834.160617148636\" y1=\"329.1666666666667\" x2=\"828.5474895315147\" y2=\"325.9259259259259\" stroke-linecap=\"round\" style=\"stroke:red;stroke-width:1\"/><line x1=\"828.5474895315147\" y1=\"325.9259259259259\" x2=\"822.9343619143933\" y2=\"329.1666666666667\" stroke-linecap=\"round\" style=\"stroke:red;stroke-width:1\"/><line x1=\"822.9343619143933\" y1=\"329.1666666666667\" x2=\"822.9343619143933\" y2=\"322.6851851851852\" stroke-linecap=\"round\" style=\"stroke:red;stroke-width:1\"/><line x1=\"822.9343619143933\" y1=\"322.6851851851852\" x2=\"817.321234297272\" y2=\"319.44444444444446\" stroke-linecap=\"round\" style=\"stroke:red;stroke-width:1\"/><line x1=\"817.321234297272\" y1=\"319.44444444444446\" x2=\"811.7081066801506\" y2=\"322.6851851851852\" stroke-linecap=\"round\" style=\"stroke:red;stroke-width:1\"/><line x1=\"811.7081066801506\" y1=\"322.6851851851852\" x2=\"811.7081066801506\" y2=\"329.1666666666667\" stroke-linecap=\"round\" style=\"stroke:red;stroke-width:1\"/><line x1=\"811.7081066801506\" y1=\"329.1666666666667\" x2=\"806.0949790630293\" y2=\"325.9259259259259\" stroke-linecap=\"round\" style=\"stroke:red;stroke-width:1\"/><line x1=\"806.0949790630293\" y1=\"325.9259259259259\" x2=\"800.481851445908\" y2=\"329.1666666666667\" stroke-linecap=\"round\" style=\"stroke:red;stroke-width:1\"/><line x1=\"800.481851445908\" y1=\"329.1666666666667\" x2=\"800.481851445908\" y2=\"335.64814814814815\" stroke-linecap=\"round\" style=\"stroke:red;stroke-width:1\"/><line x1=\"800.481851445908\" y1=\"335.64814814814815\" x2=\"806.0949790630293\" y2=\"338.8888888888889\" stroke-linecap=\"round\" style=\"stroke:red;stroke-width:1\"/><line x1=\"806.0949790630293\" y1=\"338.8888888888889\" x2=\"800.481851445908\" y2=\"342.1296296296297\" stroke-linecap=\"round\" style=\"stroke:red;stroke-width:1\"/><line x1=\"800.481851445908\" y1=\"342.1296296296297\" x2=\"800.481851445908\" y2=\"348.61111111111114\" stroke-linecap=\"round\" style=\"stroke:red;stroke-width:1\"/><line x1=\"800.481851445908\" y1=\"348.61111111111114\" x2=\"806.0949790630293\" y2=\"351.8518518518519\" stroke-linecap=\"round\" style=\"stroke:red;stroke-width:1\"/><line x1=\"806.0949790630293\" y1=\"351.8518518518519\" x2=\"811.7081066801506\" y2=\"348.61111111111114\" stroke-linecap=\"round\" style=\"stroke:red;stroke-width:1\"/><line x1=\"811.7081066801506\" y1=\"348.61111111111114\" x2=\"811.7081066801506\" y2=\"355.0925925925926\" stroke-linecap=\"round\" style=\"stroke:red;stroke-width:1\"/><line x1=\"811.7081066801506\" y1=\"355.0925925925926\" x2=\"817.321234297272\" y2=\"358.33333333333337\" stroke-linecap=\"round\" style=\"stroke:red;stroke-width:1\"/><line x1=\"817.321234297272\" y1=\"358.33333333333337\" x2=\"811.7081066801506\" y2=\"361.57407407407413\" stroke-linecap=\"round\" style=\"stroke:red;stroke-width:1\"/><line x1=\"811.7081066801506\" y1=\"361.57407407407413\" x2=\"811.7081066801506\" y2=\"368.0555555555556\" stroke-linecap=\"round\" style=\"stroke:red;stroke-width:1\"/><line x1=\"811.7081066801506\" y1=\"368.0555555555556\" x2=\"806.0949790630293\" y2=\"364.81481481481484\" stroke-linecap=\"round\" style=\"stroke:red;stroke-width:1\"/><line x1=\"806.0949790630293\" y1=\"364.81481481481484\" x2=\"800.481851445908\" y2=\"368.0555555555556\" stroke-linecap=\"round\" style=\"stroke:red;stroke-width:1\"/><line x1=\"800.481851445908\" y1=\"368.0555555555556\" x2=\"800.481851445908\" y2=\"374.53703703703707\" stroke-linecap=\"round\" style=\"stroke:red;stroke-width:1\"/><line x1=\"800.481851445908\" y1=\"374.53703703703707\" x2=\"806.0949790630293\" y2=\"377.7777777777778\" stroke-linecap=\"round\" style=\"stroke:red;stroke-width:1\"/><line x1=\"806.0949790630293\" y1=\"377.7777777777778\" x2=\"800.481851445908\" y2=\"381.0185185185186\" stroke-linecap=\"round\" style=\"stroke:red;stroke-width:1\"/><line x1=\"800.481851445908\" y1=\"381.0185185185186\" x2=\"800.481851445908\" y2=\"387.50000000000006\" stroke-linecap=\"round\" style=\"stroke:red;stroke-width:1\"/><line x1=\"800.481851445908\" y1=\"387.50000000000006\" x2=\"794.8687238287866\" y2=\"384.2592592592593\" stroke-linecap=\"round\" style=\"stroke:red;stroke-width:1\"/><line x1=\"794.8687238287866\" y1=\"384.2592592592593\" x2=\"789.2555962116653\" y2=\"387.50000000000006\" stroke-linecap=\"round\" style=\"stroke:red;stroke-width:1\"/><line x1=\"789.2555962116653\" y1=\"387.50000000000006\" x2=\"789.2555962116653\" y2=\"381.0185185185186\" stroke-linecap=\"round\" style=\"stroke:red;stroke-width:1\"/><line x1=\"789.2555962116653\" y1=\"381.0185185185186\" x2=\"783.642468594544\" y2=\"377.7777777777778\" stroke-linecap=\"round\" style=\"stroke:red;stroke-width:1\"/><line x1=\"783.642468594544\" y1=\"377.7777777777778\" x2=\"778.0293409774226\" y2=\"381.0185185185186\" stroke-linecap=\"round\" style=\"stroke:red;stroke-width:1\"/><line x1=\"778.0293409774226\" y1=\"381.0185185185186\" x2=\"778.0293409774226\" y2=\"387.50000000000006\" stroke-linecap=\"round\" style=\"stroke:red;stroke-width:1\"/><line x1=\"778.0293409774226\" y1=\"387.50000000000006\" x2=\"772.4162133603013\" y2=\"384.2592592592593\" stroke-linecap=\"round\" style=\"stroke:red;stroke-width:1\"/><line x1=\"772.4162133603013\" y1=\"384.2592592592593\" x2=\"766.80308574318\" y2=\"387.50000000000006\" stroke-linecap=\"round\" style=\"stroke:red;stroke-width:1\"/><line x1=\"766.80308574318\" y1=\"387.50000000000006\" x2=\"766.80308574318\" y2=\"381.0185185185186\" stroke-linecap=\"round\" style=\"stroke:red;stroke-width:1\"/><line x1=\"766.80308574318\" y1=\"381.0185185185186\" x2=\"761.1899581260586\" y2=\"377.7777777777778\" stroke-linecap=\"round\" style=\"stroke:red;stroke-width:1\"/><line x1=\"761.1899581260586\" y1=\"377.7777777777778\" x2=\"766.80308574318\" y2=\"374.53703703703707\" stroke-linecap=\"round\" style=\"stroke:red;stroke-width:1\"/><line x1=\"766.80308574318\" y1=\"374.53703703703707\" x2=\"766.80308574318\" y2=\"368.0555555555556\" stroke-linecap=\"round\" style=\"stroke:red;stroke-width:1\"/><line x1=\"766.80308574318\" y1=\"368.0555555555556\" x2=\"761.1899581260586\" y2=\"364.81481481481484\" stroke-linecap=\"round\" style=\"stroke:red;stroke-width:1\"/><line x1=\"761.1899581260586\" y1=\"364.81481481481484\" x2=\"755.5768305089373\" y2=\"368.0555555555556\" stroke-linecap=\"round\" style=\"stroke:red;stroke-width:1\"/><line x1=\"755.5768305089373\" y1=\"368.0555555555556\" x2=\"755.5768305089373\" y2=\"361.57407407407413\" stroke-linecap=\"round\" style=\"stroke:red;stroke-width:1\"/><line x1=\"755.5768305089373\" y1=\"361.57407407407413\" x2=\"749.963702891816\" y2=\"358.33333333333337\" stroke-linecap=\"round\" style=\"stroke:red;stroke-width:1\"/><line x1=\"749.963702891816\" y1=\"358.33333333333337\" x2=\"744.3505752746946\" y2=\"361.57407407407413\" stroke-linecap=\"round\" style=\"stroke:red;stroke-width:1\"/><line x1=\"744.3505752746946\" y1=\"361.57407407407413\" x2=\"744.3505752746946\" y2=\"368.0555555555556\" stroke-linecap=\"round\" style=\"stroke:red;stroke-width:1\"/><line x1=\"744.3505752746946\" y1=\"368.0555555555556\" x2=\"738.7374476575733\" y2=\"364.81481481481484\" stroke-linecap=\"round\" style=\"stroke:red;stroke-width:1\"/><line x1=\"738.7374476575733\" y1=\"364.81481481481484\" x2=\"733.124320040452\" y2=\"368.0555555555556\" stroke-linecap=\"round\" style=\"stroke:red;stroke-width:1\"/><line x1=\"733.124320040452\" y1=\"368.0555555555556\" x2=\"733.124320040452\" y2=\"374.53703703703707\" stroke-linecap=\"round\" style=\"stroke:red;stroke-width:1\"/><line x1=\"733.124320040452\" y1=\"374.53703703703707\" x2=\"738.7374476575733\" y2=\"377.7777777777778\" stroke-linecap=\"round\" style=\"stroke:red;stroke-width:1\"/><line x1=\"738.7374476575733\" y1=\"377.7777777777778\" x2=\"733.124320040452\" y2=\"381.0185185185186\" stroke-linecap=\"round\" style=\"stroke:red;stroke-width:1\"/><line x1=\"733.124320040452\" y1=\"381.0185185185186\" x2=\"733.124320040452\" y2=\"387.50000000000006\" stroke-linecap=\"round\" style=\"stroke:red;stroke-width:1\"/><line x1=\"733.124320040452\" y1=\"387.50000000000006\" x2=\"727.5111924233306\" y2=\"384.2592592592593\" stroke-linecap=\"round\" style=\"stroke:red;stroke-width:1\"/><line x1=\"727.5111924233306\" y1=\"384.2592592592593\" x2=\"721.8980648062093\" y2=\"387.50000000000006\" stroke-linecap=\"round\" style=\"stroke:red;stroke-width:1\"/><line x1=\"721.8980648062093\" y1=\"387.50000000000006\" x2=\"721.8980648062093\" y2=\"381.0185185185186\" stroke-linecap=\"round\" style=\"stroke:red;stroke-width:1\"/><line x1=\"721.8980648062093\" y1=\"381.0185185185186\" x2=\"716.2849371890879\" y2=\"377.7777777777778\" stroke-linecap=\"round\" style=\"stroke:red;stroke-width:1\"/><line x1=\"716.2849371890879\" y1=\"377.7777777777778\" x2=\"710.6718095719666\" y2=\"381.0185185185186\" stroke-linecap=\"round\" style=\"stroke:red;stroke-width:1\"/><line x1=\"710.6718095719666\" y1=\"381.0185185185186\" x2=\"710.6718095719666\" y2=\"387.50000000000006\" stroke-linecap=\"round\" style=\"stroke:red;stroke-width:1\"/><line x1=\"710.6718095719666\" y1=\"387.50000000000006\" x2=\"705.0586819548453\" y2=\"384.2592592592593\" stroke-linecap=\"round\" style=\"stroke:red;stroke-width:1\"/><line x1=\"705.0586819548453\" y1=\"384.2592592592593\" x2=\"699.4455543377239\" y2=\"387.50000000000006\" stroke-linecap=\"round\" style=\"stroke:red;stroke-width:1\"/><line x1=\"699.4455543377239\" y1=\"387.50000000000006\" x2=\"699.4455543377239\" y2=\"381.0185185185186\" stroke-linecap=\"round\" style=\"stroke:red;stroke-width:1\"/><line x1=\"699.4455543377239\" y1=\"381.0185185185186\" x2=\"693.8324267206026\" y2=\"377.7777777777778\" stroke-linecap=\"round\" style=\"stroke:red;stroke-width:1\"/><line x1=\"693.8324267206026\" y1=\"377.7777777777778\" x2=\"699.4455543377239\" y2=\"374.53703703703707\" stroke-linecap=\"round\" style=\"stroke:red;stroke-width:1\"/><line x1=\"699.4455543377239\" y1=\"374.53703703703707\" x2=\"699.4455543377239\" y2=\"368.0555555555556\" stroke-linecap=\"round\" style=\"stroke:red;stroke-width:1\"/><line x1=\"699.4455543377239\" y1=\"368.0555555555556\" x2=\"693.8324267206026\" y2=\"364.81481481481484\" stroke-linecap=\"round\" style=\"stroke:red;stroke-width:1\"/><line x1=\"693.8324267206026\" y1=\"364.81481481481484\" x2=\"688.2192991034813\" y2=\"368.0555555555556\" stroke-linecap=\"round\" style=\"stroke:red;stroke-width:1\"/><line x1=\"688.2192991034813\" y1=\"368.0555555555556\" x2=\"688.2192991034813\" y2=\"361.57407407407413\" stroke-linecap=\"round\" style=\"stroke:red;stroke-width:1\"/><line x1=\"688.2192991034813\" y1=\"361.57407407407413\" x2=\"682.6061714863599\" y2=\"358.33333333333337\" stroke-linecap=\"round\" style=\"stroke:red;stroke-width:1\"/><line x1=\"682.6061714863599\" y1=\"358.33333333333337\" x2=\"688.2192991034813\" y2=\"355.0925925925926\" stroke-linecap=\"round\" style=\"stroke:red;stroke-width:1\"/><line x1=\"688.2192991034813\" y1=\"355.0925925925926\" x2=\"688.2192991034813\" y2=\"348.61111111111114\" stroke-linecap=\"round\" style=\"stroke:red;stroke-width:1\"/><line x1=\"688.2192991034813\" y1=\"348.61111111111114\" x2=\"693.8324267206026\" y2=\"351.8518518518519\" stroke-linecap=\"round\" style=\"stroke:red;stroke-width:1\"/><line x1=\"693.8324267206026\" y1=\"351.8518518518519\" x2=\"699.4455543377239\" y2=\"348.61111111111114\" stroke-linecap=\"round\" style=\"stroke:red;stroke-width:1\"/><line x1=\"699.4455543377239\" y1=\"348.61111111111114\" x2=\"699.4455543377239\" y2=\"342.1296296296297\" stroke-linecap=\"round\" style=\"stroke:red;stroke-width:1\"/><line x1=\"699.4455543377239\" y1=\"342.1296296296297\" x2=\"693.8324267206026\" y2=\"338.8888888888889\" stroke-linecap=\"round\" style=\"stroke:red;stroke-width:1\"/><line x1=\"693.8324267206026\" y1=\"338.8888888888889\" x2=\"699.4455543377239\" y2=\"335.64814814814815\" stroke-linecap=\"round\" style=\"stroke:red;stroke-width:1\"/><line x1=\"699.4455543377239\" y1=\"335.64814814814815\" x2=\"699.4455543377239\" y2=\"329.1666666666667\" stroke-linecap=\"round\" style=\"stroke:red;stroke-width:1\"/><line x1=\"699.4455543377239\" y1=\"329.1666666666667\" x2=\"693.8324267206026\" y2=\"325.9259259259259\" stroke-linecap=\"round\" style=\"stroke:red;stroke-width:1\"/><line x1=\"693.8324267206026\" y1=\"325.9259259259259\" x2=\"688.2192991034813\" y2=\"329.1666666666667\" stroke-linecap=\"round\" style=\"stroke:red;stroke-width:1\"/><line x1=\"688.2192991034813\" y1=\"329.1666666666667\" x2=\"688.2192991034813\" y2=\"322.6851851851852\" stroke-linecap=\"round\" style=\"stroke:red;stroke-width:1\"/><line x1=\"688.2192991034813\" y1=\"322.6851851851852\" x2=\"682.6061714863599\" y2=\"319.44444444444446\" stroke-linecap=\"round\" style=\"stroke:red;stroke-width:1\"/><line x1=\"682.6061714863599\" y1=\"319.44444444444446\" x2=\"676.9930438692386\" y2=\"322.6851851851852\" stroke-linecap=\"round\" style=\"stroke:red;stroke-width:1\"/><line x1=\"676.9930438692386\" y1=\"322.6851851851852\" x2=\"676.9930438692386\" y2=\"329.1666666666667\" stroke-linecap=\"round\" style=\"stroke:red;stroke-width:1\"/><line x1=\"676.9930438692386\" y1=\"329.1666666666667\" x2=\"671.3799162521173\" y2=\"325.9259259259259\" stroke-linecap=\"round\" style=\"stroke:red;stroke-width:1\"/><line x1=\"671.3799162521173\" y1=\"325.9259259259259\" x2=\"665.7667886349959\" y2=\"329.1666666666667\" stroke-linecap=\"round\" style=\"stroke:red;stroke-width:1\"/><line x1=\"665.7667886349959\" y1=\"329.1666666666667\" x2=\"665.7667886349959\" y2=\"322.6851851851852\" stroke-linecap=\"round\" style=\"stroke:red;stroke-width:1\"/><line x1=\"665.7667886349959\" y1=\"322.6851851851852\" x2=\"660.1536610178746\" y2=\"319.44444444444446\" stroke-linecap=\"round\" style=\"stroke:red;stroke-width:1\"/><line x1=\"660.1536610178746\" y1=\"319.44444444444446\" x2=\"665.7667886349959\" y2=\"316.2037037037037\" stroke-linecap=\"round\" style=\"stroke:red;stroke-width:1\"/><line x1=\"665.7667886349959\" y1=\"316.2037037037037\" x2=\"665.7667886349959\" y2=\"309.72222222222223\" stroke-linecap=\"round\" style=\"stroke:red;stroke-width:1\"/><line x1=\"665.7667886349959\" y1=\"309.72222222222223\" x2=\"660.1536610178746\" y2=\"306.48148148148147\" stroke-linecap=\"round\" style=\"stroke:red;stroke-width:1\"/><line x1=\"660.1536610178746\" y1=\"306.48148148148147\" x2=\"654.5405334007532\" y2=\"309.72222222222223\" stroke-linecap=\"round\" style=\"stroke:red;stroke-width:1\"/><line x1=\"654.5405334007532\" y1=\"309.72222222222223\" x2=\"654.5405334007532\" y2=\"303.24074074074076\" stroke-linecap=\"round\" style=\"stroke:red;stroke-width:1\"/><line x1=\"654.5405334007532\" y1=\"303.24074074074076\" x2=\"648.9274057836319\" y2=\"300.0\" stroke-linecap=\"round\" style=\"stroke:red;stroke-width:1\"/><line x1=\"648.9274057836319\" y1=\"300.0\" x2=\"654.5405334007532\" y2=\"296.75925925925924\" stroke-linecap=\"round\" style=\"stroke:red;stroke-width:1\"/><line x1=\"654.5405334007532\" y1=\"296.75925925925924\" x2=\"654.5405334007532\" y2=\"290.27777777777777\" stroke-linecap=\"round\" style=\"stroke:red;stroke-width:1\"/><line x1=\"654.5405334007532\" y1=\"290.27777777777777\" x2=\"660.1536610178746\" y2=\"293.51851851851853\" stroke-linecap=\"round\" style=\"stroke:red;stroke-width:1\"/><line x1=\"660.1536610178746\" y1=\"293.51851851851853\" x2=\"665.7667886349959\" y2=\"290.27777777777777\" stroke-linecap=\"round\" style=\"stroke:red;stroke-width:1\"/><line x1=\"665.7667886349959\" y1=\"290.27777777777777\" x2=\"665.7667886349959\" y2=\"283.7962962962963\" stroke-linecap=\"round\" style=\"stroke:red;stroke-width:1\"/><line x1=\"665.7667886349959\" y1=\"283.7962962962963\" x2=\"660.1536610178746\" y2=\"280.55555555555554\" stroke-linecap=\"round\" style=\"stroke:red;stroke-width:1\"/><line x1=\"660.1536610178746\" y1=\"280.55555555555554\" x2=\"665.7667886349959\" y2=\"277.3148148148148\" stroke-linecap=\"round\" style=\"stroke:red;stroke-width:1\"/><line x1=\"665.7667886349959\" y1=\"277.3148148148148\" x2=\"665.7667886349959\" y2=\"270.8333333333333\" stroke-linecap=\"round\" style=\"stroke:red;stroke-width:1\"/><line x1=\"665.7667886349959\" y1=\"270.8333333333333\" x2=\"671.3799162521173\" y2=\"274.0740740740741\" stroke-linecap=\"round\" style=\"stroke:red;stroke-width:1\"/><line x1=\"671.3799162521173\" y1=\"274.0740740740741\" x2=\"676.9930438692386\" y2=\"270.8333333333333\" stroke-linecap=\"round\" style=\"stroke:red;stroke-width:1\"/><line x1=\"676.9930438692386\" y1=\"270.8333333333333\" x2=\"676.9930438692386\" y2=\"277.3148148148148\" stroke-linecap=\"round\" style=\"stroke:red;stroke-width:1\"/><line x1=\"676.9930438692386\" y1=\"277.3148148148148\" x2=\"682.6061714863599\" y2=\"280.55555555555554\" stroke-linecap=\"round\" style=\"stroke:red;stroke-width:1\"/><line x1=\"682.6061714863599\" y1=\"280.55555555555554\" x2=\"688.2192991034813\" y2=\"277.3148148148148\" stroke-linecap=\"round\" style=\"stroke:red;stroke-width:1\"/><line x1=\"688.2192991034813\" y1=\"277.3148148148148\" x2=\"688.2192991034813\" y2=\"270.8333333333333\" stroke-linecap=\"round\" style=\"stroke:red;stroke-width:1\"/><line x1=\"688.2192991034813\" y1=\"270.8333333333333\" x2=\"693.8324267206026\" y2=\"274.0740740740741\" stroke-linecap=\"round\" style=\"stroke:red;stroke-width:1\"/><line x1=\"693.8324267206026\" y1=\"274.0740740740741\" x2=\"699.4455543377239\" y2=\"270.8333333333333\" stroke-linecap=\"round\" style=\"stroke:red;stroke-width:1\"/><line x1=\"699.4455543377239\" y1=\"270.8333333333333\" x2=\"699.4455543377239\" y2=\"264.35185185185185\" stroke-linecap=\"round\" style=\"stroke:red;stroke-width:1\"/><line x1=\"699.4455543377239\" y1=\"264.35185185185185\" x2=\"693.8324267206026\" y2=\"261.1111111111111\" stroke-linecap=\"round\" style=\"stroke:red;stroke-width:1\"/><line x1=\"693.8324267206026\" y1=\"261.1111111111111\" x2=\"699.4455543377239\" y2=\"257.8703703703703\" stroke-linecap=\"round\" style=\"stroke:red;stroke-width:1\"/><line x1=\"699.4455543377239\" y1=\"257.8703703703703\" x2=\"699.4455543377239\" y2=\"251.38888888888883\" stroke-linecap=\"round\" style=\"stroke:red;stroke-width:1\"/><line x1=\"699.4455543377239\" y1=\"251.38888888888883\" x2=\"693.8324267206026\" y2=\"248.1481481481481\" stroke-linecap=\"round\" style=\"stroke:red;stroke-width:1\"/><line x1=\"693.8324267206026\" y1=\"248.1481481481481\" x2=\"688.2192991034813\" y2=\"251.38888888888883\" stroke-linecap=\"round\" style=\"stroke:red;stroke-width:1\"/><line x1=\"688.2192991034813\" y1=\"251.38888888888883\" x2=\"688.2192991034813\" y2=\"244.90740740740733\" stroke-linecap=\"round\" style=\"stroke:red;stroke-width:1\"/><line x1=\"688.2192991034813\" y1=\"244.90740740740733\" x2=\"682.6061714863599\" y2=\"241.6666666666666\" stroke-linecap=\"round\" style=\"stroke:red;stroke-width:1\"/><line x1=\"682.6061714863599\" y1=\"241.6666666666666\" x2=\"688.2192991034813\" y2=\"238.42592592592587\" stroke-linecap=\"round\" style=\"stroke:red;stroke-width:1\"/><line x1=\"688.2192991034813\" y1=\"238.42592592592587\" x2=\"688.2192991034813\" y2=\"231.94444444444437\" stroke-linecap=\"round\" style=\"stroke:red;stroke-width:1\"/><line x1=\"688.2192991034813\" y1=\"231.94444444444437\" x2=\"693.8324267206026\" y2=\"235.1851851851851\" stroke-linecap=\"round\" style=\"stroke:red;stroke-width:1\"/><line x1=\"693.8324267206026\" y1=\"235.1851851851851\" x2=\"699.4455543377239\" y2=\"231.94444444444437\" stroke-linecap=\"round\" style=\"stroke:red;stroke-width:1\"/><line x1=\"699.4455543377239\" y1=\"231.94444444444437\" x2=\"699.4455543377239\" y2=\"225.46296296296288\" stroke-linecap=\"round\" style=\"stroke:red;stroke-width:1\"/><line x1=\"699.4455543377239\" y1=\"225.46296296296288\" x2=\"693.8324267206026\" y2=\"222.22222222222214\" stroke-linecap=\"round\" style=\"stroke:red;stroke-width:1\"/><line x1=\"693.8324267206026\" y1=\"222.22222222222214\" x2=\"699.4455543377239\" y2=\"218.9814814814814\" stroke-linecap=\"round\" style=\"stroke:red;stroke-width:1\"/><line x1=\"699.4455543377239\" y1=\"218.9814814814814\" x2=\"699.4455543377239\" y2=\"212.49999999999991\" stroke-linecap=\"round\" style=\"stroke:red;stroke-width:1\"/><line x1=\"699.4455543377239\" y1=\"212.49999999999991\" x2=\"705.0586819548453\" y2=\"215.74074074074065\" stroke-linecap=\"round\" style=\"stroke:red;stroke-width:1\"/><line x1=\"705.0586819548453\" y1=\"215.74074074074065\" x2=\"710.6718095719666\" y2=\"212.49999999999991\" stroke-linecap=\"round\" style=\"stroke:red;stroke-width:1\"/><line x1=\"710.6718095719666\" y1=\"212.49999999999991\" x2=\"710.6718095719666\" y2=\"218.9814814814814\" stroke-linecap=\"round\" style=\"stroke:red;stroke-width:1\"/><line x1=\"710.6718095719666\" y1=\"218.9814814814814\" x2=\"716.2849371890879\" y2=\"222.22222222222214\" stroke-linecap=\"round\" style=\"stroke:red;stroke-width:1\"/><line x1=\"716.2849371890879\" y1=\"222.22222222222214\" x2=\"721.8980648062093\" y2=\"218.9814814814814\" stroke-linecap=\"round\" style=\"stroke:red;stroke-width:1\"/><line x1=\"721.8980648062093\" y1=\"218.9814814814814\" x2=\"721.8980648062093\" y2=\"212.49999999999991\" stroke-linecap=\"round\" style=\"stroke:red;stroke-width:1\"/><line x1=\"721.8980648062093\" y1=\"212.49999999999991\" x2=\"727.5111924233306\" y2=\"215.74074074074065\" stroke-linecap=\"round\" style=\"stroke:red;stroke-width:1\"/><line x1=\"727.5111924233306\" y1=\"215.74074074074065\" x2=\"733.124320040452\" y2=\"212.49999999999991\" stroke-linecap=\"round\" style=\"stroke:red;stroke-width:1\"/><line x1=\"733.124320040452\" y1=\"212.49999999999991\" x2=\"733.124320040452\" y2=\"218.9814814814814\" stroke-linecap=\"round\" style=\"stroke:red;stroke-width:1\"/><line x1=\"733.124320040452\" y1=\"218.9814814814814\" x2=\"738.7374476575733\" y2=\"222.22222222222214\" stroke-linecap=\"round\" style=\"stroke:red;stroke-width:1\"/><line x1=\"738.7374476575733\" y1=\"222.22222222222214\" x2=\"733.124320040452\" y2=\"225.46296296296288\" stroke-linecap=\"round\" style=\"stroke:red;stroke-width:1\"/><line x1=\"733.124320040452\" y1=\"225.46296296296288\" x2=\"733.124320040452\" y2=\"231.94444444444437\" stroke-linecap=\"round\" style=\"stroke:red;stroke-width:1\"/><line x1=\"733.124320040452\" y1=\"231.94444444444437\" x2=\"738.7374476575733\" y2=\"235.1851851851851\" stroke-linecap=\"round\" style=\"stroke:red;stroke-width:1\"/><line x1=\"738.7374476575733\" y1=\"235.1851851851851\" x2=\"744.3505752746946\" y2=\"231.94444444444437\" stroke-linecap=\"round\" style=\"stroke:red;stroke-width:1\"/><line x1=\"744.3505752746946\" y1=\"231.94444444444437\" x2=\"744.3505752746946\" y2=\"238.42592592592587\" stroke-linecap=\"round\" style=\"stroke:red;stroke-width:1\"/><line x1=\"744.3505752746946\" y1=\"238.42592592592587\" x2=\"749.963702891816\" y2=\"241.6666666666666\" stroke-linecap=\"round\" style=\"stroke:red;stroke-width:1\"/><line x1=\"749.963702891816\" y1=\"241.6666666666666\" x2=\"755.5768305089373\" y2=\"238.42592592592587\" stroke-linecap=\"round\" style=\"stroke:red;stroke-width:1\"/><line x1=\"755.5768305089373\" y1=\"238.42592592592587\" x2=\"755.5768305089373\" y2=\"231.94444444444437\" stroke-linecap=\"round\" style=\"stroke:red;stroke-width:1\"/><line x1=\"755.5768305089373\" y1=\"231.94444444444437\" x2=\"761.1899581260586\" y2=\"235.1851851851851\" stroke-linecap=\"round\" style=\"stroke:red;stroke-width:1\"/><line x1=\"761.1899581260586\" y1=\"235.1851851851851\" x2=\"766.80308574318\" y2=\"231.94444444444437\" stroke-linecap=\"round\" style=\"stroke:red;stroke-width:1\"/><line x1=\"766.80308574318\" y1=\"231.94444444444437\" x2=\"766.80308574318\" y2=\"225.46296296296288\" stroke-linecap=\"round\" style=\"stroke:red;stroke-width:1\"/><line x1=\"766.80308574318\" y1=\"225.46296296296288\" x2=\"761.1899581260586\" y2=\"222.22222222222214\" stroke-linecap=\"round\" style=\"stroke:red;stroke-width:1\"/><line x1=\"761.1899581260586\" y1=\"222.22222222222214\" x2=\"766.80308574318\" y2=\"218.9814814814814\" stroke-linecap=\"round\" style=\"stroke:red;stroke-width:1\"/><line x1=\"766.80308574318\" y1=\"218.9814814814814\" x2=\"766.80308574318\" y2=\"212.49999999999991\" stroke-linecap=\"round\" style=\"stroke:red;stroke-width:1\"/><line x1=\"766.80308574318\" y1=\"212.49999999999991\" x2=\"772.4162133603013\" y2=\"215.74074074074065\" stroke-linecap=\"round\" style=\"stroke:red;stroke-width:1\"/><line x1=\"772.4162133603013\" y1=\"215.74074074074065\" x2=\"778.0293409774226\" y2=\"212.49999999999991\" stroke-linecap=\"round\" style=\"stroke:red;stroke-width:1\"/><line x1=\"778.0293409774226\" y1=\"212.49999999999991\" x2=\"778.0293409774226\" y2=\"218.9814814814814\" stroke-linecap=\"round\" style=\"stroke:red;stroke-width:1\"/><line x1=\"778.0293409774226\" y1=\"218.9814814814814\" x2=\"783.642468594544\" y2=\"222.22222222222214\" stroke-linecap=\"round\" style=\"stroke:red;stroke-width:1\"/><line x1=\"783.642468594544\" y1=\"222.22222222222214\" x2=\"789.2555962116653\" y2=\"218.9814814814814\" stroke-linecap=\"round\" style=\"stroke:red;stroke-width:1\"/><line x1=\"789.2555962116653\" y1=\"218.9814814814814\" x2=\"789.2555962116653\" y2=\"212.49999999999991\" stroke-linecap=\"round\" style=\"stroke:red;stroke-width:1\"/><line x1=\"789.2555962116653\" y1=\"212.49999999999991\" x2=\"794.8687238287866\" y2=\"215.74074074074065\" stroke-linecap=\"round\" style=\"stroke:red;stroke-width:1\"/><line x1=\"794.8687238287866\" y1=\"215.74074074074065\" x2=\"800.481851445908\" y2=\"212.49999999999991\" stroke-linecap=\"round\" style=\"stroke:red;stroke-width:1\"/><line x1=\"800.481851445908\" y1=\"212.49999999999991\" x2=\"800.481851445908\" y2=\"218.9814814814814\" stroke-linecap=\"round\" style=\"stroke:red;stroke-width:1\"/><line x1=\"800.481851445908\" y1=\"218.9814814814814\" x2=\"806.0949790630293\" y2=\"222.22222222222214\" stroke-linecap=\"round\" style=\"stroke:red;stroke-width:1\"/><line x1=\"806.0949790630293\" y1=\"222.22222222222214\" x2=\"800.481851445908\" y2=\"225.46296296296288\" stroke-linecap=\"round\" style=\"stroke:red;stroke-width:1\"/><line x1=\"800.481851445908\" y1=\"225.46296296296288\" x2=\"800.481851445908\" y2=\"231.94444444444437\" stroke-linecap=\"round\" style=\"stroke:red;stroke-width:1\"/><line x1=\"800.481851445908\" y1=\"231.94444444444437\" x2=\"806.0949790630293\" y2=\"235.1851851851851\" stroke-linecap=\"round\" style=\"stroke:red;stroke-width:1\"/><line x1=\"806.0949790630293\" y1=\"235.1851851851851\" x2=\"811.7081066801506\" y2=\"231.94444444444437\" stroke-linecap=\"round\" style=\"stroke:red;stroke-width:1\"/><line x1=\"811.7081066801506\" y1=\"231.94444444444437\" x2=\"811.7081066801506\" y2=\"238.42592592592587\" stroke-linecap=\"round\" style=\"stroke:red;stroke-width:1\"/><line x1=\"811.7081066801506\" y1=\"238.42592592592587\" x2=\"817.321234297272\" y2=\"241.6666666666666\" stroke-linecap=\"round\" style=\"stroke:red;stroke-width:1\"/><line x1=\"817.321234297272\" y1=\"241.6666666666666\" x2=\"811.7081066801506\" y2=\"244.90740740740733\" stroke-linecap=\"round\" style=\"stroke:red;stroke-width:1\"/><line x1=\"811.7081066801506\" y1=\"244.90740740740733\" x2=\"811.7081066801506\" y2=\"251.38888888888883\" stroke-linecap=\"round\" style=\"stroke:red;stroke-width:1\"/><line x1=\"811.7081066801506\" y1=\"251.38888888888883\" x2=\"806.0949790630293\" y2=\"248.1481481481481\" stroke-linecap=\"round\" style=\"stroke:red;stroke-width:1\"/><line x1=\"806.0949790630293\" y1=\"248.1481481481481\" x2=\"800.481851445908\" y2=\"251.38888888888883\" stroke-linecap=\"round\" style=\"stroke:red;stroke-width:1\"/><line x1=\"800.481851445908\" y1=\"251.38888888888883\" x2=\"800.481851445908\" y2=\"257.8703703703703\" stroke-linecap=\"round\" style=\"stroke:red;stroke-width:1\"/><line x1=\"800.481851445908\" y1=\"257.8703703703703\" x2=\"806.0949790630293\" y2=\"261.1111111111111\" stroke-linecap=\"round\" style=\"stroke:red;stroke-width:1\"/><line x1=\"806.0949790630293\" y1=\"261.1111111111111\" x2=\"800.481851445908\" y2=\"264.35185185185185\" stroke-linecap=\"round\" style=\"stroke:red;stroke-width:1\"/><line x1=\"800.481851445908\" y1=\"264.35185185185185\" x2=\"800.481851445908\" y2=\"270.8333333333333\" stroke-linecap=\"round\" style=\"stroke:red;stroke-width:1\"/><line x1=\"800.481851445908\" y1=\"270.8333333333333\" x2=\"806.0949790630293\" y2=\"274.0740740740741\" stroke-linecap=\"round\" style=\"stroke:red;stroke-width:1\"/><line x1=\"806.0949790630293\" y1=\"274.0740740740741\" x2=\"811.7081066801506\" y2=\"270.8333333333333\" stroke-linecap=\"round\" style=\"stroke:red;stroke-width:1\"/><line x1=\"811.7081066801506\" y1=\"270.8333333333333\" x2=\"811.7081066801506\" y2=\"277.3148148148148\" stroke-linecap=\"round\" style=\"stroke:red;stroke-width:1\"/><line x1=\"811.7081066801506\" y1=\"277.3148148148148\" x2=\"817.321234297272\" y2=\"280.55555555555554\" stroke-linecap=\"round\" style=\"stroke:red;stroke-width:1\"/><line x1=\"817.321234297272\" y1=\"280.55555555555554\" x2=\"822.9343619143933\" y2=\"277.3148148148148\" stroke-linecap=\"round\" style=\"stroke:red;stroke-width:1\"/><line x1=\"822.9343619143933\" y1=\"277.3148148148148\" x2=\"822.9343619143933\" y2=\"270.8333333333333\" stroke-linecap=\"round\" style=\"stroke:red;stroke-width:1\"/><line x1=\"822.9343619143933\" y1=\"270.8333333333333\" x2=\"828.5474895315147\" y2=\"274.0740740740741\" stroke-linecap=\"round\" style=\"stroke:red;stroke-width:1\"/><line x1=\"828.5474895315147\" y1=\"274.0740740740741\" x2=\"834.160617148636\" y2=\"270.8333333333333\" stroke-linecap=\"round\" style=\"stroke:red;stroke-width:1\"/><line x1=\"834.160617148636\" y1=\"270.8333333333333\" x2=\"834.160617148636\" y2=\"277.3148148148148\" stroke-linecap=\"round\" style=\"stroke:red;stroke-width:1\"/><line x1=\"834.160617148636\" y1=\"277.3148148148148\" x2=\"839.7737447657573\" y2=\"280.55555555555554\" stroke-linecap=\"round\" style=\"stroke:red;stroke-width:1\"/><line x1=\"839.7737447657573\" y1=\"280.55555555555554\" x2=\"834.160617148636\" y2=\"283.7962962962963\" stroke-linecap=\"round\" style=\"stroke:red;stroke-width:1\"/><line x1=\"834.160617148636\" y1=\"283.7962962962963\" x2=\"834.160617148636\" y2=\"290.27777777777777\" stroke-linecap=\"round\" style=\"stroke:red;stroke-width:1\"/><line x1=\"834.160617148636\" y1=\"290.27777777777777\" x2=\"839.7737447657573\" y2=\"293.51851851851853\" stroke-linecap=\"round\" style=\"stroke:red;stroke-width:1\"/><line x1=\"839.7737447657573\" y1=\"293.51851851851853\" x2=\"845.3868723828787\" y2=\"290.27777777777777\" stroke-linecap=\"round\" style=\"stroke:red;stroke-width:1\"/><line x1=\"845.3868723828787\" y1=\"290.27777777777777\" x2=\"845.3868723828787\" y2=\"296.75925925925924\" stroke-linecap=\"round\" style=\"stroke:red;stroke-width:1\"/><line x1=\"845.3868723828787\" y1=\"296.75925925925924\" x2=\"851.0\" y2=\"300.0\" stroke-linecap=\"round\" style=\"stroke:red;stroke-width:1\"/>\n",
              "        \n",
              "      <g visibility=hidden transform=\"rotate(60,851.0,300.0) translate(851.0, 300.0)\">\n",
              "        <circle stroke=\"red\" stroke-width=\"3\" fill=\"transparent\" r=\"12\" cx=\"0\" cy=\"0\"/>\n",
              "        <polygon points=\"0,19 3,16 -3,16\" style=\"fill:red;stroke:red;stroke-width:2\"/>\n",
              "      </g>\n",
              "    \n",
              "      </svg>\n",
              "    <script>\n",
              "function saveSVG() {\n",
              "  var svg = document.querySelector( \"svg\" );\n",
              "  var svgData = new XMLSerializer().serializeToString( svg ); \n",
              "  var canvas = document.createElement( \"canvas\" );\n",
              "  var ctx = canvas.getContext( \"2d\" );\n",
              "  var img = document.createElement( \"img\" );\n",
              "  img.setAttribute( \"src\", \"data:image/svg+xml;base64,\" + btoa( svgData ) );\n",
              "\n",
              "  img.onload = function() {\n",
              "    ctx.canvas.width=800;\n",
              "    ctx.canvas.height=500;\n",
              "    ctx.drawImage( img, 0, 0 );\n",
              "    \n",
              "    var a = document.createElement(\"a\");\n",
              "    a.download = \"turtle.png\";\n",
              "    a.href = canvas.toDataURL(\"image/png\");\n",
              "    a.click();};\n",
              "}\n",
              "</script>\n",
              "<div><button onclick=\"saveSVG()\">Save image as PNG</button>\n"
            ],
            "text/plain": [
              "<IPython.core.display.HTML object>"
            ]
          },
          "metadata": {
            "tags": []
          }
        }
      ]
    },
    {
      "cell_type": "code",
      "metadata": {
        "id": "3RuqDSO7AmuL"
      },
      "source": [
        ""
      ],
      "execution_count": null,
      "outputs": []
    }
  ]
}