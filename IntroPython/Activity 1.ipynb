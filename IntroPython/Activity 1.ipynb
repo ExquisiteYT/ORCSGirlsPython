{
 "cells": [
  {
   "cell_type": "markdown",
   "metadata": {},
   "source": [
    "# Activity 1: Getting to know Jupyter Notebooks\n",
    "\n",
    "<img src=\"Images/Logo.png\" width=\"15%\" align=\"right\" hpsace=\"50\">\n",
    "Each of these fields is called a *cell*. You can switch the type using the drop down menu above. We will use two types of cells\n",
    "\n",
    "- **Markdown**: This allows to add text and explainations to your notebook. \n",
    "- **Python**: This allows you to enter and execute Python code."
   ]
  },
  {
   "cell_type": "markdown",
   "metadata": {},
   "source": [
    "## Markdown syntax:\n",
    "\n",
    "- Bold **text** - write `**text**`\n",
    "- Italics *text* - write `*italics*`\n",
    "- Headings - write `# Heading 1` or `## Heading 2` or `### Heading 3`\n",
    "- Links, e.g. __[Google](www.google.com)__ - write `__[Google](www.google.com)__`\n",
    "\n",
    "Finally to execute the contents of your cell, press `shift+enter`\n",
    "\n",
    "### Your turn\n",
    "\n",
    "In the blank cell below, change the type to **markdown** and enter your first name as heading, your school in **bold font** and your grade in *italics*. \n",
    "\n"
   ]
  },
  {
   "cell_type": "markdown",
   "metadata": {
    "collapsed": true
   },
   "source": [
    "# Super cool"
   ]
  },
  {
   "cell_type": "markdown",
   "metadata": {},
   "source": [
    "### Ready for some Python?\n",
    "\n",
    "#### Hello world\n",
    "Let us start with writing `Hello world` on the screen. Make sure the type of the cell is **code** by checking the dropdown menu at the top. In the cell below enter \n",
    "\n",
    "> `print (\"Hello world\")` \n",
    "\n",
    "and press `shift+enter`."
   ]
  },
  {
   "cell_type": "code",
   "execution_count": null,
   "metadata": {},
   "outputs": [],
   "source": [
    "print (\"Hello\")"
   ]
  },
  {
   "cell_type": "markdown",
   "metadata": {},
   "source": [
    "## Cells and saving\n",
    "\n",
    "Look at the menu above. Click the `save` symbol to save your notebook. \n",
    "\n",
    "If you want to add a cell, click `Insert` and then `Insert cell above` or `insert cell below`. \n",
    "\n",
    "Try it now, **add a new cell above this one** and then type \n",
    "\n",
    "> `import this` \n",
    "\n",
    "into the new cell followed by `shift+return`. \n",
    "\n",
    "### You have discovered the *Zen of Python*\n",
    "\n",
    "\n",
    "# The End"
   ]
  },
  {
   "cell_type": "code",
   "execution_count": null,
   "metadata": {},
   "outputs": [],
   "source": [
    "import this"
   ]
  },
  {
   "cell_type": "code",
   "execution_count": null,
   "metadata": {
    "collapsed": true
   },
   "outputs": [],
   "source": []
  }
 ],
 "metadata": {
  "kernelspec": {
   "display_name": "Python 3",
   "language": "python",
   "name": "python3"
  },
  "language_info": {
   "codemirror_mode": {
    "name": "ipython",
    "version": 3
   },
   "file_extension": ".py",
   "mimetype": "text/x-python",
   "name": "python",
   "nbconvert_exporter": "python",
   "pygments_lexer": "ipython3",
   "version": "3.6.1"
  }
 },
 "nbformat": 4,
 "nbformat_minor": 2
}
