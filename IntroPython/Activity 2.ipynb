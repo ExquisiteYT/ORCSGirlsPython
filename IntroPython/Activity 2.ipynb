{
  "nbformat": 4,
  "nbformat_minor": 0,
  "metadata": {
    "colab": {
      "name": "Activity 2.ipynb",
      "version": "0.3.2",
      "provenance": [],
      "include_colab_link": true
    },
    "kernelspec": {
      "display_name": "Python 3",
      "language": "python",
      "name": "python3"
    }
  },
  "cells": [
    {
      "cell_type": "markdown",
      "metadata": {
        "id": "view-in-github",
        "colab_type": "text"
      },
      "source": [
        "<a href=\"https://colab.research.google.com/github/tproffen/ORCSGirlsPython/blob/master/IntroPython/Activity%202.ipynb\" target=\"_parent\"><img src=\"https://colab.research.google.com/assets/colab-badge.svg\" alt=\"Open In Colab\"/></a>"
      ]
    },
    {
      "metadata": {
        "id": "Rk48Ab5CzRsE",
        "colab_type": "text"
      },
      "cell_type": "markdown",
      "source": [
        "<img src=\"https://github.com/tproffen/ORCSGirlsPython/blob/master/IntroPython/Images/PoweredTechGirlz.png?raw=1\" width=\"15%\" align=\"right\" hspace=\"50\">\n",
        "\n",
        "# Activity 2: Getting to know Python\n",
        "\n",
        "In this section, you are going to learn about basic *Python* commands. \n",
        "Follow along and enter your commands below. Remember to press `shift+return` to execute a command."
      ]
    },
    {
      "metadata": {
        "collapsed": true,
        "id": "0FxJvHJWzRsH",
        "colab_type": "text"
      },
      "cell_type": "markdown",
      "source": [
        "## Checking the *variables* activity\n",
        "\n",
        "In the cell below, enter the set of equations we used in the exercise.\n",
        "\n",
        "<img src=\"https://github.com/tproffen/ORCSGirlsPython/blob/master/IntroPython/Images/Eqns.png?raw=1\" width=\"25%\" align=\"center\">"
      ]
    },
    {
      "metadata": {
        "id": "kcvOWjIUzRsI",
        "colab_type": "code",
        "colab": {}
      },
      "cell_type": "code",
      "source": [
        "x=1\n",
        "y=3"
      ],
      "execution_count": 0,
      "outputs": []
    },
    {
      "metadata": {
        "id": "kJKXmvt2zRsP",
        "colab_type": "text"
      },
      "cell_type": "markdown",
      "source": [
        "When executing the cell, nothing is printed and we need to add a command to print the results. We have used `print` before, so the easiest is\n",
        "\n",
        "> `print (x,y,z)`\n",
        "\n",
        "or we can be more fancy, for example\n",
        "\n",
        "> `print (\"Value of x is\", x)`\n",
        "\n",
        "Add code below to print the values of `x`, `y` and `z`. "
      ]
    },
    {
      "metadata": {
        "id": "7qFZKSw_zRsP",
        "colab_type": "code",
        "colab": {}
      },
      "cell_type": "code",
      "source": [
        ""
      ],
      "execution_count": 0,
      "outputs": []
    },
    {
      "metadata": {
        "id": "VGQ8f1wNzRsS",
        "colab_type": "text"
      },
      "cell_type": "markdown",
      "source": [
        "## Python Basics\n",
        "\n",
        "### Follow along in class .."
      ]
    },
    {
      "metadata": {
        "id": "gjpRb9V5zRsT",
        "colab_type": "code",
        "colab": {}
      },
      "cell_type": "code",
      "source": [
        "number = 5\n",
        "cost = 1.25\n",
        "name =\"Thomas\"\n",
        "awesome = True"
      ],
      "execution_count": 0,
      "outputs": []
    },
    {
      "metadata": {
        "id": "v56dH8PUzRsW",
        "colab_type": "code",
        "colab": {}
      },
      "cell_type": "code",
      "source": [
        "type(number)"
      ],
      "execution_count": 0,
      "outputs": []
    },
    {
      "metadata": {
        "id": "EQ8AA1w3zRsZ",
        "colab_type": "code",
        "colab": {}
      },
      "cell_type": "code",
      "source": [
        "type (cost)"
      ],
      "execution_count": 0,
      "outputs": []
    },
    {
      "metadata": {
        "id": "j3U4wZ6TzRsb",
        "colab_type": "code",
        "colab": {}
      },
      "cell_type": "code",
      "source": [
        "type(name)"
      ],
      "execution_count": 0,
      "outputs": []
    },
    {
      "metadata": {
        "id": "pS4xRdKwzRse",
        "colab_type": "code",
        "colab": {}
      },
      "cell_type": "code",
      "source": [
        "type(awesome)"
      ],
      "execution_count": 0,
      "outputs": []
    },
    {
      "metadata": {
        "id": "aa5zV1-lzRsi",
        "colab_type": "code",
        "colab": {}
      },
      "cell_type": "code",
      "source": [
        "number=\"3\""
      ],
      "execution_count": 0,
      "outputs": []
    },
    {
      "metadata": {
        "id": "P3c0y4vKzRsl",
        "colab_type": "code",
        "colab": {}
      },
      "cell_type": "code",
      "source": [
        "type(number)"
      ],
      "execution_count": 0,
      "outputs": []
    },
    {
      "metadata": {
        "id": "CG-48P3MzRso",
        "colab_type": "code",
        "colab": {}
      },
      "cell_type": "code",
      "source": [
        "number=int(number)\n",
        "type(number)"
      ],
      "execution_count": 0,
      "outputs": []
    },
    {
      "metadata": {
        "id": "Vq6FOMEizRsq",
        "colab_type": "code",
        "colab": {}
      },
      "cell_type": "code",
      "source": [
        "name = input(\"what is your name? \")"
      ],
      "execution_count": 0,
      "outputs": []
    },
    {
      "metadata": {
        "id": "PGyu7mM6zRss",
        "colab_type": "code",
        "colab": {}
      },
      "cell_type": "code",
      "source": [
        "print(name)"
      ],
      "execution_count": 0,
      "outputs": []
    },
    {
      "metadata": {
        "id": "8wUc26cqzRsu",
        "colab_type": "code",
        "colab": {}
      },
      "cell_type": "code",
      "source": [
        "type(name)"
      ],
      "execution_count": 0,
      "outputs": []
    },
    {
      "metadata": {
        "id": "4P-RF924zRsx",
        "colab_type": "code",
        "colab": {}
      },
      "cell_type": "code",
      "source": [
        "number = input (\"Give number:\")\n",
        "print (number)\n",
        "type(number)\n",
        "number=int(number)\n",
        "type(number)"
      ],
      "execution_count": 0,
      "outputs": []
    },
    {
      "metadata": {
        "id": "7Oz3MA2OzRsz",
        "colab_type": "code",
        "colab": {}
      },
      "cell_type": "code",
      "source": [
        "age = 21\n",
        "\n",
        "if age < 18:\n",
        "    print(\"You are too young\")\n",
        "else:\n",
        "    print(\"Go vote\")\n",
        "    "
      ],
      "execution_count": 0,
      "outputs": []
    },
    {
      "metadata": {
        "id": "o2S-P6SrzRs8",
        "colab_type": "code",
        "colab": {}
      },
      "cell_type": "code",
      "source": [
        "index = 1\n",
        "while index <= 5:\n",
        "    print (index)\n",
        "    index = index + 1"
      ],
      "execution_count": 0,
      "outputs": []
    },
    {
      "metadata": {
        "collapsed": true,
        "id": "l640q3_0zRs_",
        "colab_type": "text"
      },
      "cell_type": "markdown",
      "source": [
        "# Guessing Game"
      ]
    },
    {
      "metadata": {
        "id": "_1lBV0UfzRtB",
        "colab_type": "code",
        "colab": {}
      },
      "cell_type": "code",
      "source": [
        ""
      ],
      "execution_count": 0,
      "outputs": []
    }
  ]
}