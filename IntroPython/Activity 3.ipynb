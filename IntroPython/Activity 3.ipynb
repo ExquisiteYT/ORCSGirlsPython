{
 "cells": [
  {
   "cell_type": "markdown",
   "metadata": {},
   "source": [
    "<img src=\"Images/PoweredTechGirlz.png\" width=\"15%\" align=\"right\" hspace=\"50\">\n",
    "\n",
    "# Activity 3: Creating word clouds\n",
    "\n",
    "### As our final *Python* project, we want to create word clouds from articles downloaded from __[Wikipedia](www.wikipedia.org)__. \n",
    "\n",
    "This sounds complicated and if you needed to program it without any extensions, it would indeed be complicated. Luckily, one of the great features of *Python* is a great developer community and extensions for nearly everything you can think of. If you want to solve a problem, just google and you will very likely find a *Python* extension to make your life easy. \n",
    "\n",
    "Remember and use `shift+enter` to execute the code in a cell. **Since in some cases code depends on cells above, make sure all cells above the one you are working on have been executed.**"
   ]
  },
  {
   "cell_type": "markdown",
   "metadata": {},
   "source": [
    "# Loading extensions\n",
    "\n",
    "We load three extension to retrieve Wikipedia articles (`wikipedia`), create the word cloud (`wordcloud`) and plot the image (`matplotlib`). Make sure you execute it using `shift+enter`."
   ]
  },
  {
   "cell_type": "code",
   "execution_count": null,
   "metadata": {
    "collapsed": true
   },
   "outputs": [],
   "source": [
    "import wikipedia\n",
    "from wordcloud import WordCloud, STOPWORDS\n",
    "import matplotlib.pyplot as plt \n",
    "\n",
    "%matplotlib inline"
   ]
  },
  {
   "cell_type": "markdown",
   "metadata": {},
   "source": [
    "## Step 1: Retrieve the Wikipedia article text\n",
    "\n",
    "We will be using the `wikipedia` Python extension. Luckily it is already installed and all we have to do is to import it into this notebook. Simple execute the next cell using `shift+enter` to retrieve the Wikipedia entry for Oak Ridge, TN."
   ]
  },
  {
   "cell_type": "code",
   "execution_count": null,
   "metadata": {
    "collapsed": true
   },
   "outputs": [],
   "source": [
    "article = wikipedia.page(\"Oak Ridge, TN\")\n",
    "print (article.url)"
   ]
  },
  {
   "cell_type": "markdown",
   "metadata": {},
   "source": [
    "Look at the code above. The line `import wikipedia` makes the new commands available in this notebook. Next the Wikipedia article for **Oak Ridge, TN** is retrieved and stored in the variable `article`. The variable `article` has several components and `article.url` gives you the link to the Wikipedia page (click on it and check) and later we use `article.content` which contains the actual text for the word cloud."
   ]
  },
  {
   "cell_type": "markdown",
   "metadata": {},
   "source": [
    "## Step 2: Creating the word cloud\n",
    "\n",
    "Next we using the extension `wordcloud` to create the word cloud from the article we retrieved (remember the text is in `article.content`). Run the next cell by pressing `shift+enter`."
   ]
  },
  {
   "cell_type": "code",
   "execution_count": null,
   "metadata": {
    "collapsed": true
   },
   "outputs": [],
   "source": [
    "wc = WordCloud().generate(article.content)"
   ]
  },
  {
   "cell_type": "markdown",
   "metadata": {},
   "source": [
    "## Step 3: Plot the word cloud on screen\n",
    "\n",
    "Final step, we need to display the word cloud image we just created and stored in variable `wc`. Run the next cell to finally see your word cloud."
   ]
  },
  {
   "cell_type": "code",
   "execution_count": null,
   "metadata": {
    "collapsed": true
   },
   "outputs": [],
   "source": [
    "plt.imshow(wc)"
   ]
  },
  {
   "cell_type": "markdown",
   "metadata": {},
   "source": [
    "**Awesome - you made your first word cloud in Python**"
   ]
  },
  {
   "cell_type": "markdown",
   "metadata": {},
   "source": [
    "# Customize and make it your own\n",
    "\n",
    "Below is all the code to create and plot in one cell. We do not need to repeat the `import` commands, since the extensions are already loaded. Execute the cell as is and see if you get the same picture. Then read about customizing and keep modifying and executing the cell until you have your perfect word cloud. You can save the image by right clicking on the image with the mouse and selecting save image.\n",
    "\n",
    "### Changing plot appearence\n",
    "\n",
    "The following two lines will make the image larger and remove the axes labels. Add them just before `plt.imgshow(wc)`.\n",
    "\n",
    "> `plt.figure(figsize=(15, 15))`\n",
    "\n",
    "> `plt.axis(\"off\")`\n",
    "\n",
    "Add these and see what changes. The next improvement makes the image smoother by changing the `plt.imgshow(wc)` to\n",
    "\n",
    "> `plt.imshow(wc, interpolation=\"bilinear\")`\n",
    "\n",
    "Try it.\n",
    "\n",
    "### Adding options to the word cloud command\n",
    "\n",
    "In line `wx = WordCloud().generate(atricle.content)` you can add options between the first `()`. You can combine these separated by commas. Here are some examples. Modify the command and observe the differences in the resulting word cloud.\n",
    "\n",
    "> `wc = WordCloud(max_words=15).generate(article.content)`\n",
    "\n",
    "> `wc = WordCloud(width=1000, height=1000).generate(article.content)`\n",
    "\n",
    "> `wc = WordCloud(width=1000, height=1000, background_color=\"white\").generate(article.content)`\n",
    "\n",
    "> `wc = WordCloud(width=1000, height=1000, background_color=\"white\", stopwords=STOPWORDS).generate(article.content)`\n",
    "\n",
    "### Change the article\n",
    "\n",
    "Finally you can change **Oak Ridge, TN** in `article = wikipedia.page(\"Oak Ridge, TN\")`, try for example **Mildred Dresselhaus**. If there is not a single article related to your search term, you will see an error message.\n",
    "\n",
    "## Have fun."
   ]
  },
  {
   "cell_type": "code",
   "execution_count": null,
   "metadata": {
    "collapsed": true
   },
   "outputs": [],
   "source": [
    "# As you go on, modify the code in this cell to customize your word cloud\n",
    "\n",
    "article = wikipedia.page(\"Oak Ridge High School, TN\")\n",
    "print (article.url)\n",
    "\n",
    "wc = WordCloud(width=1000, height=1000, background_color=\"white\", stopwords=STOPWORDS).generate(article.content)\n",
    "\n",
    "plt.figure(figsize=(10, 10))\n",
    "plt.axis(\"off\")\n",
    "plt.imshow(wc)"
   ]
  },
  {
   "cell_type": "markdown",
   "metadata": {},
   "source": [
    "#### Remember you can save your word cloud image by right clicking on it and selecting *save image*."
   ]
  },
  {
   "cell_type": "code",
   "execution_count": null,
   "metadata": {
    "collapsed": true
   },
   "outputs": [],
   "source": []
  },
  {
   "cell_type": "code",
   "execution_count": null,
   "metadata": {
    "collapsed": true
   },
   "outputs": [],
   "source": []
  }
 ],
 "metadata": {
  "kernelspec": {
   "display_name": "Python 3",
   "language": "python",
   "name": "python3"
  },
  "language_info": {
   "codemirror_mode": {
    "name": "ipython",
    "version": 3
   },
   "file_extension": ".py",
   "mimetype": "text/x-python",
   "name": "python",
   "nbconvert_exporter": "python",
   "pygments_lexer": "ipython3",
   "version": "3.6.1"
  }
 },
 "nbformat": 4,
 "nbformat_minor": 2
}
