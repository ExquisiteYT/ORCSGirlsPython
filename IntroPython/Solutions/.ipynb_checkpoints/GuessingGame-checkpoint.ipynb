{
 "cells": [
  {
   "cell_type": "markdown",
   "metadata": {},
   "source": [
    "# Guessing Game\n",
    "\n",
    "Here is **one** possible solution to the guessing game."
   ]
  },
  {
   "cell_type": "code",
   "execution_count": null,
   "metadata": {},
   "outputs": [
    {
     "name": "stdout",
     "output_type": "stream",
     "text": [
      "Guess the secret number (1 to 20)\n",
      "=================================\n",
      "\n",
      "Guess number: 18\n",
      "Number is too high.\n",
      "Guess number: 21\n",
      "Number is too high.\n"
     ]
    }
   ],
   "source": [
    "import random\n",
    "\n",
    "secret = random.randint(1,20)\n",
    "\n",
    "guess = 0\n",
    "attempts = 0\n",
    "\n",
    "print (\"Guess the secret number (1 to 20)\")\n",
    "print (\"=================================\")\n",
    "print (\"\")\n",
    "\n",
    "while guess != secret:\n",
    "    guess = input(\"Guess number: \")\n",
    "    guess = int(guess)\n",
    "\n",
    "    if (guess > secret):\n",
    "        print (\"Number is too high.\")\n",
    "    else:\n",
    "        print (\"Number is too low.\")\n",
    "    \n",
    "    attempts += 1\n",
    "                  \n",
    "print (\"Congratulations, you guessed right !!\")\n",
    "print (\"Attempts used: \", attempts)\n"
   ]
  },
  {
   "cell_type": "markdown",
   "metadata": {
    "collapsed": true
   },
   "source": []
  }
 ],
 "metadata": {
  "kernelspec": {
   "display_name": "Python 3",
   "language": "python",
   "name": "python3"
  },
  "language_info": {
   "codemirror_mode": {
    "name": "ipython",
    "version": 3
   },
   "file_extension": ".py",
   "mimetype": "text/x-python",
   "name": "python",
   "nbconvert_exporter": "python",
   "pygments_lexer": "ipython3",
   "version": "3.6.1"
  }
 },
 "nbformat": 4,
 "nbformat_minor": 2
}
