{
  "nbformat": 4,
  "nbformat_minor": 0,
  "metadata": {
    "colab": {
      "name": "GuessingGame.ipynb",
      "version": "0.3.2",
      "provenance": [],
      "include_colab_link": true
    },
    "kernelspec": {
      "display_name": "Python 3",
      "language": "python",
      "name": "python3"
    }
  },
  "cells": [
    {
      "cell_type": "markdown",
      "metadata": {
        "id": "view-in-github",
        "colab_type": "text"
      },
      "source": [
        "<a href=\"https://colab.research.google.com/github/tproffen/ORCSGirlsPython/blob/master/IntroPython/Solutions/GuessingGame.ipynb\" target=\"_parent\"><img src=\"https://colab.research.google.com/assets/colab-badge.svg\" alt=\"Open In Colab\"/></a>"
      ]
    },
    {
      "metadata": {
        "id": "wz5XcXIUlhMy",
        "colab_type": "text"
      },
      "cell_type": "markdown",
      "source": [
        "# Guessing Game\n",
        "\n",
        "Here is **one** possible solution to the guessing game."
      ]
    },
    {
      "metadata": {
        "id": "h4aGXzrklhM1",
        "colab_type": "code",
        "colab": {}
      },
      "cell_type": "code",
      "source": [
        "import random\n",
        "\n",
        "secret = random.randint(1,20)\n",
        "\n",
        "guess = 0\n",
        "attempts = 0\n",
        "\n",
        "print (\"Guess the secret number (1 to 20)\")\n",
        "print (\"=================================\")\n",
        "print (\"\")\n",
        "\n",
        "while guess != secret:\n",
        "    guess = input(\"Guess number: \")\n",
        "    guess = int(guess)\n",
        "\n",
        "    if (guess > secret):\n",
        "        print (\"Number is too high.\")\n",
        "    else:\n",
        "        print (\"Number is too low.\")\n",
        "    \n",
        "    attempts += 1\n",
        "                  \n",
        "print (\"Congratulations, you guessed right !!\")\n",
        "print (\"Attempts used: \", attempts)\n"
      ],
      "execution_count": 0,
      "outputs": []
    },
    {
      "metadata": {
        "collapsed": true,
        "id": "r4srCjs3lhM7",
        "colab_type": "text"
      },
      "cell_type": "markdown",
      "source": [
        ""
      ]
    }
  ]
}