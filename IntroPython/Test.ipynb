{
  "nbformat": 4,
  "nbformat_minor": 0,
  "metadata": {
    "colab": {
      "name": "Activity 1.ipynb",
      "version": "0.3.2",
      "provenance": [],
      "include_colab_link": true
    },
    "kernelspec": {
      "display_name": "Python 3",
      "language": "python",
      "name": "python3"
    }
  },
  "cells": [
    {
      "cell_type": "markdown",
      "metadata": {
        "id": "view-in-github",
        "colab_type": "text"
      },
      "source": [
        "<a href=\"https://colab.research.google.com/github/tproffen/ORCSGirlsPython/blob/master/IntroPython/Test.ipynb\" target=\"_parent\"><img src=\"https://colab.research.google.com/assets/colab-badge.svg\" alt=\"Open In Colab\"/></a>"
      ]
    },
    {
      "metadata": {
        "id": "orTspLZozEUb",
        "colab_type": "text"
      },
      "cell_type": "markdown",
      "source": [
        "<img src=\"https://github.com/tproffen/ORCSGirlsPython/blob/master/IntroPython/Images/PoweredTechGirlz.png?raw=1\" width=\"15%\" align=\"right\" hpsace=\"50\">\n",
        "# Activity 1: Getting to know Jupyter Notebooks\n",
        "\n",
        "Each of these fields is called a *cell*. You can switch the type using the drop down menu above. We will use two types of cells\n",
        "\n",
        "- **Markdown**: This allows to add text and explainations to your notebook. \n",
        "- **Python**: This allows you to enter and execute Python code."
      ]
    },
    {
      "metadata": {
        "id": "CO2irPa1zEUc",
        "colab_type": "text"
      },
      "cell_type": "markdown",
      "source": [
        "## Markdown syntax:\n",
        "\n",
        "- Bold **text** - write `**text**`\n",
        "- Italics *text* - write `*italics*`\n",
        "- Headings - write `# Heading 1` or `## Heading 2` or `### Heading 3`\n",
        "- Links, e.g. __[Google](www.google.com)__ - write `__[Google](www.google.com)__`\n",
        "\n",
        "Finally to execute the contents of your cell, press `shift+enter`\n",
        "\n",
        "### Your turn\n",
        "\n",
        "In the blank cell below, change the type to **markdown** and enter your first name as heading, your school in **bold font** and your grade in *italics*. \n",
        "\n"
      ]
    },
    {
      "metadata": {
        "collapsed": true,
        "id": "-t5V-sBGzEUe",
        "colab_type": "text"
      },
      "cell_type": "markdown",
      "source": [
        "# Super cool"
      ]
    },
    {
      "metadata": {
        "id": "v0l1cCAtzEUf",
        "colab_type": "text"
      },
      "cell_type": "markdown",
      "source": [
        "### Ready for some Python?\n",
        "\n",
        "#### Hello world\n",
        "Let us start with writing `Hello world` on the screen. Make sure the type of the cell is **code** by checking the dropdown menu at the top. In the cell below enter \n",
        "\n",
        "> `print (\"Hello world\")` \n",
        "\n",
        "and press `shift+enter`."
      ]
    },
    {
      "metadata": {
        "id": "6xDqymrvzEUg",
        "colab_type": "code",
        "colab": {}
      },
      "cell_type": "code",
      "source": [
        "print (\"Hello\")"
      ],
      "execution_count": 0,
      "outputs": []
    },
    {
      "metadata": {
        "id": "T89BLYnuzEUm",
        "colab_type": "text"
      },
      "cell_type": "markdown",
      "source": [
        "## Cells and saving\n",
        "\n",
        "Look at the menu above. Click the `save` symbol to save your notebook. \n",
        "\n",
        "If you want to add a cell, click `Insert` and then `Insert cell above` or `insert cell below`. \n",
        "\n",
        "Try it now, **add a new cell above this one** and then type \n",
        "\n",
        "> `import this` \n",
        "\n",
        "into the new cell followed by `shift+return`. \n",
        "\n",
        "### You have discovered the *Zen of Python*\n",
        "\n",
        "\n",
        "# The End"
      ]
    },
    {
      "metadata": {
        "id": "yFmTC4WTzEUm",
        "colab_type": "code",
        "colab": {}
      },
      "cell_type": "code",
      "source": [
        "import this"
      ],
      "execution_count": 0,
      "outputs": []
    },
    {
      "metadata": {
        "id": "i7mfvH28zEUr",
        "colab_type": "code",
        "colab": {}
      },
      "cell_type": "code",
      "source": [
        ""
      ],
      "execution_count": 0,
      "outputs": []
    }
  ]
}
