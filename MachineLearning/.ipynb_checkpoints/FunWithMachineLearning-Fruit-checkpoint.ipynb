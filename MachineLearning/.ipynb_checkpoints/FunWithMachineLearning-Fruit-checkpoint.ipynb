{
 "cells": [
  {
   "cell_type": "markdown",
   "metadata": {},
   "source": [
    "<img src=\"Images/Logo.png\" width=\"15%\" align=\"right\" hpsace=\"50\">\n",
    "\n",
    "# Fun with Machine Learning \n",
    "\n",
    "Inspired by __[Machine Learning Recipes with Josh Gordon](https://www.youtube.com/watch?v=cKxRvEZd3Mw&list=PLOU2XLYxmsIIuiBfYad6rFYQU_jL2ryal)__.\n",
    "\n",
    "# Fruit classifier\n",
    "\n",
    "<img src=\"Images/apple-orange.jpg\" width=\"25%\" align=\"right\" hpsace=\"10\">\n",
    "\n",
    "We are writing a fruit classifier program that can recognize apples and oranges based on weight and smoothness of the surface. Rather than hard coding this for apples and oranges, we will use machine learning to classify any fruit (or other items) based on training data which include the correct label. In our case we have a long list of weights and surface smoothness values labelled with the correct fruit. From this data set, the computer will learn and be able to classify objects it learned about.\n",
    "\n",
    "A great thing about Python is that there are extensions for lots of different things you want to do, including machine learning! The code below reads those extenstions we need. Simply click in the cell below and hit `shift+enter` to execute."
   ]
  },
  {
   "cell_type": "code",
   "execution_count": 2,
   "metadata": {
    "collapsed": true
   },
   "outputs": [],
   "source": [
    "from sklearn.neighbors import KNeighborsClassifier\n",
    "import matplotlib.pyplot as plt\n",
    "import pandas as pd"
   ]
  },
  {
   "cell_type": "markdown",
   "metadata": {},
   "source": [
    "## Reading training data\n",
    "\n",
    "First we need to read the *labeled* data we want to learn from. In this example we used *supervised machine learning*, so we need to have a data set containing features as well as the correct label. Let's read the data and have a look. Hit `shitf+enter` in the next cell."
   ]
  },
  {
   "cell_type": "code",
   "execution_count": 3,
   "metadata": {},
   "outputs": [
    {
     "data": {
      "text/html": [
       "<div>\n",
       "<table border=\"1\" class=\"dataframe\">\n",
       "  <thead>\n",
       "    <tr style=\"text-align: right;\">\n",
       "      <th></th>\n",
       "      <th>Weight</th>\n",
       "      <th>Surface</th>\n",
       "      <th>Fruit</th>\n",
       "    </tr>\n",
       "  </thead>\n",
       "  <tbody>\n",
       "    <tr>\n",
       "      <th>0</th>\n",
       "      <td>142.533160</td>\n",
       "      <td>0.849955</td>\n",
       "      <td>0</td>\n",
       "    </tr>\n",
       "    <tr>\n",
       "      <th>1</th>\n",
       "      <td>147.921747</td>\n",
       "      <td>0.624190</td>\n",
       "      <td>0</td>\n",
       "    </tr>\n",
       "    <tr>\n",
       "      <th>2</th>\n",
       "      <td>146.834463</td>\n",
       "      <td>0.898738</td>\n",
       "      <td>0</td>\n",
       "    </tr>\n",
       "    <tr>\n",
       "      <th>3</th>\n",
       "      <td>137.184578</td>\n",
       "      <td>0.715882</td>\n",
       "      <td>0</td>\n",
       "    </tr>\n",
       "    <tr>\n",
       "      <th>4</th>\n",
       "      <td>148.781653</td>\n",
       "      <td>0.791810</td>\n",
       "      <td>0</td>\n",
       "    </tr>\n",
       "  </tbody>\n",
       "</table>\n",
       "</div>"
      ],
      "text/plain": [
       "       Weight   Surface  Fruit\n",
       "0  142.533160  0.849955      0\n",
       "1  147.921747  0.624190      0\n",
       "2  146.834463  0.898738      0\n",
       "3  137.184578  0.715882      0\n",
       "4  148.781653  0.791810      0"
      ]
     },
     "execution_count": 3,
     "metadata": {},
     "output_type": "execute_result"
    }
   ],
   "source": [
    "# Reading the data\n",
    "data = pd.read_csv('Data/Fruit.csv')\n",
    "\n",
    "# Showing the first 5 lines of data on the screen\n",
    "data.head(5)"
   ]
  },
  {
   "cell_type": "markdown",
   "metadata": {},
   "source": [
    "Let us check how many entries for apples and oranges we have. What would be good or bad numbers for the classifier to work?"
   ]
  },
  {
   "cell_type": "code",
   "execution_count": 90,
   "metadata": {},
   "outputs": [
    {
     "data": {
      "text/plain": [
       "1    100\n",
       "0    100\n",
       "dtype: int64"
      ]
     },
     "execution_count": 90,
     "metadata": {},
     "output_type": "execute_result"
    }
   ],
   "source": [
    "# Count how many entries of each type we have in the column 'Fruit'\n",
    "pd.value_counts(data['Fruit'].values)"
   ]
  },
  {
   "cell_type": "markdown",
   "metadata": {},
   "source": [
    "In our data set `Weight` contains the weight of the fruit and `Surface` tells us if the surface of the fruit is *smooth* (high value) or *rough* (low value). These two columns we call **features** as they later are the inputs we used to classified an unknown fruit. The last column `Fruit` is the label. So in this data set we *know* the corresponding fruit - encoded **0** for **Orange** and **1** for **Apple**.\n",
    "\n",
    "Next we need to split our dataset into features (columns `Weight` and `Surface`) and labels (column `Fruit`)."
   ]
  },
  {
   "cell_type": "code",
   "execution_count": 82,
   "metadata": {
    "collapsed": true
   },
   "outputs": [],
   "source": [
    "# Features are the columns 'weight' and 'surface' in the data set\n",
    "features = data[['Weight', 'Surface']].values\n",
    "\n",
    "# Labels is the column containing the type of fruit (0=Organe, 1=Apple)\n",
    "labels = data['Fruit'].values"
   ]
  },
  {
   "cell_type": "markdown",
   "metadata": {},
   "source": [
    "## Visualizing the data\n",
    "\n",
    "Now that we have the data, it is always good to visualize them. This is easy in case of just two features and can become rather challenging for complex data sets."
   ]
  },
  {
   "cell_type": "code",
   "execution_count": 78,
   "metadata": {},
   "outputs": [
    {
     "data": {
      "image/png": "[encoded data removed]",
      "text/plain": [
       "<matplotlib.figure.Figure at 0x7f7e5b456c18>"
      ]
     },
     "metadata": {},
     "output_type": "display_data"
    }
   ],
   "source": [
    "# Code to plot the data set\n",
    "plt.scatter(data['Weight'][data['Fruit']==1], data['Surface'][data['Fruit']==1], c='green',  label='Apples',  s=100)\n",
    "plt.scatter(data['Weight'][data['Fruit']==0], data['Surface'][data['Fruit']==0], c='orange', label='Oranges', s=100)\n",
    "\n",
    "plt.xlabel('Weight')\n",
    "plt.ylabel('Surface')\n",
    "plt.legend()\n",
    "plt.show()"
   ]
  },
  {
   "cell_type": "markdown",
   "metadata": {},
   "source": [
    "## Training\n",
    "\n",
    "Now we are ready to train. As you heard already, there are many different traing models. We specify `KNeighborsClassifier` as our classifier and then simple call `fit` using our feature and label arrays. Again just run the cell by enetring `shift+enter`."
   ]
  },
  {
   "cell_type": "code",
   "execution_count": 83,
   "metadata": {},
   "outputs": [
    {
     "data": {
      "text/plain": [
       "KNeighborsClassifier(algorithm='auto', leaf_size=30, metric='minkowski',\n",
       "           metric_params=None, n_jobs=1, n_neighbors=5, p=2,\n",
       "           weights='uniform')"
      ]
     },
     "execution_count": 83,
     "metadata": {},
     "output_type": "execute_result"
    }
   ],
   "source": [
    "# Selecting the classifier we want to use\n",
    "knn = KNeighborsClassifier()\n",
    "\n",
    "# Learning based on features and labels from our dataset\n",
    "knn.fit(features, labels)"
   ]
  },
  {
   "cell_type": "markdown",
   "metadata": {},
   "source": [
    "## Now use the trained network to make predictions\n",
    "\n",
    "So now we have our trained network. Let us explore how well it works, by making predictions. Explore by changing the values for weight and surface and see which fruit the computer predicts. Remember **0** stands for **Orange** and **1** for an **Apple**. "
   ]
  },
  {
   "cell_type": "code",
   "execution_count": 84,
   "metadata": {},
   "outputs": [
    {
     "name": "stdout",
     "output_type": "stream",
     "text": [
      "[1]\n"
     ]
    }
   ],
   "source": [
    "# Specify weight and surface value for unknown fruit\n",
    "weight = 160\n",
    "surface = 0.3\n",
    "\n",
    "# Use the computer to predict which kind of fruit this might be and print it\n",
    "print (knn.predict([[weight, surface]]))"
   ]
  },
  {
   "cell_type": "markdown",
   "metadata": {},
   "source": [
    "If you feel up to it, use your Python knowledge and modify the code above so it prints *Apple* or *Orange* on the screen rather than 0 or 1. You can also use the `input` command to prompt for weight and surface information.\n",
    "\n",
    "## Have fun"
   ]
  },
  {
   "cell_type": "code",
   "execution_count": null,
   "metadata": {
    "collapsed": true
   },
   "outputs": [],
   "source": []
  }
 ],
 "metadata": {
  "kernelspec": {
   "display_name": "Python 3",
   "language": "python",
   "name": "python3"
  },
  "language_info": {
   "codemirror_mode": {
    "name": "ipython",
    "version": 3
   },
   "file_extension": ".py",
   "mimetype": "text/x-python",
   "name": "python",
   "nbconvert_exporter": "python",
   "pygments_lexer": "ipython3",
   "version": "3.6.1"
  }
 },
 "nbformat": 4,
 "nbformat_minor": 2
}
