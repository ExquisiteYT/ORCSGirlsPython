{
 "cells": [
  {
   "cell_type": "markdown",
   "metadata": {},
   "source": [
    "<img src=\"Images/PoweredTechGirlz.png\" width=\"15%\" align=\"right\" hpsace=\"50\">\n",
    "\n",
    "# Activity 1: Introduction\n",
    "\n",
    "Before we get to machine learning, we have a few machine learning games and examples that you can try online without having to program anything.\n",
    "\n",
    "We will also try building machine learning programs ourselves! In this exercise we will go through all programming you will need for the rest of the class."
   ]
  },
  {
   "cell_type": "markdown",
   "metadata": {},
   "source": [
    "## Machine Learning examples\n",
    "\n",
    "Here are some machine learning examples you can try now:\n",
    "\n",
    "* <a href=\"http://scs.ryerson.ca/~aharley/vis/fc/\">Digit Classifier Tool</a>\n",
    "* <a href=\"https://magenta.tensorflow.org/assets/sketch_rnn_demo/index.html\">Drawing Completion Tool</a>\n",
    "* <a href=\"https://teachablemachine.withgoogle.com/\">Teachable Machine</a>\n",
    "* <a href=\"http://playground.tensorflow.org/\">Tensorflow Playground</a>\n",
    "\n",
    "Next, we'll get to know Jupyter Notebooks."
   ]
  },
  {
   "cell_type": "markdown",
   "metadata": {},
   "source": [
    "## Python Notebooks\n",
    "\n",
    "### Cells\n",
    "\n",
    "Python notebooks are composed of cells like the one in the picture below:\n",
    "\n",
    "<img src=\"Images/jupyter_basics.png\" width=\"100%\" align=\"center\" style=\"margin-top: 25px;\">"
   ]
  },
  {
   "cell_type": "markdown",
   "metadata": {},
   "source": [
    "### Cell Type\n",
    "\n",
    "Cells have a **type**. We will use two types:\n",
    "- **Markdown**: This allows to add text and explainations to your notebook. \n",
    "- **Code**: This allows you to enter and execute Python code."
   ]
  },
  {
   "cell_type": "markdown",
   "metadata": {},
   "source": [
    "### Running code\n",
    "\n",
    "You can run a cell either by pressing `shift` + `enter` or by pressing the little \"play\" button that looks like this:\n",
    "\n",
    "<img src=\"Images/ipython_bar.png\" width=\"50%\" align=\"center\" style=\"margin-top: 25px;\">"
   ]
  },
  {
   "cell_type": "markdown",
   "metadata": {},
   "source": [
    "### Hello World\n",
    "\n",
    "Let us start with writing `Hello, World!` on the screen. \n",
    "\n",
    "First, add a new cell bellow this cell. To do this, press the `+` button that looks like this:\n",
    "\n",
    "<img src=\"Images/add_cell_button.png\" width=\"50%\" align=\"center\" style=\"margin-top: 25px;\">\n",
    "\n",
    "Make sure the type of the cell is **code** by checking the dropdown menu at the top. In the new cell enter \n",
    "\n",
    "> `print (\"Hello, World!\")` \n",
    "\n",
    "and press `shift+enter` (or the little \"play\" button)."
   ]
  },
  {
   "cell_type": "markdown",
   "metadata": {},
   "source": [
    "### Cells and saving\n",
    "\n",
    "Look at the menu above. Click the `save` symbol to save your notebook. \n",
    "\n",
    "If you want to add a cell, you can either use the `+` button as you just did, or click `Insert` and then `Insert cell above` or `insert cell below`. \n",
    "\n",
    "Try it now, **add a new cell above this one** and then type \n",
    "\n",
    "> `import this` \n",
    "\n",
    "into the new cell followed by `shift+enter`. \n",
    "\n",
    "### You have discovered the *Zen of Python*"
   ]
  },
  {
   "cell_type": "markdown",
   "metadata": {},
   "source": [
    "## Python\n",
    "\n",
    "There are only three things we will need in Python:\n",
    "* **Variables** \n",
    "* **Lists**\n",
    "* **Functions**\n",
    "\n",
    "First, let's look at variables.\n",
    "\n",
    "### Variables\n",
    "\n",
    "Variables are a way for us to store information thay we may need later on.\n",
    "\n",
    "Say you are trying to calculate some equation the result of which you want to use later. You could either use:"
   ]
  },
  {
   "cell_type": "code",
   "execution_count": null,
   "metadata": {},
   "outputs": [],
   "source": [
    "7 * 25"
   ]
  },
  {
   "cell_type": "code",
   "execution_count": null,
   "metadata": {},
   "outputs": [],
   "source": [
    "175 + 21"
   ]
  },
  {
   "cell_type": "markdown",
   "metadata": {},
   "source": [
    "Or you could write:"
   ]
  },
  {
   "cell_type": "code",
   "execution_count": null,
   "metadata": {},
   "outputs": [],
   "source": [
    "my_number = 7 * 25\n",
    "\n",
    "another_number = my_number + 21\n",
    "\n",
    "print(another_number)"
   ]
  },
  {
   "cell_type": "markdown",
   "metadata": {},
   "source": [
    "Variables can also contain text. Text needs to be written in quotation marks like this:"
   ]
  },
  {
   "cell_type": "code",
   "execution_count": null,
   "metadata": {},
   "outputs": [],
   "source": [
    "my_name = \"Katie\"\n",
    "\n",
    "print(\"Hello,\", my_name)"
   ]
  },
  {
   "cell_type": "markdown",
   "metadata": {},
   "source": [
    "### Lists"
   ]
  },
  {
   "cell_type": "markdown",
   "metadata": {},
   "source": [
    "If you want Python to remember several things (like several names) you can use **lists**. Lists are created with squared brackets: `[` and `]`. Let's create a list:"
   ]
  },
  {
   "cell_type": "code",
   "execution_count": null,
   "metadata": {},
   "outputs": [],
   "source": [
    "names = [\"Harry\", \"Ron\", \"Hermione\", \"Hagrid\"]\n",
    "\n",
    "print(names)"
   ]
  },
  {
   "cell_type": "markdown",
   "metadata": {},
   "source": [
    "Lists can also contain numbers:"
   ]
  },
  {
   "cell_type": "code",
   "execution_count": null,
   "metadata": {},
   "outputs": [],
   "source": [
    "numbers = [10, 11, 12, 13]"
   ]
  },
  {
   "cell_type": "markdown",
   "metadata": {},
   "source": [
    "You can access a member of a list, you can use its sequence number. The first member has number 0, second is number 1, third is number 2 and so on (notice the numbers start from zero). This is what you would do to access the third member:"
   ]
  },
  {
   "cell_type": "code",
   "execution_count": null,
   "metadata": {},
   "outputs": [],
   "source": [
    "print(names[2]) # numbering starts from zero, so the third member can be accessed with number 2\n",
    "\n",
    "print(numbers[1])"
   ]
  },
  {
   "cell_type": "markdown",
   "metadata": {},
   "source": [
    "Lists are not static, you can add to them. When you add to a list, the new member is also put at the end:"
   ]
  },
  {
   "cell_type": "code",
   "execution_count": null,
   "metadata": {},
   "outputs": [],
   "source": [
    "names.append(\"Dumbledore\")\n",
    "\n",
    "print(names)"
   ]
  },
  {
   "cell_type": "markdown",
   "metadata": {},
   "source": [
    "Can you add your name to the list?"
   ]
  },
  {
   "cell_type": "code",
   "execution_count": null,
   "metadata": {},
   "outputs": [],
   "source": []
  },
  {
   "cell_type": "markdown",
   "metadata": {},
   "source": [
    "## Functions\n",
    "\n",
    "Functions are almost like mini-programs with a name.\n",
    "\n",
    "For example, you can have a simple function that says hello to a specific person."
   ]
  },
  {
   "cell_type": "code",
   "execution_count": null,
   "metadata": {},
   "outputs": [],
   "source": [
    "def say_hello(name):\n",
    "    print(\"Hello,\", name)"
   ]
  },
  {
   "cell_type": "markdown",
   "metadata": {},
   "source": [
    "To run the function, you need to write its name (`say_hello`) followed by brackets -- inside the brackets is where you would put any information you want to pass to the function. For example:"
   ]
  },
  {
   "cell_type": "code",
   "execution_count": null,
   "metadata": {},
   "outputs": [],
   "source": [
    "say_hello(\"Katie\")"
   ]
  },
  {
   "cell_type": "markdown",
   "metadata": {},
   "source": [
    "We will use a few functions in our next exercise."
   ]
  },
  {
   "cell_type": "markdown",
   "metadata": {},
   "source": [
    "# That's All Folks! Now you know Python!"
   ]
  }
 ],
 "metadata": {
  "kernelspec": {
   "display_name": "Python 3",
   "language": "python",
   "name": "python3"
  },
  "language_info": {
   "codemirror_mode": {
    "name": "ipython",
    "version": 3
   },
   "file_extension": ".py",
   "mimetype": "text/x-python",
   "name": "python",
   "nbconvert_exporter": "python",
   "pygments_lexer": "ipython3",
   "version": "3.6.5"
  }
 },
 "nbformat": 4,
 "nbformat_minor": 2
}
