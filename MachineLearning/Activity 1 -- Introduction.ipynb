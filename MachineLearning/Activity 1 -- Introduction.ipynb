{
  "nbformat": 4,
  "nbformat_minor": 0,
  "metadata": {
    "colab": {
      "name": "Activity 1 -- Introduction.ipynb",
      "version": "0.3.2",
      "provenance": [],
      "include_colab_link": true
    },
    "kernelspec": {
      "display_name": "Python 3",
      "language": "python",
      "name": "python3"
    }
  },
  "cells": [
    {
      "cell_type": "markdown",
      "metadata": {
        "id": "view-in-github",
        "colab_type": "text"
      },
      "source": [
        "<a href=\"https://colab.research.google.com/github/tproffen/ORCSGirlsPython/blob/master/MachineLearning/Activity%201%20--%20Introduction.ipynb\" target=\"_parent\"><img src=\"https://colab.research.google.com/assets/colab-badge.svg\" alt=\"Open In Colab\"/></a>"
      ]
    },
    {
      "metadata": {
        "id": "r-5mZyjuLNZg",
        "colab_type": "text"
      },
      "cell_type": "markdown",
      "source": [
        "<img src=\"https://github.com/tproffen/ORCSGirlsPython/blob/master/Images/PoweredTechGirlz.png?raw=1\" width=\"15%\" align=\"right\" hpsace=\"50\">\n",
        "\n",
        "# Activity 1: Introduction\n",
        "\n",
        "Before we get to machine learning, we have a few machine learning games and examples that you can try online without having to program anything. We will also try building machine learning programs ourselves! In this exercise we will go through all programming you will need for the rest of the class."
      ]
    },
    {
      "metadata": {
        "id": "qgqtOpXBLNZi",
        "colab_type": "text"
      },
      "cell_type": "markdown",
      "source": [
        "## Machine Learning examples\n",
        "\n",
        "Here are some machine learning examples you can try now:\n",
        "\n",
        "* <a href=\"http://scs.ryerson.ca/~aharley/vis/fc/\">Digit Classifier Tool</a>\n",
        "* <a href=\"https://magenta.tensorflow.org/assets/sketch_rnn_demo/index.html\">Drawing Completion Tool</a>\n",
        "* <a href=\"https://teachablemachine.withgoogle.com/\">Teachable Machine</a>\n",
        "* <a href=\"http://playground.tensorflow.org/\">Tensorflow Playground</a>\n",
        "\n",
        "Next, we'll get to know Jupyter Notebooks."
      ]
    },
    {
      "metadata": {
        "id": "uxvBIQgsLNZj",
        "colab_type": "text"
      },
      "cell_type": "markdown",
      "source": [
        "## Python Notebooks\n",
        "\n",
        "**Note:** If you are running this notebook using <a href=\"https://colab.research.google.com/\">Google Colaboratory</a>, the screen will look somewhat different. You can use the **+ Code** and **+ Text** buttons to add **Markdown** and **Code** cells. Execute a cell by pressing `shift` + `enter` or clocking the play button next to the cell.\n",
        "\n",
        "### Cells\n",
        "\n",
        "Python notebooks are composed of cells.\n",
        "Cells have a **type**. We will use two types:\n",
        "- **Text**: This allows to add text and explainations to your notebook. \n",
        "- **Code**: This allows you to enter and execute Python code.\n",
        "\n",
        "### Running code\n",
        "\n",
        "You can run a cell either by pressing `shift` + `enter` or by pressing the little \"play\" button to theleft of the cell.\n",
        "\n",
        "### Hello World\n",
        "\n",
        "Let us start with writing `Hello, World!` on the screen. \n",
        "\n",
        "Click in the cell beloq and enter \n",
        "\n",
        "> `print (\"Hello, World!\")` \n",
        "\n",
        "and press `shift+enter` (or the little \"play\" button)."
      ]
    },
    {
      "metadata": {
        "id": "_vexTkpfwt67",
        "colab_type": "code",
        "colab": {}
      },
      "cell_type": "code",
      "source": [
        ""
      ],
      "execution_count": 0,
      "outputs": []
    },
    {
      "metadata": {
        "id": "8VQzQ85YLNZm",
        "colab_type": "text"
      },
      "cell_type": "markdown",
      "source": [
        "### Cells and saving\n",
        "\n",
        "Look at the menu above. Click the `save` symbol to save your notebook. \n",
        "\n",
        "If you want to add a cell, you can either use the `+` button as you just did, or click `Insert` and then `Insert cell above` or `insert cell below`. \n",
        "\n",
        "Try it now, **add a new cell above this one** and then type \n",
        "\n",
        "> `import this` \n",
        "\n",
        "into the new cell followed by `shift+enter`. \n",
        "\n",
        "### You have discovered the *Zen of Python*"
      ]
    },
    {
      "metadata": {
        "id": "mBt1LAwKLNZn",
        "colab_type": "text"
      },
      "cell_type": "markdown",
      "source": [
        "## Python\n",
        "\n",
        "There are only three things we will need in Python:\n",
        "* **Variables** \n",
        "* **Lists**\n",
        "* **Functions**\n",
        "\n",
        "First, let's look at variables.\n",
        "\n",
        "### Variables\n",
        "\n",
        "Variables are a way for us to store information thay we may need later on.\n",
        "\n",
        "Say you are trying to calculate some equation the result of which you want to use later. You could either use:"
      ]
    },
    {
      "metadata": {
        "id": "LdmtQgNeLNZo",
        "colab_type": "code",
        "colab": {}
      },
      "cell_type": "code",
      "source": [
        "7 * 25"
      ],
      "execution_count": 0,
      "outputs": []
    },
    {
      "metadata": {
        "id": "kJ5tkWVPLNZr",
        "colab_type": "code",
        "colab": {}
      },
      "cell_type": "code",
      "source": [
        "175 + 21"
      ],
      "execution_count": 0,
      "outputs": []
    },
    {
      "metadata": {
        "id": "Qp3JlBbULNZu",
        "colab_type": "text"
      },
      "cell_type": "markdown",
      "source": [
        "Or you could write:"
      ]
    },
    {
      "metadata": {
        "id": "ZK3P4rMkLNZu",
        "colab_type": "code",
        "colab": {}
      },
      "cell_type": "code",
      "source": [
        "my_number = 7 * 25\n",
        "\n",
        "another_number = my_number + 21\n",
        "\n",
        "print(another_number)"
      ],
      "execution_count": 0,
      "outputs": []
    },
    {
      "metadata": {
        "id": "hSonYQOrLNZx",
        "colab_type": "text"
      },
      "cell_type": "markdown",
      "source": [
        "Variables can also contain text. Text needs to be written in quotation marks like this:"
      ]
    },
    {
      "metadata": {
        "id": "9NtWMO1HLNZy",
        "colab_type": "code",
        "colab": {}
      },
      "cell_type": "code",
      "source": [
        "my_name = \"Katie\"\n",
        "\n",
        "print(\"Hello,\", my_name)"
      ],
      "execution_count": 0,
      "outputs": []
    },
    {
      "metadata": {
        "id": "3SdKcaIrLNZ0",
        "colab_type": "text"
      },
      "cell_type": "markdown",
      "source": [
        "### Lists"
      ]
    },
    {
      "metadata": {
        "id": "z1hq6LoULNZ1",
        "colab_type": "text"
      },
      "cell_type": "markdown",
      "source": [
        "If you want Python to remember several things (like several names) you can use **lists**. Lists are created with squared brackets: `[` and `]`. Let's create a list:"
      ]
    },
    {
      "metadata": {
        "id": "TRUfLQ5ZLNZ2",
        "colab_type": "code",
        "colab": {}
      },
      "cell_type": "code",
      "source": [
        "names = [\"Harry\", \"Ron\", \"Hermione\", \"Hagrid\"]\n",
        "\n",
        "print(names)"
      ],
      "execution_count": 0,
      "outputs": []
    },
    {
      "metadata": {
        "id": "_088o2uULNZ5",
        "colab_type": "text"
      },
      "cell_type": "markdown",
      "source": [
        "Lists can also contain numbers:"
      ]
    },
    {
      "metadata": {
        "id": "7ScxAUTDLNZ6",
        "colab_type": "code",
        "colab": {}
      },
      "cell_type": "code",
      "source": [
        "numbers = [10, 11, 12, 13]"
      ],
      "execution_count": 0,
      "outputs": []
    },
    {
      "metadata": {
        "id": "0RTPDf0MLNZ7",
        "colab_type": "text"
      },
      "cell_type": "markdown",
      "source": [
        "You can access a member of a list, you can use its sequence number. The first member has number 0, second is number 1, third is number 2 and so on (notice the numbers start from zero). This is what you would do to access the third member:"
      ]
    },
    {
      "metadata": {
        "id": "l6nupqUbLNZ8",
        "colab_type": "code",
        "colab": {}
      },
      "cell_type": "code",
      "source": [
        "print(names[2]) # numbering starts from zero, so the third member can be accessed with number 2\n",
        "\n",
        "print(numbers[1])"
      ],
      "execution_count": 0,
      "outputs": []
    },
    {
      "metadata": {
        "id": "X08gf2BRLNZ_",
        "colab_type": "text"
      },
      "cell_type": "markdown",
      "source": [
        "Lists are not static, you can add to them. When you add to a list, the new member is also put at the end:"
      ]
    },
    {
      "metadata": {
        "id": "qbB3vrwSLNaB",
        "colab_type": "code",
        "colab": {}
      },
      "cell_type": "code",
      "source": [
        "names.append(\"Dumbledore\")\n",
        "\n",
        "print(names)"
      ],
      "execution_count": 0,
      "outputs": []
    },
    {
      "metadata": {
        "id": "Kxneu8PpLNaC",
        "colab_type": "text"
      },
      "cell_type": "markdown",
      "source": [
        "Can you add your name to the list?"
      ]
    },
    {
      "metadata": {
        "id": "-z32-4WGLNaD",
        "colab_type": "code",
        "colab": {}
      },
      "cell_type": "code",
      "source": [
        ""
      ],
      "execution_count": 0,
      "outputs": []
    },
    {
      "metadata": {
        "id": "ET4zVazhLNaF",
        "colab_type": "text"
      },
      "cell_type": "markdown",
      "source": [
        "## Functions\n",
        "\n",
        "Functions are almost like mini-programs with a name.\n",
        "\n",
        "For example, you can have a simple function that says hello to a specific person."
      ]
    },
    {
      "metadata": {
        "id": "2iqNOXDuLNaG",
        "colab_type": "code",
        "colab": {}
      },
      "cell_type": "code",
      "source": [
        "def say_hello(name):\n",
        "    print(\"Hello,\", name)"
      ],
      "execution_count": 0,
      "outputs": []
    },
    {
      "metadata": {
        "id": "mJfKWe53LNaI",
        "colab_type": "text"
      },
      "cell_type": "markdown",
      "source": [
        "To run the function, you need to write its name (`say_hello`) followed by brackets -- inside the brackets is where you would put any information you want to pass to the function. For example:"
      ]
    },
    {
      "metadata": {
        "id": "1imDRNx6LNaJ",
        "colab_type": "code",
        "colab": {}
      },
      "cell_type": "code",
      "source": [
        "say_hello(\"Katie\")"
      ],
      "execution_count": 0,
      "outputs": []
    },
    {
      "metadata": {
        "id": "JqrtFwPjLNaM",
        "colab_type": "text"
      },
      "cell_type": "markdown",
      "source": [
        "We will use a few functions in our next exercise."
      ]
    },
    {
      "metadata": {
        "id": "yCJ7C9rBLNaN",
        "colab_type": "text"
      },
      "cell_type": "markdown",
      "source": [
        "# That's All Folks! Now you know Python!"
      ]
    },
    {
      "metadata": {
        "id": "tHOlXvknMyp8",
        "colab_type": "code",
        "colab": {}
      },
      "cell_type": "code",
      "source": [
        ""
      ],
      "execution_count": 0,
      "outputs": []
    }
  ]
}