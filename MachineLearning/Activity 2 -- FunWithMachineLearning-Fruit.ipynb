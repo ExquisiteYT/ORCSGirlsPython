{
  "nbformat": 4,
  "nbformat_minor": 0,
  "metadata": {
    "colab": {
      "name": "Activity 2 -- FunWithMachineLearning-Fruit.ipynb",
      "version": "0.3.2",
      "provenance": [],
      "include_colab_link": true
    },
    "kernelspec": {
      "display_name": "Python 3",
      "language": "python",
      "name": "python3"
    }
  },
  "cells": [
    {
      "cell_type": "markdown",
      "metadata": {
        "id": "view-in-github",
        "colab_type": "text"
      },
      "source": [
        "<a href=\"https://colab.research.google.com/github/tproffen/ORCSGirlsPython/blob/master/MachineLearning/Activity%202%20--%20FunWithMachineLearning-Fruit.ipynb\" target=\"_parent\"><img src=\"https://colab.research.google.com/assets/colab-badge.svg\" alt=\"Open In Colab\"/></a>"
      ]
    },
    {
      "metadata": {
        "id": "H4fBqb2XtX_D",
        "colab_type": "text"
      },
      "cell_type": "markdown",
      "source": [
        "<img src=\"https://github.com/tproffen/ORCSGirlsPython/blob/master/MachineLearning/Images/PoweredTechGirlz.png?raw=1\" width=\"15%\" align=\"right\" hpsace=\"50\">\n",
        "\n",
        "# Activity 2: Fun with Machine Learning \n",
        "\n",
        "Inspired by __[Machine Learning Recipes with Josh Gordon](https://www.youtube.com/watch?v=cKxRvEZd3Mw&list=PLOU2XLYxmsIIuiBfYad6rFYQU_jL2ryal)__.\n",
        "\n",
        "# Fruit classifier\n",
        "\n",
        "<img src=\"https://github.com/tproffen/ORCSGirlsPython/blob/master/MachineLearning/Images/apple-orange.jpg?raw=1\" width=\"25%\" align=\"right\" hpsace=\"10\">\n",
        "\n",
        "We are writing a fruit classifier program that can recognize apples and oranges based on weight and smoothness of the surface. Rather than hard coding this for apples and oranges, we will use machine learning to classify any fruit (or other items) based on training data which include the correct label. In our case we have a long list of weights and surface smoothness values labelled with the correct fruit. From this data set, the computer will learn and be able to classify objects it learned about.\n",
        "\n",
        "A great thing about Python is that there are extensions for lots of different things you want to do, including machine learning! The code below reads those extenstions we need. Simply click in the cell below and hit `shift+enter` to execute."
      ]
    },
    {
      "metadata": {
        "id": "9OJ1kv4XPP5a",
        "colab_type": "code",
        "colab": {}
      },
      "cell_type": "code",
      "source": [
        "!mkdir -p Data\n",
        "!curl -o Data/Fruit.csv https://raw.githubusercontent.com/tproffen/ORCSGirlsPython/master/MachineLearning/Data/Fruit.csv"
      ],
      "execution_count": 0,
      "outputs": []
    },
    {
      "metadata": {
        "id": "wbsgaV7ptX_E",
        "colab_type": "code",
        "colab": {}
      },
      "cell_type": "code",
      "source": [
        "from sklearn.neighbors import KNeighborsClassifier\n",
        "from sklearn import model_selection\n",
        "from sklearn.metrics import accuracy_score\n",
        "import matplotlib.pyplot as plt\n",
        "import pandas as pd\n",
        "\n",
        "import matplotlib as mpl\n",
        "mpl.rcParams['lines.markersize'] = 12"
      ],
      "execution_count": 0,
      "outputs": []
    },
    {
      "metadata": {
        "id": "FPdhhjfmtX_I",
        "colab_type": "text"
      },
      "cell_type": "markdown",
      "source": [
        "## Reading training data\n",
        "\n",
        "First we need to read the *labeled* data we want to learn from. In this example we used *supervised machine learning*, so we need to have a data set containing inputs as well as the correct label. Let's read the data and have a look. Hit `shift+enter` in the next cell."
      ]
    },
    {
      "metadata": {
        "id": "c0WuDdfKtX_I",
        "colab_type": "code",
        "colab": {}
      },
      "cell_type": "code",
      "source": [
        "# Reading the data\n",
        "data = pd.read_csv('Data/Fruit.csv')\n",
        "\n",
        "# Showing the first 5 lines of data on the screen\n",
        "data.head(5)"
      ],
      "execution_count": 0,
      "outputs": []
    },
    {
      "metadata": {
        "id": "KeEw3UbHtX_M",
        "colab_type": "text"
      },
      "cell_type": "markdown",
      "source": [
        "Let us check how many entries for apples and oranges we have. What would be good or bad numbers for the classifier to work?"
      ]
    },
    {
      "metadata": {
        "id": "o_Nrqt9jtX_M",
        "colab_type": "code",
        "colab": {}
      },
      "cell_type": "code",
      "source": [
        "# Count how many entries of each type we have in the column 'Fruit'\n",
        "pd.value_counts(data['Fruit'].values)"
      ],
      "execution_count": 0,
      "outputs": []
    },
    {
      "metadata": {
        "id": "z3KlthY3tX_P",
        "colab_type": "text"
      },
      "cell_type": "markdown",
      "source": [
        "In our data set `Weight` contains the weight of the fruit and `Surface` tells us if the surface of the fruit is *smooth* (high value) or *rough* (low value). These two columns we call **inputs** as they later are the inputs we used to classified an unknown fruit. The last column `Fruit` is the label. So in this data set we *know* the corresponding fruit - encoded **0** for **Orange** and **1** for **Apple**.\n",
        "\n",
        "Next we need to split our dataset into inputs (columns `Weight` and `Surface`) and labels (column `Fruit`). The last command then splits the inputs and data and selects 20% of the data at random and sets them aside as test data set. We will use it later to check our model."
      ]
    },
    {
      "metadata": {
        "id": "pAQthzUjtX_P",
        "colab_type": "code",
        "colab": {}
      },
      "cell_type": "code",
      "source": [
        "# Preparing data and create training and test inputs and labels\n",
        "inputs_train, inputs_test, labels_train, labels_test = \\\n",
        "       model_selection.train_test_split(data[['Weight', 'Surface']].values, data['Fruit'].values, test_size=0.2)"
      ],
      "execution_count": 0,
      "outputs": []
    },
    {
      "metadata": {
        "id": "BCzQXY95tX_R",
        "colab_type": "text"
      },
      "cell_type": "markdown",
      "source": [
        "## Visualizing the data\n",
        "\n",
        "Now that we have the data, it is always good to visualize them. This is easy in case of just two inputs and can become rather challenging for complex data sets."
      ]
    },
    {
      "metadata": {
        "id": "Zmz_iFy5tX_T",
        "colab_type": "code",
        "colab": {}
      },
      "cell_type": "code",
      "source": [
        "# Plotting data\n",
        "plt.figure(figsize=(12, 8))\n",
        "\n",
        "plt.scatter(inputs_train[labels_train==1, 0], inputs_train[labels_train==1, 1], c='green',  label='Apples')\n",
        "plt.scatter(inputs_train[labels_train==0, 0], inputs_train[labels_train==0, 1], c='orange', label='Oranges')\n",
        "plt.scatter(inputs_test[labels_test==1, 0], inputs_test[labels_test==1, 1], c='green',  label='Apples (Test)',  marker='*')\n",
        "plt.scatter(inputs_test[labels_test==0, 0], inputs_test[labels_test==0, 1], c='orange', label='Oranges (Test)', marker='*')\n",
        "\n",
        "plt.xlabel('Weight')\n",
        "plt.ylabel('Surface')\n",
        "plt.legend()\n",
        "plt.show()"
      ],
      "execution_count": 0,
      "outputs": []
    },
    {
      "metadata": {
        "id": "z38Eoq-CtX_V",
        "colab_type": "text"
      },
      "cell_type": "markdown",
      "source": [
        "## Training\n",
        "\n",
        "Now we are ready to train. As you heard already, there are many different traing models. We specify `KNeighborsClassifier` as our classifier and then simple call `fit` using our inputs and label arrays. Again just run the cell by enetring `shift+enter`."
      ]
    },
    {
      "metadata": {
        "id": "_OBH4-B0tX_W",
        "colab_type": "code",
        "colab": {}
      },
      "cell_type": "code",
      "source": [
        "# Selecting the classifier we want to use\n",
        "knn = KNeighborsClassifier()\n",
        "\n",
        "# Learning based on inputs and labels from our dataset\n",
        "knn.fit(inputs_train, labels_train)"
      ],
      "execution_count": 0,
      "outputs": []
    },
    {
      "metadata": {
        "id": "3tmZr1zltX_Z",
        "colab_type": "text"
      },
      "cell_type": "markdown",
      "source": [
        "## Check against test data\n",
        "\n",
        "Now we use the test data and see how many fruit were classified correctly using our model. The value is the percentage of test data classified correctly, so 100% would indicate all fruit were classified correctly."
      ]
    },
    {
      "metadata": {
        "id": "2lsVEnOotX_a",
        "colab_type": "code",
        "colab": {}
      },
      "cell_type": "code",
      "source": [
        "# Predict what the classes are based on the testing data\n",
        "predictions = knn.predict(inputs_test)\n",
        "\n",
        "# Print the score on the testing data\n",
        "print(\"KNN Testing Set Score:\")\n",
        "print(accuracy_score(labels_test, predictions)*100)"
      ],
      "execution_count": 0,
      "outputs": []
    },
    {
      "metadata": {
        "id": "s3nOdAGmtX_c",
        "colab_type": "text"
      },
      "cell_type": "markdown",
      "source": [
        "## Now use the trained network to make predictions\n",
        "\n",
        "So now we have our trained network. Let us explore how well it works, by making predictions. Explore by changing the values for weight and surface and see which fruit the computer predicts. Remember **0** stands for **Orange** and **1** for an **Apple**. "
      ]
    },
    {
      "metadata": {
        "id": "smnqx5ExtX_e",
        "colab_type": "code",
        "colab": {}
      },
      "cell_type": "code",
      "source": [
        "# Specify weight and surface value for unknown fruit\n",
        "weight = 160\n",
        "surface = 0.3\n",
        "\n",
        "# Use the computer to predict which kind of fruit this might be and print it\n",
        "print (knn.predict([[weight, surface]]))"
      ],
      "execution_count": 0,
      "outputs": []
    },
    {
      "metadata": {
        "id": "rOEZ7HeotX_g",
        "colab_type": "text"
      },
      "cell_type": "markdown",
      "source": [
        "If you feel up to it, use your Python knowledge and modify the code above so it prints *Apple* or *Orange* on the screen rather than 0 or 1. You can also use the `input` command to prompt for weight and surface information.\n",
        "\n",
        "## Have fun"
      ]
    },
    {
      "metadata": {
        "id": "OP-SmAMsvdIB",
        "colab_type": "code",
        "colab": {}
      },
      "cell_type": "code",
      "source": [
        ""
      ],
      "execution_count": 0,
      "outputs": []
    }
  ]
}