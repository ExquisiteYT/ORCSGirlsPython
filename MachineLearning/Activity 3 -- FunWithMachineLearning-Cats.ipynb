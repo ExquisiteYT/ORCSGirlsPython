{
  "nbformat": 4,
  "nbformat_minor": 0,
  "metadata": {
    "colab": {
      "name": "Activity 3 -- FunWithMachineLearning-Cats.ipynb",
      "version": "0.3.2",
      "provenance": [],
      "include_colab_link": true
    },
    "kernelspec": {
      "display_name": "Python 3",
      "language": "python",
      "name": "python3"
    }
  },
  "cells": [
    {
      "cell_type": "markdown",
      "metadata": {
        "id": "view-in-github",
        "colab_type": "text"
      },
      "source": [
        "<a href=\"https://colab.research.google.com/github/tproffen/ORCSGirlsPython/blob/master/MachineLearning/Activity%203%20--%20FunWithMachineLearning-Cats.ipynb\" target=\"_parent\"><img src=\"https://colab.research.google.com/assets/colab-badge.svg\" alt=\"Open In Colab\"/></a>"
      ]
    },
    {
      "metadata": {
        "id": "xVOj15e9KeqU",
        "colab_type": "text"
      },
      "cell_type": "markdown",
      "source": [
        "<img src=\"https://github.com/tproffen/ORCSGirlsPython/blob/master/MachineLearning/Images/PoweredTechGirlz.png?raw=1\" width=\"15%\" align=\"right\" hpsace=\"50\">\n",
        "\n",
        "# Activity 3: Fun with Machine Learning \n",
        "\n",
        "This exercise uses data from the <a href=\"https://www.cs.toronto.edu/~kriz/cifar.html\">CIFAR-10</a> dataset.\n",
        "\n",
        "# Cat classifier\n",
        "\n",
        "<img src=\"https://github.com/tproffen/ORCSGirlsPython/blob/master/MachineLearning/Images/cat.jpg?raw=1\" width=\"10%\" align=\"right\" hpsace=\"10\">\n",
        "\n",
        "In this exercise, we will use what we just leaned to create a cat classifier. We have prepared a dataset of 500 images and in this exercise we will teach a machine learning algorithm to distinguish which ones are images of cats and which ones aren't."
      ]
    },
    {
      "metadata": {
        "id": "6_MNZyo8KeqW",
        "colab_type": "code",
        "colab": {
          "base_uri": "https://localhost:8080/",
          "height": 119
        },
        "outputId": "a59873f0-1350-4fe1-f57c-aabed136f6d9"
      },
      "cell_type": "code",
      "source": [
        "!mkdir -p Helpers\n",
        "!curl -o Helpers/helpers.py https://raw.githubusercontent.com/tproffen/ORCSGirlsPython/master/MachineLearning/Helpers/helpers.py\n",
        "!mkdir -p Data\n",
        "!curl -o Data/Cats.csv https://raw.githubusercontent.com/tproffen/ORCSGirlsPython/master/MachineLearning/Data/Cats.csv\n",
        "\n",
        "from sklearn.neighbors import KNeighborsClassifier\n",
        "from sklearn import model_selection\n",
        "from sklearn.metrics import accuracy_score\n",
        "from collections import Counter\n",
        "from Helpers.helpers import *\n",
        "\n",
        "%matplotlib inline\n",
        "import matplotlib as mpl\n",
        "mpl.rcParams['lines.markersize'] = 12"
      ],
      "execution_count": 1,
      "outputs": [
        {
          "output_type": "stream",
          "text": [
            "  % Total    % Received % Xferd  Average Speed   Time    Time     Time  Current\n",
            "                                 Dload  Upload   Total   Spent    Left  Speed\n",
            "100   676  100   676    0     0   3776      0 --:--:-- --:--:-- --:--:--  3776\n",
            "  % Total    % Received % Xferd  Average Speed   Time    Time     Time  Current\n",
            "                                 Dload  Upload   Total   Spent    Left  Speed\n",
            "100 6843k  100 6843k    0     0  16.3M      0 --:--:-- --:--:-- --:--:-- 16.3M\n"
          ],
          "name": "stdout"
        }
      ]
    },
    {
      "metadata": {
        "id": "8V5D-UklKeqZ",
        "colab_type": "text"
      },
      "cell_type": "markdown",
      "source": [
        "## Reading training data\n",
        "\n",
        "First we need to read the *labeled* data we want to learn from. In this example we used *supervised machine learning*, so we need to have a data set containing inputs as well as the correct label. Let's read the data and have a look. Hit `shitf+enter` in the next cell."
      ]
    },
    {
      "metadata": {
        "scrolled": false,
        "id": "srgQWLAjKeqb",
        "colab_type": "code",
        "colab": {
          "base_uri": "https://localhost:8080/",
          "height": 283
        },
        "outputId": "44bf477e-70e2-4897-d4c1-b264cecb9cb3"
      },
      "cell_type": "code",
      "source": [
        "# Reading the data\n",
        "data, labels = load_cat_data()\n",
        "\n",
        "# We can now look at the data we loaded, for example\n",
        "plot_image(data, labels, 0)"
      ],
      "execution_count": 2,
      "outputs": [
        {
          "output_type": "stream",
          "text": [
            "label:  cat\n"
          ],
          "name": "stdout"
        },
        {
          "output_type": "display_data",
          "data": {
            "image/png": "[encoded data removed]",
            "text/plain": [
              "<matplotlib.figure.Figure at 0x7fe461f9cc50>"
            ]
          },
          "metadata": {
            "tags": []
          }
        }
      ]
    },
    {
      "metadata": {
        "id": "-ppY8lb1Keqd",
        "colab_type": "text"
      },
      "cell_type": "markdown",
      "source": [
        "Let's look at an example of a non-cat image"
      ]
    },
    {
      "metadata": {
        "id": "PeFVVKDSKeqe",
        "colab_type": "code",
        "colab": {
          "base_uri": "https://localhost:8080/",
          "height": 283
        },
        "outputId": "d54b13a2-57cc-4212-e078-e38cbbcb10a5"
      },
      "cell_type": "code",
      "source": [
        "plot_image(data, labels, 4)"
      ],
      "execution_count": 3,
      "outputs": [
        {
          "output_type": "stream",
          "text": [
            "label:  not cat\n"
          ],
          "name": "stdout"
        },
        {
          "output_type": "display_data",
          "data": {
            "image/png": "[encoded data removed]",
            "text/plain": [
              "<matplotlib.figure.Figure at 0x7fe45f8762e8>"
            ]
          },
          "metadata": {
            "tags": []
          }
        }
      ]
    },
    {
      "metadata": {
        "id": "84QTG6JsKeqg",
        "colab_type": "text"
      },
      "cell_type": "markdown",
      "source": [
        "Let us check how many entries for cats and non-cats we have. What would be good or bad numbers for the classifier to work?"
      ]
    },
    {
      "metadata": {
        "id": "IGVX_9u-Keqh",
        "colab_type": "code",
        "colab": {
          "base_uri": "https://localhost:8080/",
          "height": 34
        },
        "outputId": "298e31c1-6c07-4952-d93d-06bb2edf7362"
      },
      "cell_type": "code",
      "source": [
        "# Count how many entries of each type we have in the list 'labels'\n",
        "Counter(labels).most_common()"
      ],
      "execution_count": 4,
      "outputs": [
        {
          "output_type": "execute_result",
          "data": {
            "text/plain": [
              "[('cat', 250), ('not cat', 250)]"
            ]
          },
          "metadata": {
            "tags": []
          },
          "execution_count": 4
        }
      ]
    },
    {
      "metadata": {
        "id": "drjfjt5YKeqk",
        "colab_type": "text"
      },
      "cell_type": "markdown",
      "source": [
        "The images are actually stores as lists of numbers, where each number represents the color of one pixel in the image."
      ]
    },
    {
      "metadata": {
        "scrolled": true,
        "id": "QPUTComEKeqk",
        "colab_type": "code",
        "colab": {
          "base_uri": "https://localhost:8080/",
          "height": 34
        },
        "outputId": "0c644a04-87cf-4510-f98d-40cf308871e5"
      },
      "cell_type": "code",
      "source": [
        "print(data[0])"
      ],
      "execution_count": 5,
      "outputs": [
        {
          "output_type": "stream",
          "text": [
            "[158 156 156 ... 103 102 103]\n"
          ],
          "name": "stdout"
        }
      ]
    },
    {
      "metadata": {
        "id": "GFNOSufqKeqn",
        "colab_type": "text"
      },
      "cell_type": "markdown",
      "source": [
        "These numbers we call **inputs** as they later are the inputs we used to classify an unknown picture. We also have a list of labels called `labels`. So in this data set we *know* the corresponding label for each image.\n",
        "\n",
        "Next we need to split our dataset into data that will be used for training the model and data that will be used for testing how well it does. The command below selects 20% of the data at random and sets them aside as test data set. We will use it later to check our model."
      ]
    },
    {
      "metadata": {
        "id": "LPSKAd20Keqn",
        "colab_type": "code",
        "colab": {}
      },
      "cell_type": "code",
      "source": [
        "# Preparing data and create training and test inputs and labels\n",
        "inputs_train, inputs_test, labels_train, labels_test = \\\n",
        "       model_selection.train_test_split(data, labels, test_size=0.2, random_state=0)"
      ],
      "execution_count": 0,
      "outputs": []
    },
    {
      "metadata": {
        "id": "AnIGuH2kKeqq",
        "colab_type": "text"
      },
      "cell_type": "markdown",
      "source": [
        "## Training\n",
        "\n",
        "Now we are ready to train. As you heard already, there are many different traing models. We specify `KNeighborsClassifier` as our classifier and then simple call `fit` using our inputs and label arrays. Again just run the cell by enetring `shift+enter`."
      ]
    },
    {
      "metadata": {
        "id": "8nysLZaHKeqr",
        "colab_type": "code",
        "colab": {
          "base_uri": "https://localhost:8080/",
          "height": 68
        },
        "outputId": "78552fe1-aa3e-4a17-8d6c-71f25f393955"
      },
      "cell_type": "code",
      "source": [
        "# Selecting the classifier we want to use\n",
        "knn = KNeighborsClassifier(n_neighbors=5)\n",
        "\n",
        "# Learning based on inputs and labels from our dataset\n",
        "knn.fit(inputs_train, labels_train)"
      ],
      "execution_count": 7,
      "outputs": [
        {
          "output_type": "execute_result",
          "data": {
            "text/plain": [
              "KNeighborsClassifier(algorithm='auto', leaf_size=30, metric='minkowski',\n",
              "           metric_params=None, n_jobs=1, n_neighbors=5, p=2,\n",
              "           weights='uniform')"
            ]
          },
          "metadata": {
            "tags": []
          },
          "execution_count": 7
        }
      ]
    },
    {
      "metadata": {
        "id": "ILyVJwvSKequ",
        "colab_type": "text"
      },
      "cell_type": "markdown",
      "source": [
        "## Check against test data\n",
        "\n",
        "Now we use the test data and see how many fruit were classified correctly using our model. The value is the percentage of test data classified correctly, so 100% would indicate all images were classified correctly."
      ]
    },
    {
      "metadata": {
        "id": "08JVhwBbKeqv",
        "colab_type": "code",
        "colab": {
          "base_uri": "https://localhost:8080/",
          "height": 51
        },
        "outputId": "379b5c2d-6b90-4e7c-b82f-3c86a9facbc2"
      },
      "cell_type": "code",
      "source": [
        "# Predict what the classes are based on the testing data\n",
        "predictions = knn.predict(inputs_test)\n",
        "\n",
        "# Print the score on the testing data\n",
        "print(\"KNN Testing Set Score:\")\n",
        "print(accuracy_score(labels_test, predictions)*100)"
      ],
      "execution_count": 8,
      "outputs": [
        {
          "output_type": "stream",
          "text": [
            "KNN Testing Set Score:\n",
            "63.0\n"
          ],
          "name": "stdout"
        }
      ]
    },
    {
      "metadata": {
        "id": "FlBdZYt5Keqy",
        "colab_type": "text"
      },
      "cell_type": "markdown",
      "source": [
        "## Now use the trained network to make predictions\n",
        "\n",
        "So now we have our trained network. Let us explore how well it works, by making predictions. You can pick an image from the test set, visualize it, and see if the network correctly predicts whether your selected image is a cat or not."
      ]
    },
    {
      "metadata": {
        "id": "3Enad0Y8Keqy",
        "colab_type": "code",
        "colab": {
          "base_uri": "https://localhost:8080/",
          "height": 300
        },
        "outputId": "db3a469d-49de-4fde-963a-d3f712cc838a"
      },
      "cell_type": "code",
      "source": [
        "# Specify which image you want to show\n",
        "image_id = 6\n",
        "\n",
        "# Visualize the image\n",
        "plot_image(inputs_test, labels_test, image_id)\n",
        "\n",
        "# Use the computer to predict which kind of fruit this might be and print it\n",
        "print('Prediction:', knn.predict([inputs_test[image_id]])[0])"
      ],
      "execution_count": 9,
      "outputs": [
        {
          "output_type": "stream",
          "text": [
            "label:  cat\n"
          ],
          "name": "stdout"
        },
        {
          "output_type": "display_data",
          "data": {
            "image/png": "[encoded data removed]",
            "text/plain": [
              "<matplotlib.figure.Figure at 0x7fe45f86d630>"
            ]
          },
          "metadata": {
            "tags": []
          }
        },
        {
          "output_type": "stream",
          "text": [
            "Prediction: cat\n"
          ],
          "name": "stdout"
        }
      ]
    },
    {
      "metadata": {
        "id": "rI_3GEKEKeq1",
        "colab_type": "text"
      },
      "cell_type": "markdown",
      "source": [
        "Our trained network uses 5 nearest neighbours of the image to assign a label to a new image. What if you change this number? Will the classifier do better or worse? Free free to experiment with the number and see if you can improve the network!\n",
        "\n",
        "## Have fun"
      ]
    },
    {
      "metadata": {
        "id": "oRQmMSYDK9EA",
        "colab_type": "code",
        "colab": {}
      },
      "cell_type": "code",
      "source": [
        ""
      ],
      "execution_count": 0,
      "outputs": []
    }
  ]
}