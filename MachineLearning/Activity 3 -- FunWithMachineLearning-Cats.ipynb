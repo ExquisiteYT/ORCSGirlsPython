{
 "cells": [
  {
   "cell_type": "markdown",
   "metadata": {},
   "source": [
    "<img src=\"Images/PoweredTechGirlz.png\" width=\"15%\" align=\"right\" hpsace=\"50\">\n",
    "\n",
    "# Activity 3: Fun with Machine Learning \n",
    "\n",
    "This exercise uses data from the <a href=\"https://www.cs.toronto.edu/~kriz/cifar.html\">CIFAR-10</a> dataset.\n",
    "\n",
    "# Cat classifier\n",
    "\n",
    "<img src=\"Images/cat.jpg\" width=\"10%\" align=\"right\" hpsace=\"10\">\n",
    "\n",
    "In this exercise, we will use what we just leaned to create a cat classifier. We have prepared a dataset of 500 images and in this exercise we will teach a machine learning algorithm to distinguish which ones are images of cats and which ones aren't."
   ]
  },
  {
   "cell_type": "code",
   "execution_count": 1,
   "metadata": {},
   "outputs": [],
   "source": [
    "from sklearn.neighbors import KNeighborsClassifier\n",
    "from sklearn import model_selection\n",
    "from sklearn.metrics import accuracy_score\n",
    "from collections import Counter\n",
    "from Helpers.helpers import *\n",
    "\n",
    "%matplotlib inline\n",
    "import matplotlib as mpl\n",
    "mpl.rcParams['lines.markersize'] = 12"
   ]
  },
  {
   "cell_type": "markdown",
   "metadata": {},
   "source": [
    "## Reading training data\n",
    "\n",
    "First we need to read the *labeled* data we want to learn from. In this example we used *supervised machine learning*, so we need to have a data set containing inputs as well as the correct label. Let's read the data and have a look. Hit `shitf+enter` in the next cell."
   ]
  },
  {
   "cell_type": "code",
   "execution_count": 2,
   "metadata": {
    "scrolled": false
   },
   "outputs": [
    {
     "name": "stdout",
     "output_type": "stream",
     "text": [
      "label:  cat\n"
     ]
    },
    {
     "data": {
      "image/png": "[encoded data removed]",
      "text/plain": [
       "<matplotlib.figure.Figure at 0x7f7d76a7d588>"
      ]
     },
     "metadata": {},
     "output_type": "display_data"
    }
   ],
   "source": [
    "# Reading the data\n",
    "data, labels = load_cat_data()\n",
    "\n",
    "# We can now look at the data we loaded, for example\n",
    "plot_image(data, labels, 0)"
   ]
  },
  {
   "cell_type": "markdown",
   "metadata": {},
   "source": [
    "Let's look at an example of a non-cat image"
   ]
  },
  {
   "cell_type": "code",
   "execution_count": 3,
   "metadata": {},
   "outputs": [
    {
     "name": "stdout",
     "output_type": "stream",
     "text": [
      "label:  not cat\n"
     ]
    },
    {
     "data": {
      "image/png": "[encoded data removed]",
      "text/plain": [
       "<matplotlib.figure.Figure at 0x7f7d7483f6a0>"
      ]
     },
     "metadata": {},
     "output_type": "display_data"
    }
   ],
   "source": [
    "plot_image(data, labels, 4)"
   ]
  },
  {
   "cell_type": "markdown",
   "metadata": {},
   "source": [
    "Let us check how many entries for cats and non-cats we have. What would be good or bad numbers for the classifier to work?"
   ]
  },
  {
   "cell_type": "code",
   "execution_count": 4,
   "metadata": {},
   "outputs": [
    {
     "data": {
      "text/plain": [
       "[('cat', 250), ('not cat', 250)]"
      ]
     },
     "execution_count": 4,
     "metadata": {},
     "output_type": "execute_result"
    }
   ],
   "source": [
    "# Count how many entries of each type we have in the list 'labels'\n",
    "Counter(labels).most_common()"
   ]
  },
  {
   "cell_type": "markdown",
   "metadata": {},
   "source": [
    "The images are actually stores as lists of numbers, where each number represents the color of one pixel in the image."
   ]
  },
  {
   "cell_type": "code",
   "execution_count": 5,
   "metadata": {
    "scrolled": true
   },
   "outputs": [
    {
     "name": "stdout",
     "output_type": "stream",
     "text": [
      "[158 156 156 ..., 103 102 103]\n"
     ]
    }
   ],
   "source": [
    "print(data[0])"
   ]
  },
  {
   "cell_type": "markdown",
   "metadata": {},
   "source": [
    "These numbers we call **inputs** as they later are the inputs we used to classify an unknown picture. We also have a list of labels called `labels`. So in this data set we *know* the corresponding label for each image.\n",
    "\n",
    "Next we need to split our dataset into data that will be used for training the model and data that will be used for testing how well it does. The command below selects 20% of the data at random and sets them aside as test data set. We will use it later to check our model."
   ]
  },
  {
   "cell_type": "code",
   "execution_count": 6,
   "metadata": {},
   "outputs": [],
   "source": [
    "# Preparing data and create training and test inputs and labels\n",
    "inputs_train, inputs_test, labels_train, labels_test = \\\n",
    "       model_selection.train_test_split(data, labels, test_size=0.2, random_state=0)"
   ]
  },
  {
   "cell_type": "markdown",
   "metadata": {},
   "source": [
    "## Training\n",
    "\n",
    "Now we are ready to train. As you heard already, there are many different traing models. We specify `KNeighborsClassifier` as our classifier and then simple call `fit` using our inputs and label arrays. Again just run the cell by enetring `shift+enter`."
   ]
  },
  {
   "cell_type": "code",
   "execution_count": 7,
   "metadata": {},
   "outputs": [
    {
     "data": {
      "text/plain": [
       "KNeighborsClassifier(algorithm='auto', leaf_size=30, metric='minkowski',\n",
       "           metric_params=None, n_jobs=1, n_neighbors=5, p=2,\n",
       "           weights='uniform')"
      ]
     },
     "execution_count": 7,
     "metadata": {},
     "output_type": "execute_result"
    }
   ],
   "source": [
    "# Selecting the classifier we want to use\n",
    "knn = KNeighborsClassifier(n_neighbors=5)\n",
    "\n",
    "# Learning based on inputs and labels from our dataset\n",
    "knn.fit(inputs_train, labels_train)"
   ]
  },
  {
   "cell_type": "markdown",
   "metadata": {},
   "source": [
    "## Check against test data\n",
    "\n",
    "Now we use the test data and see how many fruit were classified correctly using our model. The value is the percentage of test data classified correctly, so 100% would indicate all images were classified correctly."
   ]
  },
  {
   "cell_type": "code",
   "execution_count": 8,
   "metadata": {},
   "outputs": [
    {
     "name": "stdout",
     "output_type": "stream",
     "text": [
      "KNN Testing Set Score:\n",
      "63.0\n"
     ]
    }
   ],
   "source": [
    "# Predict what the classes are based on the testing data\n",
    "predictions = knn.predict(inputs_test)\n",
    "\n",
    "# Print the score on the testing data\n",
    "print(\"KNN Testing Set Score:\")\n",
    "print(accuracy_score(labels_test, predictions)*100)"
   ]
  },
  {
   "cell_type": "markdown",
   "metadata": {},
   "source": [
    "## Now use the trained network to make predictions\n",
    "\n",
    "So now we have our trained network. Let us explore how well it works, by making predictions. You can pick an image from the test set, visualize it, and see if the network correctly predicts whether your selected image is a cat or not."
   ]
  },
  {
   "cell_type": "code",
   "execution_count": 9,
   "metadata": {},
   "outputs": [
    {
     "name": "stdout",
     "output_type": "stream",
     "text": [
      "label:  cat\n"
     ]
    },
    {
     "data": {
      "image/png": "[encoded data removed]",
      "text/plain": [
       "<matplotlib.figure.Figure at 0x7f7d7480aef0>"
      ]
     },
     "metadata": {},
     "output_type": "display_data"
    },
    {
     "name": "stdout",
     "output_type": "stream",
     "text": [
      "Prediction: cat\n"
     ]
    }
   ],
   "source": [
    "# Specify which image you want to show\n",
    "image_id = 6\n",
    "\n",
    "# Visualize the image\n",
    "plot_image(inputs_test, labels_test, image_id)\n",
    "\n",
    "# Use the computer to predict which kind of fruit this might be and print it\n",
    "print('Prediction:', knn.predict([inputs_test[image_id]])[0])"
   ]
  },
  {
   "cell_type": "markdown",
   "metadata": {},
   "source": [
    "Our trained network uses 5 nearest neighbours of the image to assign a label to a new image. What if you change this number? Will the classifier do better or worse? Free free to experiment with the number and see if you can improve the network!\n",
    "\n",
    "## Have fun"
   ]
  }
 ],
 "metadata": {
  "kernelspec": {
   "display_name": "Python 3",
   "language": "python",
   "name": "python3"
  },
  "language_info": {
   "codemirror_mode": {
    "name": "ipython",
    "version": 3
   },
   "file_extension": ".py",
   "mimetype": "text/x-python",
   "name": "python",
   "nbconvert_exporter": "python",
   "pygments_lexer": "ipython3",
   "version": "3.6.5"
  }
 },
 "nbformat": 4,
 "nbformat_minor": 2
}
