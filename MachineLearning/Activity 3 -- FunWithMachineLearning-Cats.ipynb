{
  "nbformat": 4,
  "nbformat_minor": 0,
  "metadata": {
    "colab": {
      "name": "Activity 3 -- FunWithMachineLearning-Cats.ipynb",
      "version": "0.3.2",
      "provenance": [],
      "include_colab_link": true
    },
    "kernelspec": {
      "display_name": "Python 3",
      "language": "python",
      "name": "python3"
    }
  },
  "cells": [
    {
      "cell_type": "markdown",
      "metadata": {
        "id": "view-in-github",
        "colab_type": "text"
      },
      "source": [
        "<a href=\"https://colab.research.google.com/github/tproffen/ORCSGirlsPython/blob/master/MachineLearning/Activity%203%20--%20FunWithMachineLearning-Cats.ipynb\" target=\"_parent\"><img src=\"https://colab.research.google.com/assets/colab-badge.svg\" alt=\"Open In Colab\"/></a>"
      ]
    },
    {
      "metadata": {
        "id": "xVOj15e9KeqU",
        "colab_type": "text"
      },
      "cell_type": "markdown",
      "source": [
        "<img src=\"https://github.com/tproffen/ORCSGirlsPython/blob/master/MachineLearning/Images/PoweredTechGirlz.png?raw=1\" width=\"12%\" align=\"right\" hspace=\"10\">\n",
        "\n",
        "# Activity 3: Fun with Machine Learning \n",
        "\n",
        "This exercise uses data from the <a href=\"https://www.cs.toronto.edu/~kriz/cifar.html\">CIFAR-10</a> dataset.\n",
        "\n",
        "# Cat classifier\n",
        "\n",
        "<img src=\"https://github.com/tproffen/ORCSGirlsPython/blob/master/MachineLearning/Images/cat.jpg?raw=1\" width=\"10%\" align=\"right\" hspace=\"15\">\n",
        "\n",
        "In this exercise, we will use what we just leaned to create a cat classifier. We have prepared a dataset of 500 images and in this exercise we will teach a machine learning algorithm to distinguish which ones are images of cats and which ones aren't."
      ]
    },
    {
      "metadata": {
        "id": "FHzCsP7rPz5t",
        "colab_type": "code",
        "colab": {}
      },
      "cell_type": "code",
      "source": [
        "!curl -s -o setup.sh https://raw.githubusercontent.com/tproffen/ORCSGirlsPython/master/MachineLearning/Helpers/setup_activity3.sh\n",
        "!bash setup.sh"
      ],
      "execution_count": 0,
      "outputs": []
    },
    {
      "metadata": {
        "id": "6_MNZyo8KeqW",
        "colab_type": "code",
        "colab": {}
      },
      "cell_type": "code",
      "source": [
        "from sklearn.neighbors import KNeighborsClassifier\n",
        "from sklearn import model_selection\n",
        "from sklearn.metrics import accuracy_score\n",
        "from collections import Counter\n",
        "from Helpers.helpers import *\n",
        "\n",
        "%matplotlib inline\n",
        "import matplotlib as mpl\n",
        "mpl.rcParams['lines.markersize'] = 12"
      ],
      "execution_count": 0,
      "outputs": []
    },
    {
      "metadata": {
        "id": "8V5D-UklKeqZ",
        "colab_type": "text"
      },
      "cell_type": "markdown",
      "source": [
        "## Reading training data\n",
        "\n",
        "First we need to read the *labeled* data we want to learn from. In this example we used *supervised machine learning*, so we need to have a data set containing inputs as well as the correct label. Let's read the data and have a look. Hit `shitf+enter` in the next cell."
      ]
    },
    {
      "metadata": {
        "scrolled": false,
        "id": "srgQWLAjKeqb",
        "colab_type": "code",
        "colab": {}
      },
      "cell_type": "code",
      "source": [
        "# Reading the data\n",
        "data, labels = load_cat_data()\n",
        "\n",
        "# We can now look at the data we loaded, for example\n",
        "plot_image(data, labels, 0)"
      ],
      "execution_count": 0,
      "outputs": []
    },
    {
      "metadata": {
        "id": "-ppY8lb1Keqd",
        "colab_type": "text"
      },
      "cell_type": "markdown",
      "source": [
        "Let's look at an example of a non-cat image"
      ]
    },
    {
      "metadata": {
        "id": "PeFVVKDSKeqe",
        "colab_type": "code",
        "colab": {}
      },
      "cell_type": "code",
      "source": [
        "plot_image(data, labels, 4)"
      ],
      "execution_count": 0,
      "outputs": []
    },
    {
      "metadata": {
        "id": "84QTG6JsKeqg",
        "colab_type": "text"
      },
      "cell_type": "markdown",
      "source": [
        "Let us check how many entries for cats and non-cats we have. What would be good or bad numbers for the classifier to work?"
      ]
    },
    {
      "metadata": {
        "id": "IGVX_9u-Keqh",
        "colab_type": "code",
        "colab": {}
      },
      "cell_type": "code",
      "source": [
        "# Count how many entries of each type we have in the list 'labels'\n",
        "Counter(labels).most_common()"
      ],
      "execution_count": 0,
      "outputs": []
    },
    {
      "metadata": {
        "id": "drjfjt5YKeqk",
        "colab_type": "text"
      },
      "cell_type": "markdown",
      "source": [
        "The images are actually stores as lists of numbers, where each number represents the color of one pixel in the image."
      ]
    },
    {
      "metadata": {
        "scrolled": true,
        "id": "QPUTComEKeqk",
        "colab_type": "code",
        "colab": {}
      },
      "cell_type": "code",
      "source": [
        "print(data[0])"
      ],
      "execution_count": 0,
      "outputs": []
    },
    {
      "metadata": {
        "id": "GFNOSufqKeqn",
        "colab_type": "text"
      },
      "cell_type": "markdown",
      "source": [
        "These numbers we call **inputs** as they later are the inputs we used to classify an unknown picture. We also have a list of labels called `labels`. So in this data set we *know* the corresponding label for each image.\n",
        "\n",
        "Next we need to split our dataset into data that will be used for training the model and data that will be used for testing how well it does. The command below selects 20% of the data at random and sets them aside as test data set. We will use it later to check our model."
      ]
    },
    {
      "metadata": {
        "id": "LPSKAd20Keqn",
        "colab_type": "code",
        "colab": {}
      },
      "cell_type": "code",
      "source": [
        "# Preparing data and create training and test inputs and labels\n",
        "inputs_train, inputs_test, labels_train, labels_test = \\\n",
        "       model_selection.train_test_split(data, labels, test_size=0.2, random_state=0)"
      ],
      "execution_count": 0,
      "outputs": []
    },
    {
      "metadata": {
        "id": "AnIGuH2kKeqq",
        "colab_type": "text"
      },
      "cell_type": "markdown",
      "source": [
        "## Training\n",
        "\n",
        "Now we are ready to train. As you heard already, there are many different traing models. We specify `KNeighborsClassifier` as our classifier and then simple call `fit` using our inputs and label arrays. Again just run the cell by enetring `shift+enter`."
      ]
    },
    {
      "metadata": {
        "id": "8nysLZaHKeqr",
        "colab_type": "code",
        "colab": {}
      },
      "cell_type": "code",
      "source": [
        "# Selecting the classifier we want to use\n",
        "knn = KNeighborsClassifier(n_neighbors=5)\n",
        "\n",
        "# Learning based on inputs and labels from our dataset\n",
        "knn.fit(inputs_train, labels_train)"
      ],
      "execution_count": 0,
      "outputs": []
    },
    {
      "metadata": {
        "id": "ILyVJwvSKequ",
        "colab_type": "text"
      },
      "cell_type": "markdown",
      "source": [
        "## Check against test data\n",
        "\n",
        "Now we use the test data and see how many fruit were classified correctly using our model. The value is the percentage of test data classified correctly, so 100% would indicate all images were classified correctly."
      ]
    },
    {
      "metadata": {
        "id": "08JVhwBbKeqv",
        "colab_type": "code",
        "colab": {}
      },
      "cell_type": "code",
      "source": [
        "# Predict what the classes are based on the testing data\n",
        "predictions = knn.predict(inputs_test)\n",
        "\n",
        "# Print the score on the testing data\n",
        "print(\"KNN Testing Set Score:\")\n",
        "print(accuracy_score(labels_test, predictions)*100)"
      ],
      "execution_count": 0,
      "outputs": []
    },
    {
      "metadata": {
        "id": "FlBdZYt5Keqy",
        "colab_type": "text"
      },
      "cell_type": "markdown",
      "source": [
        "## Now use the trained network to make predictions\n",
        "\n",
        "So now we have our trained network. Let us explore how well it works, by making predictions. You can pick an image from the test set, visualize it, and see if the network correctly predicts whether your selected image is a cat or not."
      ]
    },
    {
      "metadata": {
        "id": "3Enad0Y8Keqy",
        "colab_type": "code",
        "colab": {}
      },
      "cell_type": "code",
      "source": [
        "# Specify which image you want to show\n",
        "image_id = 6\n",
        "\n",
        "# Visualize the image\n",
        "plot_image(inputs_test, labels_test, image_id)\n",
        "\n",
        "# Use the computer to predict which kind of fruit this might be and print it\n",
        "print('Prediction:', knn.predict([inputs_test[image_id]])[0])"
      ],
      "execution_count": 0,
      "outputs": []
    },
    {
      "metadata": {
        "id": "rI_3GEKEKeq1",
        "colab_type": "text"
      },
      "cell_type": "markdown",
      "source": [
        "Our trained network uses 5 nearest neighbours of the image to assign a label to a new image. What if you change this number? Will the classifier do better or worse? Free free to experiment with the number and see if you can improve the network!\n",
        "\n",
        "## Have fun"
      ]
    },
    {
      "metadata": {
        "id": "oRQmMSYDK9EA",
        "colab_type": "code",
        "colab": {}
      },
      "cell_type": "code",
      "source": [
        ""
      ],
      "execution_count": 0,
      "outputs": []
    }
  ]
}