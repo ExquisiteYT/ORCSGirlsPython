{
 "cells": [
  {
   "cell_type": "markdown",
   "metadata": {},
   "source": [
    "# Create dataset containing images for Cat Machine Learning\n",
    "\n",
    "The Cat Machine Learning exercise uses data from the <a href=\"https://www.cs.toronto.edu/~kriz/cifar.html\">CIFAR-10</a> image dataset.\n",
    "\n",
    "This notebook requires two parameters &ndash; the directory where the unpacked CIFAR-10 dataset is stored and how many images should be loaded. It will then load the required number of images (X) from the dataset &ndash; X / 2 images of cats and X / 2 other images &ndash; and store these images in a CSV file 'Cats.csv' ."
   ]
  },
  {
   "cell_type": "code",
   "execution_count": 1,
   "metadata": {},
   "outputs": [],
   "source": [
    "cifar_directory = 'cifar-10-batches-py'\n",
    "n_images = 500"
   ]
  },
  {
   "cell_type": "markdown",
   "metadata": {},
   "source": [
    "## Load data"
   ]
  },
  {
   "cell_type": "code",
   "execution_count": 2,
   "metadata": {},
   "outputs": [],
   "source": [
    "%matplotlib inline\n",
    "\n",
    "import os\n",
    "import csv\n",
    "import json\n",
    "import math\n",
    "import pickle\n",
    "import numpy as np\n",
    "from sklearn import utils"
   ]
  },
  {
   "cell_type": "code",
   "execution_count": 3,
   "metadata": {},
   "outputs": [],
   "source": [
    "def unpickle(file):\n",
    "    with open(file, 'rb') as fp:\n",
    "        data = pickle.load(fp, encoding='bytes')\n",
    "    return data"
   ]
  },
  {
   "cell_type": "code",
   "execution_count": 4,
   "metadata": {},
   "outputs": [
    {
     "name": "stdout",
     "output_type": "stream",
     "text": [
      "Loaded 5 batches\n"
     ]
    }
   ],
   "source": [
    "batch_meta = unpickle(os.path.join(cifar_directory, 'batches.meta'))\n",
    "batches = []\n",
    "for fname in os.listdir(cifar_directory):\n",
    "    if fname.startswith('data_batch_'):\n",
    "        batches.append(unpickle(os.path.join(cifar_directory, 'data_batch_1')))\n",
    "print('Loaded {} batches'.format(len(batches)))"
   ]
  },
  {
   "cell_type": "markdown",
   "metadata": {},
   "source": [
    "## Create dataset"
   ]
  },
  {
   "cell_type": "code",
   "execution_count": 5,
   "metadata": {},
   "outputs": [
    {
     "name": "stdout",
     "output_type": "stream",
     "text": [
      "Data matrix shape: (500, 3072)\n",
      "Labels vector shape: (500,)\n",
      "Label counts: [('not cat', 250), ('cat', 250)]\n"
     ]
    }
   ],
   "source": [
    "data = []\n",
    "labels = []\n",
    "img_per_class = math.ceil(n_images / 2)\n",
    "for b_id in range(len(batches)):\n",
    "    for img_id in range(len(batches[b_id][b'data'])):\n",
    "        if batch_meta[b'label_names'][batches[b_id][b'labels'][img_id]] == b'cat' and sum(labels) < img_per_class:\n",
    "            data.append(batches[b_id][b'data'][img_id])\n",
    "            labels.append(1)\n",
    "        elif len(data) < n_images and (len(labels) - sum(labels)) < img_per_class:\n",
    "            data.append(batches[b_id][b'data'][img_id])\n",
    "            labels.append(0)\n",
    "            \n",
    "data = np.array(data)\n",
    "print('Data matrix shape:', data.shape)\n",
    "labels = np.array(['cat' if l else 'not cat' for l in labels])\n",
    "print('Labels vector shape:', labels.shape)\n",
    "\n",
    "from collections import Counter\n",
    "print('Label counts:', Counter(labels).most_common())"
   ]
  },
  {
   "cell_type": "markdown",
   "metadata": {},
   "source": [
    "## Visualize a few images"
   ]
  },
  {
   "cell_type": "code",
   "execution_count": 6,
   "metadata": {},
   "outputs": [
    {
     "name": "stdout",
     "output_type": "stream",
     "text": [
      "label:  cat\n"
     ]
    },
    {
     "data": {
      "image/png": "[encoded data removed]",
      "text/plain": [
       "<matplotlib.figure.Figure at 0x7f1781af7908>"
      ]
     },
     "metadata": {},
     "output_type": "display_data"
    },
    {
     "name": "stdout",
     "output_type": "stream",
     "text": [
      "label:  not cat\n"
     ]
    },
    {
     "data": {
      "image/png": "[encoded data removed]",
      "text/plain": [
       "<matplotlib.figure.Figure at 0x7f1781b31eb8>"
      ]
     },
     "metadata": {},
     "output_type": "display_data"
    }
   ],
   "source": [
    "import numpy as np\n",
    "import matplotlib.pyplot as plt\n",
    "\n",
    "def plot_image(data, labels, im_idx=0):\n",
    "    im = data[im_idx, :]\n",
    "\n",
    "    im_r = im[0:1024].reshape(32, 32)\n",
    "    im_g = im[1024:2048].reshape(32, 32)\n",
    "    im_b = im[2048:].reshape(32, 32)\n",
    "\n",
    "    img = np.dstack((im_r, im_g, im_b))\n",
    "\n",
    "    print(\"label: \", labels[im_idx])       \n",
    "\n",
    "    plt.imshow(img) \n",
    "    plt.show()\n",
    "    \n",
    "plot_image(data, labels, 321)\n",
    "plot_image(data, labels, 123)"
   ]
  },
  {
   "cell_type": "markdown",
   "metadata": {},
   "source": [
    "## Store data in a CSV file"
   ]
  },
  {
   "cell_type": "code",
   "execution_count": 7,
   "metadata": {},
   "outputs": [],
   "source": [
    "with open('Cats.csv', 'w') as fp:\n",
    "    data, labels = utils.shuffle(data, labels)\n",
    "    writer = csv.writer(fp)\n",
    "    for img_id in range(len(data)):\n",
    "        writer.writerow([labels[img_id], json.dumps(data[img_id].tolist())])"
   ]
  }
 ],
 "metadata": {
  "kernelspec": {
   "display_name": "Python 3",
   "language": "python",
   "name": "python3"
  },
  "language_info": {
   "codemirror_mode": {
    "name": "ipython",
    "version": 3
   },
   "file_extension": ".py",
   "mimetype": "text/x-python",
   "name": "python",
   "nbconvert_exporter": "python",
   "pygments_lexer": "ipython3",
   "version": "3.6.5"
  }
 },
 "nbformat": 4,
 "nbformat_minor": 2
}
