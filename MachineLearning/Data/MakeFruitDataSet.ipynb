{
 "cells": [
  {
   "cell_type": "markdown",
   "metadata": {},
   "source": [
    "# Create synthetic data for Fruit Machine Learning"
   ]
  },
  {
   "cell_type": "code",
   "execution_count": 104,
   "metadata": {
    "collapsed": true
   },
   "outputs": [],
   "source": [
    "import pandas as pd\n",
    "import numpy as np"
   ]
  },
  {
   "cell_type": "code",
   "execution_count": 116,
   "metadata": {},
   "outputs": [],
   "source": [
    "# Make Apples (Fruit = 0)\n",
    "\n",
    "n=100\n",
    "\n",
    "weight  = 135 + 15.0*np.random.rand(n)\n",
    "surface = 0.6 + 0.3*np.random.rand(n)\n",
    "fruit   = np.zeros(n, dtype=int)\n",
    "df1 = pd.DataFrame(np.column_stack((weight,surface,fruit)), columns=['Weight', 'Surface', 'Fruit'])\n",
    "\n",
    "# Make Oranges (Fruit = 1)\n",
    "\n",
    "weight  = 150 + 17.0*np.random.rand(n)\n",
    "surface = 0.3 + 0.3*np.random.rand(n)\n",
    "fruit   = np.ones(n, dtype=int)\n",
    "df2 = pd.DataFrame(np.column_stack((weight,surface,fruit)), columns=['Weight', 'Surface', 'Fruit'])"
   ]
  },
  {
   "cell_type": "markdown",
   "metadata": {},
   "source": [
    "Concatentate and write as CSV file."
   ]
  },
  {
   "cell_type": "code",
   "execution_count": 117,
   "metadata": {},
   "outputs": [
    {
     "data": {
      "text/html": [
       "<div>\n",
       "<table border=\"1\" class=\"dataframe\">\n",
       "  <thead>\n",
       "    <tr style=\"text-align: right;\">\n",
       "      <th></th>\n",
       "      <th>Weight</th>\n",
       "      <th>Surface</th>\n",
       "      <th>Fruit</th>\n",
       "    </tr>\n",
       "  </thead>\n",
       "  <tbody>\n",
       "    <tr>\n",
       "      <th>0</th>\n",
       "      <td>142.533160</td>\n",
       "      <td>0.849955</td>\n",
       "      <td>0</td>\n",
       "    </tr>\n",
       "    <tr>\n",
       "      <th>1</th>\n",
       "      <td>147.921747</td>\n",
       "      <td>0.624190</td>\n",
       "      <td>0</td>\n",
       "    </tr>\n",
       "    <tr>\n",
       "      <th>2</th>\n",
       "      <td>146.834463</td>\n",
       "      <td>0.898738</td>\n",
       "      <td>0</td>\n",
       "    </tr>\n",
       "    <tr>\n",
       "      <th>3</th>\n",
       "      <td>137.184578</td>\n",
       "      <td>0.715882</td>\n",
       "      <td>0</td>\n",
       "    </tr>\n",
       "    <tr>\n",
       "      <th>4</th>\n",
       "      <td>148.781653</td>\n",
       "      <td>0.791810</td>\n",
       "      <td>0</td>\n",
       "    </tr>\n",
       "    <tr>\n",
       "      <th>5</th>\n",
       "      <td>143.388058</td>\n",
       "      <td>0.692898</td>\n",
       "      <td>0</td>\n",
       "    </tr>\n",
       "    <tr>\n",
       "      <th>6</th>\n",
       "      <td>146.354680</td>\n",
       "      <td>0.674052</td>\n",
       "      <td>0</td>\n",
       "    </tr>\n",
       "    <tr>\n",
       "      <th>7</th>\n",
       "      <td>147.951084</td>\n",
       "      <td>0.734507</td>\n",
       "      <td>0</td>\n",
       "    </tr>\n",
       "    <tr>\n",
       "      <th>8</th>\n",
       "      <td>143.807582</td>\n",
       "      <td>0.863681</td>\n",
       "      <td>0</td>\n",
       "    </tr>\n",
       "    <tr>\n",
       "      <th>9</th>\n",
       "      <td>142.567792</td>\n",
       "      <td>0.856705</td>\n",
       "      <td>0</td>\n",
       "    </tr>\n",
       "    <tr>\n",
       "      <th>10</th>\n",
       "      <td>139.980409</td>\n",
       "      <td>0.608383</td>\n",
       "      <td>0</td>\n",
       "    </tr>\n",
       "    <tr>\n",
       "      <th>11</th>\n",
       "      <td>146.997601</td>\n",
       "      <td>0.615442</td>\n",
       "      <td>0</td>\n",
       "    </tr>\n",
       "    <tr>\n",
       "      <th>12</th>\n",
       "      <td>137.875578</td>\n",
       "      <td>0.645277</td>\n",
       "      <td>0</td>\n",
       "    </tr>\n",
       "    <tr>\n",
       "      <th>13</th>\n",
       "      <td>149.597692</td>\n",
       "      <td>0.755310</td>\n",
       "      <td>0</td>\n",
       "    </tr>\n",
       "    <tr>\n",
       "      <th>14</th>\n",
       "      <td>145.794919</td>\n",
       "      <td>0.829762</td>\n",
       "      <td>0</td>\n",
       "    </tr>\n",
       "  </tbody>\n",
       "</table>\n",
       "</div>"
      ],
      "text/plain": [
       "        Weight   Surface  Fruit\n",
       "0   142.533160  0.849955      0\n",
       "1   147.921747  0.624190      0\n",
       "2   146.834463  0.898738      0\n",
       "3   137.184578  0.715882      0\n",
       "4   148.781653  0.791810      0\n",
       "5   143.388058  0.692898      0\n",
       "6   146.354680  0.674052      0\n",
       "7   147.951084  0.734507      0\n",
       "8   143.807582  0.863681      0\n",
       "9   142.567792  0.856705      0\n",
       "10  139.980409  0.608383      0\n",
       "11  146.997601  0.615442      0\n",
       "12  137.875578  0.645277      0\n",
       "13  149.597692  0.755310      0\n",
       "14  145.794919  0.829762      0"
      ]
     },
     "execution_count": 117,
     "metadata": {},
     "output_type": "execute_result"
    }
   ],
   "source": [
    "df = pd.concat([df1,df2])\n",
    "\n",
    "df.Fruit = df.Fruit.astype(int)\n",
    "df.to_csv('Fruit.csv', index=False, header=True)\n",
    "\n",
    "df.head(15)"
   ]
  },
  {
   "cell_type": "code",
   "execution_count": null,
   "metadata": {
    "collapsed": true
   },
   "outputs": [],
   "source": []
  }
 ],
 "metadata": {
  "kernelspec": {
   "display_name": "Python 3",
   "language": "python",
   "name": "python3"
  },
  "language_info": {
   "codemirror_mode": {
    "name": "ipython",
    "version": 3
   },
   "file_extension": ".py",
   "mimetype": "text/x-python",
   "name": "python",
   "nbconvert_exporter": "python",
   "pygments_lexer": "ipython3",
   "version": "3.6.1"
  }
 },
 "nbformat": 4,
 "nbformat_minor": 2
}
