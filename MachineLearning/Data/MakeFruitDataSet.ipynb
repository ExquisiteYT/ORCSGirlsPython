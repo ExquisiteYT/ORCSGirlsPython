{
 "cells": [
  {
   "cell_type": "markdown",
   "metadata": {},
   "source": [
    "# Create synthetic data for Fruit Machine Learning"
   ]
  },
  {
   "cell_type": "code",
   "execution_count": 2,
   "metadata": {
    "collapsed": true
   },
   "outputs": [],
   "source": [
    "import pandas as pd\n",
    "import numpy as np\n",
    "import matplotlib.pyplot as plt"
   ]
  },
  {
   "cell_type": "markdown",
   "metadata": {},
   "source": [
    "## Generate data"
   ]
  },
  {
   "cell_type": "code",
   "execution_count": 24,
   "metadata": {
    "collapsed": true
   },
   "outputs": [],
   "source": [
    "# Make Apples (Fruit = 0)\n",
    "\n",
    "n=100\n",
    "\n",
    "weight  = 135. + 4.0*np.random.randn(n)\n",
    "surface = 0.6 + 0.07*np.random.randn(n)\n",
    "fruit   = np.zeros(n, dtype=int)\n",
    "df1 = pd.DataFrame(np.column_stack((weight,surface,fruit)), columns=['Weight', 'Surface', 'Fruit'])\n",
    "\n",
    "# Make Oranges (Fruit = 1)\n",
    "\n",
    "weight  = 150 + 3.0*np.random.randn(n)\n",
    "surface = 0.3 + 0.08*np.random.randn(n)\n",
    "fruit   = np.ones(n, dtype=int)\n",
    "df2 = pd.DataFrame(np.column_stack((weight,surface,fruit)), columns=['Weight', 'Surface', 'Fruit'])"
   ]
  },
  {
   "cell_type": "markdown",
   "metadata": {},
   "source": [
    "Concatentate and write as CSV file."
   ]
  },
  {
   "cell_type": "code",
   "execution_count": 25,
   "metadata": {},
   "outputs": [
    {
     "data": {
      "text/html": [
       "<div>\n",
       "<table border=\"1\" class=\"dataframe\">\n",
       "  <thead>\n",
       "    <tr style=\"text-align: right;\">\n",
       "      <th></th>\n",
       "      <th>Weight</th>\n",
       "      <th>Surface</th>\n",
       "      <th>Fruit</th>\n",
       "    </tr>\n",
       "  </thead>\n",
       "  <tbody>\n",
       "    <tr>\n",
       "      <th>0</th>\n",
       "      <td>132.098057</td>\n",
       "      <td>0.552147</td>\n",
       "      <td>0</td>\n",
       "    </tr>\n",
       "    <tr>\n",
       "      <th>1</th>\n",
       "      <td>133.161716</td>\n",
       "      <td>0.610008</td>\n",
       "      <td>0</td>\n",
       "    </tr>\n",
       "    <tr>\n",
       "      <th>2</th>\n",
       "      <td>133.903081</td>\n",
       "      <td>0.627630</td>\n",
       "      <td>0</td>\n",
       "    </tr>\n",
       "    <tr>\n",
       "      <th>3</th>\n",
       "      <td>132.208942</td>\n",
       "      <td>0.639330</td>\n",
       "      <td>0</td>\n",
       "    </tr>\n",
       "    <tr>\n",
       "      <th>4</th>\n",
       "      <td>141.863188</td>\n",
       "      <td>0.490035</td>\n",
       "      <td>0</td>\n",
       "    </tr>\n",
       "  </tbody>\n",
       "</table>\n",
       "</div>"
      ],
      "text/plain": [
       "       Weight   Surface  Fruit\n",
       "0  132.098057  0.552147      0\n",
       "1  133.161716  0.610008      0\n",
       "2  133.903081  0.627630      0\n",
       "3  132.208942  0.639330      0\n",
       "4  141.863188  0.490035      0"
      ]
     },
     "execution_count": 25,
     "metadata": {},
     "output_type": "execute_result"
    }
   ],
   "source": [
    "df = pd.concat([df1,df2])\n",
    "\n",
    "df.Fruit = df.Fruit.astype(int)\n",
    "df.to_csv('Fruit.csv', index=False, header=True)\n",
    "\n",
    "df.head(5)"
   ]
  },
  {
   "cell_type": "markdown",
   "metadata": {
    "collapsed": true
   },
   "source": [
    "## Plot"
   ]
  },
  {
   "cell_type": "code",
   "execution_count": 26,
   "metadata": {},
   "outputs": [
    {
     "data": {
      "image/png": "[encoded data removed]",
      "text/plain": [
       "<matplotlib.figure.Figure at 0x7f22999897b8>"
      ]
     },
     "metadata": {},
     "output_type": "display_data"
    }
   ],
   "source": [
    "# Code to plot the data set\n",
    "plt.scatter(df['Weight'][df['Fruit']==1], df['Surface'][df['Fruit']==1], c='green',  label='Apples',  s=100)\n",
    "plt.scatter(df['Weight'][df['Fruit']==0], df['Surface'][df['Fruit']==0], c='orange', label='Oranges', s=100)\n",
    "\n",
    "plt.xlabel('Weight')\n",
    "plt.ylabel('Surface')\n",
    "plt.legend()\n",
    "plt.show()"
   ]
  },
  {
   "cell_type": "code",
   "execution_count": null,
   "metadata": {
    "collapsed": true
   },
   "outputs": [],
   "source": []
  }
 ],
 "metadata": {
  "kernelspec": {
   "display_name": "Python 3",
   "language": "python",
   "name": "python3"
  },
  "language_info": {
   "codemirror_mode": {
    "name": "ipython",
    "version": 3
   },
   "file_extension": ".py",
   "mimetype": "text/x-python",
   "name": "python",
   "nbconvert_exporter": "python",
   "pygments_lexer": "ipython3",
   "version": "3.6.1"
  }
 },
 "nbformat": 4,
 "nbformat_minor": 2
}
