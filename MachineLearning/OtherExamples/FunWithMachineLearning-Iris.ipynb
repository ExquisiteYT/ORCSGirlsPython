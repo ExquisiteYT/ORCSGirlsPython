{
  "nbformat": 4,
  "nbformat_minor": 0,
  "metadata": {
    "colab": {
      "name": "FunWithMachineLearning-Iris.ipynb",
      "version": "0.3.2",
      "provenance": [],
      "include_colab_link": true
    },
    "kernelspec": {
      "display_name": "Python 2",
      "language": "python",
      "name": "python2"
    }
  },
  "cells": [
    {
      "cell_type": "markdown",
      "metadata": {
        "id": "view-in-github",
        "colab_type": "text"
      },
      "source": [
        "<a href=\"https://colab.research.google.com/github/tproffen/ORCSGirlsPython/blob/master/MachineLearning/OtherExamples/FunWithMachineLearning-Iris.ipynb\" target=\"_parent\"><img src=\"https://colab.research.google.com/assets/colab-badge.svg\" alt=\"Open In Colab\"/></a>"
      ]
    },
    {
      "metadata": {
        "id": "eYL-XFqCNQIp",
        "colab_type": "text"
      },
      "cell_type": "markdown",
      "source": [
        "# Fun with Machine Learning\n",
        "\n",
        "We're going to use K-nearest neighbors and neural networks on the iris data set!  "
      ]
    },
    {
      "metadata": {
        "id": "tVCrZ95TNQIr",
        "colab_type": "text"
      },
      "cell_type": "markdown",
      "source": [
        "## Loading Extensions ##\n",
        "\n",
        "A great thing about Python is that there are extensions for lots of different things you want to do, including machine learning! We're going to use several Python extensions to help us read in the data and do machine learning.  First, we'll load those libraries in.  Make sure that you execute it by using `shift-enter`."
      ]
    },
    {
      "metadata": {
        "id": "EW9G9uzxNQIr",
        "colab_type": "code",
        "colab": {}
      },
      "cell_type": "code",
      "source": [
        "import sys\n",
        "# scipy\n",
        "import scipy\n",
        "# numpy\n",
        "import numpy\n",
        "# matplotlib -- the extension that plots the data\n",
        "import matplotlib\n",
        "# pandas -- the extension that reads in the data\n",
        "import pandas\n",
        "# scikit-learn -- where the machine learning code comes from!\n",
        "import sklearn\n",
        "\n",
        "import matplotlib.pyplot as plt\n",
        "from sklearn import model_selection\n",
        "from sklearn.metrics import accuracy_score\n",
        "from sklearn.neighbors import KNeighborsClassifier\n",
        "from sklearn.neural_network import MLPClassifier"
      ],
      "execution_count": 0,
      "outputs": []
    },
    {
      "metadata": {
        "id": "9kFraedLNQIv",
        "colab_type": "text"
      },
      "cell_type": "markdown",
      "source": [
        "## Step 1: Loading the data ##\n",
        "\n",
        "Now we're going to load the iris data into our program using pandas.  Since the data on the website doesn't have column labels telling us what each of the numbers are, we specify the names of each type of data.  In this case, \"class\" will be one of Iris-Verginica, Iris-Versicolour or Iris-Setosa."
      ]
    },
    {
      "metadata": {
        "id": "O5nunVmzNQIw",
        "colab_type": "code",
        "colab": {}
      },
      "cell_type": "code",
      "source": [
        "# Website where the data is located -- You can visit this website to see what the raw data looks like.\n",
        "url = \"https://archive.ics.uci.edu/ml/machine-learning-databases/iris/iris.data\"\n",
        "\n",
        "names = ['sepal-length', 'sepal-width', 'petal-length', 'petal-width', 'class']\n",
        "\n",
        "# Read the data set from the website.\n",
        "dataset = pandas.read_csv(url, names=names)\n"
      ],
      "execution_count": 0,
      "outputs": []
    },
    {
      "metadata": {
        "id": "a9tjTYtSNQIz",
        "colab_type": "text"
      },
      "cell_type": "markdown",
      "source": [
        "## Step 2: Look at the data ##\n",
        "\n",
        "Let's inspect the data to see what it looks like. The pandas extension has some handy methods for us to use to do that."
      ]
    },
    {
      "metadata": {
        "id": "3Wqh41qgNQIz",
        "colab_type": "code",
        "colab": {
          "base_uri": "https://localhost:8080/",
          "height": 34
        },
        "outputId": "e6323bb9-7f6a-4cc8-d9ca-cec1953cec08"
      },
      "cell_type": "code",
      "source": [
        "# This will tell us how many irises there are (the first number) and how many data points \n",
        "# each iris has (the second number)\n",
        "print(dataset.shape)"
      ],
      "execution_count": 3,
      "outputs": [
        {
          "output_type": "stream",
          "text": [
            "(150, 5)\n"
          ],
          "name": "stdout"
        }
      ]
    },
    {
      "metadata": {
        "id": "l45oqMdSNQI2",
        "colab_type": "code",
        "colab": {
          "base_uri": "https://localhost:8080/",
          "height": 374
        },
        "outputId": "3f94eb9d-f193-43f9-c501-ea8d12f1283d"
      },
      "cell_type": "code",
      "source": [
        "# This will show us the first 20 irises in the data set.\n",
        "print(dataset.head(20))"
      ],
      "execution_count": 4,
      "outputs": [
        {
          "output_type": "stream",
          "text": [
            "    sepal-length  sepal-width  petal-length  petal-width        class\n",
            "0            5.1          3.5           1.4          0.2  Iris-setosa\n",
            "1            4.9          3.0           1.4          0.2  Iris-setosa\n",
            "2            4.7          3.2           1.3          0.2  Iris-setosa\n",
            "3            4.6          3.1           1.5          0.2  Iris-setosa\n",
            "4            5.0          3.6           1.4          0.2  Iris-setosa\n",
            "5            5.4          3.9           1.7          0.4  Iris-setosa\n",
            "6            4.6          3.4           1.4          0.3  Iris-setosa\n",
            "7            5.0          3.4           1.5          0.2  Iris-setosa\n",
            "8            4.4          2.9           1.4          0.2  Iris-setosa\n",
            "9            4.9          3.1           1.5          0.1  Iris-setosa\n",
            "10           5.4          3.7           1.5          0.2  Iris-setosa\n",
            "11           4.8          3.4           1.6          0.2  Iris-setosa\n",
            "12           4.8          3.0           1.4          0.1  Iris-setosa\n",
            "13           4.3          3.0           1.1          0.1  Iris-setosa\n",
            "14           5.8          4.0           1.2          0.2  Iris-setosa\n",
            "15           5.7          4.4           1.5          0.4  Iris-setosa\n",
            "16           5.4          3.9           1.3          0.4  Iris-setosa\n",
            "17           5.1          3.5           1.4          0.3  Iris-setosa\n",
            "18           5.7          3.8           1.7          0.3  Iris-setosa\n",
            "19           5.1          3.8           1.5          0.3  Iris-setosa\n"
          ],
          "name": "stdout"
        }
      ]
    },
    {
      "metadata": {
        "id": "UKGzOtWpNQI5",
        "colab_type": "text"
      },
      "cell_type": "markdown",
      "source": [
        "Now let's find out how many there are per class."
      ]
    },
    {
      "metadata": {
        "id": "TvVLy05sNQI6",
        "colab_type": "code",
        "colab": {
          "base_uri": "https://localhost:8080/",
          "height": 102
        },
        "outputId": "91ff4573-5566-4c3b-f715-b69dbe9fe72b"
      },
      "cell_type": "code",
      "source": [
        "# This commands groups the irises by class and prints out how many there are in each class.\n",
        "print(dataset.groupby('class').size())"
      ],
      "execution_count": 5,
      "outputs": [
        {
          "output_type": "stream",
          "text": [
            "class\n",
            "Iris-setosa        50\n",
            "Iris-versicolor    50\n",
            "Iris-virginica     50\n",
            "dtype: int64\n"
          ],
          "name": "stdout"
        }
      ]
    },
    {
      "metadata": {
        "id": "F7je5tvfNQI8",
        "colab_type": "text"
      },
      "cell_type": "markdown",
      "source": [
        "## Step 3: Separate the data into input data and labels. ##\n",
        "\n",
        "This array has all of the data in it, including the labels.  The labels are what we're trying to get the machine learning methods to learn based on the inputs we give it, so we need to separate them.  The inputs are the first four columns (petal and sepal length and width) and the labels are the last column."
      ]
    },
    {
      "metadata": {
        "id": "O-FOTBO6NQI9",
        "colab_type": "code",
        "colab": {}
      },
      "cell_type": "code",
      "source": [
        "# The value of the data are inside the variable dataset, so let's pull them out.\n",
        "values = dataset.values\n",
        "\n",
        "# Let's get the inputs by pulling out all of the rows and columns 0 through 4 (not including 4)\n",
        "inputs = values[:,0:4]\n",
        "\n",
        "# Let's get the labels by pullling out all of the rows and column 4\n",
        "labels = values[:,4]"
      ],
      "execution_count": 0,
      "outputs": []
    },
    {
      "metadata": {
        "id": "5z9UkBlFNQJA",
        "colab_type": "text"
      },
      "cell_type": "markdown",
      "source": [
        "## Step 4: Separate the data into training and testing. ##\n",
        "\n",
        "Remember that for maching learning, we always want to use training data to teach the machine learning method to do something and use the testing method to see how well it has learned.  The extension sklearn's model_selection will do this for us, but first we have to specify how much of the data we want to be testing."
      ]
    },
    {
      "metadata": {
        "id": "rfvDBkx3NQJB",
        "colab_type": "code",
        "colab": {}
      },
      "cell_type": "code",
      "source": [
        "# This says that we want 20 percent of our data to be the testing set.\n",
        "testing_size = 0.2\n",
        "\n",
        "# This is a number that is used to determine how the training/testing set is randomly split.\n",
        "# It's best to treat it as a \"magic\" number.\n",
        "seed = 7\n",
        "\n",
        "# Let's split the data into training and testing!\n",
        "inputs_train, inputs_test, labels_train, labels_test = model_selection.train_test_split(inputs, labels, test_size=testing_size, random_state=seed)\n"
      ],
      "execution_count": 0,
      "outputs": []
    },
    {
      "metadata": {
        "id": "LaxvExJhNQJE",
        "colab_type": "text"
      },
      "cell_type": "markdown",
      "source": [
        "## Step 5: Let's train K-Nearest Neighbors! ##\n",
        "\n",
        "We'll start with K-Nearest Neighbors (KNN).  Up where we loaded the extensions, we loaded in a KNeighborsClassifier. Now we're going to create one, and then call `fit` on it, which is where the training or learning happens based on the training set."
      ]
    },
    {
      "metadata": {
        "id": "TMoTeodCNQJF",
        "colab_type": "code",
        "colab": {
          "base_uri": "https://localhost:8080/",
          "height": 68
        },
        "outputId": "2833e44e-e864-4ec9-8764-c1d985140a4e"
      },
      "cell_type": "code",
      "source": [
        "# Create the KNN\n",
        "knn = KNeighborsClassifier()\n",
        "\n",
        "# Train the KNN!\n",
        "knn.fit(inputs_train, labels_train)"
      ],
      "execution_count": 8,
      "outputs": [
        {
          "output_type": "execute_result",
          "data": {
            "text/plain": [
              "KNeighborsClassifier(algorithm='auto', leaf_size=30, metric='minkowski',\n",
              "           metric_params=None, n_jobs=1, n_neighbors=5, p=2,\n",
              "           weights='uniform')"
            ]
          },
          "metadata": {
            "tags": []
          },
          "execution_count": 8
        }
      ]
    },
    {
      "metadata": {
        "id": "ksoEtxnlNQJH",
        "colab_type": "text"
      },
      "cell_type": "markdown",
      "source": [
        "## Step 6: Let's see if the KNN learned anything... ##\n",
        "\n",
        "First, we'll see if it learned the training data.  We use a method called `predict` to run data through the KNN classifier.  Then we're going to print the accuracy score and we're going to multiply it by 100.  You can think of the score that it gets like a score on a test at a school.  The higher the score, the better the classifier!"
      ]
    },
    {
      "metadata": {
        "id": "coBTFkcRNQJI",
        "colab_type": "code",
        "colab": {
          "base_uri": "https://localhost:8080/",
          "height": 51
        },
        "outputId": "26697b11-c036-48ea-8a8a-b1c11625baaf"
      },
      "cell_type": "code",
      "source": [
        "# Predict what the classes are based on the training data\n",
        "predictions = knn.predict(inputs_train)\n",
        "\n",
        "# Print the score on the training data\n",
        "print(\"KNN Training Set Score:\")\n",
        "print(accuracy_score(labels_train, predictions)*100)"
      ],
      "execution_count": 9,
      "outputs": [
        {
          "output_type": "stream",
          "text": [
            "KNN Training Set Score:\n",
            "98.33333333333333\n"
          ],
          "name": "stdout"
        }
      ]
    },
    {
      "metadata": {
        "id": "LhvoEzvqNQJK",
        "colab_type": "text"
      },
      "cell_type": "markdown",
      "source": [
        "It should do pretty well on the training data, since that's what we used to teach it.  But machine learning is all about applying your machine learning method to NEW data.  So now let's see how it does on the testing set.  We're going to do the same thing, but with the testing data instead of the training data."
      ]
    },
    {
      "metadata": {
        "id": "mgLoY5K4NQJL",
        "colab_type": "code",
        "colab": {
          "base_uri": "https://localhost:8080/",
          "height": 51
        },
        "outputId": "9e52855d-98e9-4651-b929-19f18914dcbc"
      },
      "cell_type": "code",
      "source": [
        "# Predict what the classes are based on the testing data\n",
        "predictions = knn.predict(inputs_test)\n",
        "\n",
        "# Print the score on the testing data\n",
        "print(\"KNN Testing Set Score:\")\n",
        "print(accuracy_score(labels_test, predictions)*100)"
      ],
      "execution_count": 10,
      "outputs": [
        {
          "output_type": "stream",
          "text": [
            "KNN Testing Set Score:\n",
            "90.0\n"
          ],
          "name": "stdout"
        }
      ]
    },
    {
      "metadata": {
        "id": "cICB-TqzNQJN",
        "colab_type": "text"
      },
      "cell_type": "markdown",
      "source": [
        "It still does okay, but maybe not as good as the training set.  But it clearly learned something!"
      ]
    },
    {
      "metadata": {
        "id": "OkFtqE0ZNQJO",
        "colab_type": "text"
      },
      "cell_type": "markdown",
      "source": [
        "## Step 7: Let's train a neural network! ##\n",
        "\n",
        "Okay, now we're going train a neural network.  The great thing about sklearn is that all of the machine learning methods use the same structure. In this step we're going to create a neural network, and **then YOU are going to add in the training step** by writing the code to train it.  You can use the exact same structure from the knn example about for training the neural network, just change knn to nnet!"
      ]
    },
    {
      "metadata": {
        "id": "3ynUhzbUNQJO",
        "colab_type": "code",
        "colab": {}
      },
      "cell_type": "code",
      "source": [
        "# MLP stands for multi-layer perceptron -- it's just a fancy name for the neural networks we've been working with\n",
        "\n",
        "# The hidden layer sizes specify how many layers and how many neurons per layer.  \n",
        "# Right now, there's only one hidden layer with 10 neurons, but for example, we could change that to (10,5,)\n",
        "# to make two hidden layers, one with 10 neurons and one with 5.\n",
        "\n",
        "# max_iter specifies how many training steps to use\n",
        "\n",
        "nnet = MLPClassifier(hidden_layer_sizes=(10,), max_iter=1000)\n",
        "\n",
        "# Train the NNET!\n",
        "# Here's where you add the training step for nnet!  \n",
        "# Just do the same thing we did for mlp when training, but replace mlp with nnet\n",
        "# YOU ADD CODE HERE\n"
      ],
      "execution_count": 0,
      "outputs": []
    },
    {
      "metadata": {
        "id": "kW28_t6mNQJR",
        "colab_type": "text"
      },
      "cell_type": "markdown",
      "source": [
        "## Step 8: Let's test it! ##\n",
        "\n",
        "Now we're going to do the exact same thing we did to test knns, but for nnet! **You're going to fill in the code below, just like we did it with knn!**"
      ]
    },
    {
      "metadata": {
        "id": "gXV54EmFNQJS",
        "colab_type": "code",
        "colab": {
          "base_uri": "https://localhost:8080/",
          "height": 605
        },
        "outputId": "01c99985-c6c5-4445-fd2b-de67c6d5789c"
      },
      "cell_type": "code",
      "source": [
        "# Predict what the classes are based on the training data\n",
        "# YOU ADD CODE HERE!\n",
        "\n",
        "\n",
        "# Print the score on the training data\n",
        "print(\"Neural Network Training Set Score:\")\n",
        "print(accuracy_score(labels_train, predictions)*100)\n",
        "\n",
        "# Predict what the classes are based on the testing data\n",
        "\n",
        "######## YOU ADD CODE HERE!\n",
        "\n",
        "\n",
        "# Print the score on the testing data\n",
        "print(\"Neural Network Testing Set Score:\")\n",
        "print(accuracy_score(labels_test, predictions)*100)"
      ],
      "execution_count": 12,
      "outputs": [
        {
          "output_type": "stream",
          "text": [
            "Neural Network Training Set Score:\n"
          ],
          "name": "stdout"
        },
        {
          "output_type": "error",
          "ename": "ValueError",
          "evalue": "ignored",
          "traceback": [
            "\u001b[0;31m\u001b[0m",
            "\u001b[0;31mValueError\u001b[0mTraceback (most recent call last)",
            "\u001b[0;32m<ipython-input-12-e0a45f5b4ef8>\u001b[0m in \u001b[0;36m<module>\u001b[0;34m()\u001b[0m\n\u001b[1;32m      1\u001b[0m \u001b[0;32mprint\u001b[0m\u001b[0;34m(\u001b[0m\u001b[0;34m\"Neural Network Training Set Score:\"\u001b[0m\u001b[0;34m)\u001b[0m\u001b[0;34m\u001b[0m\u001b[0m\n\u001b[0;32m----> 2\u001b[0;31m \u001b[0;32mprint\u001b[0m\u001b[0;34m(\u001b[0m\u001b[0maccuracy_score\u001b[0m\u001b[0;34m(\u001b[0m\u001b[0mlabels_train\u001b[0m\u001b[0;34m,\u001b[0m \u001b[0mpredictions\u001b[0m\u001b[0;34m)\u001b[0m\u001b[0;34m*\u001b[0m\u001b[0;36m100\u001b[0m\u001b[0;34m)\u001b[0m\u001b[0;34m\u001b[0m\u001b[0m\n\u001b[0m\u001b[1;32m      3\u001b[0m \u001b[0;34m\u001b[0m\u001b[0m\n\u001b[1;32m      4\u001b[0m \u001b[0;31m# Predict what the classes are based on the testing data\u001b[0m\u001b[0;34m\u001b[0m\u001b[0;34m\u001b[0m\u001b[0m\n\u001b[1;32m      5\u001b[0m \u001b[0;31m# YOU ADD CODE HERE!\u001b[0m\u001b[0;34m\u001b[0m\u001b[0;34m\u001b[0m\u001b[0m\n",
            "\u001b[0;32m/usr/local/lib/python2.7/dist-packages/sklearn/metrics/classification.pyc\u001b[0m in \u001b[0;36maccuracy_score\u001b[0;34m(y_true, y_pred, normalize, sample_weight)\u001b[0m\n\u001b[1;32m    174\u001b[0m \u001b[0;34m\u001b[0m\u001b[0m\n\u001b[1;32m    175\u001b[0m     \u001b[0;31m# Compute accuracy for each possible representation\u001b[0m\u001b[0;34m\u001b[0m\u001b[0;34m\u001b[0m\u001b[0m\n\u001b[0;32m--> 176\u001b[0;31m     \u001b[0my_type\u001b[0m\u001b[0;34m,\u001b[0m \u001b[0my_true\u001b[0m\u001b[0;34m,\u001b[0m \u001b[0my_pred\u001b[0m \u001b[0;34m=\u001b[0m \u001b[0m_check_targets\u001b[0m\u001b[0;34m(\u001b[0m\u001b[0my_true\u001b[0m\u001b[0;34m,\u001b[0m \u001b[0my_pred\u001b[0m\u001b[0;34m)\u001b[0m\u001b[0;34m\u001b[0m\u001b[0m\n\u001b[0m\u001b[1;32m    177\u001b[0m     \u001b[0;32mif\u001b[0m \u001b[0my_type\u001b[0m\u001b[0;34m.\u001b[0m\u001b[0mstartswith\u001b[0m\u001b[0;34m(\u001b[0m\u001b[0;34m'multilabel'\u001b[0m\u001b[0;34m)\u001b[0m\u001b[0;34m:\u001b[0m\u001b[0;34m\u001b[0m\u001b[0m\n\u001b[1;32m    178\u001b[0m         \u001b[0mdiffering_labels\u001b[0m \u001b[0;34m=\u001b[0m \u001b[0mcount_nonzero\u001b[0m\u001b[0;34m(\u001b[0m\u001b[0my_true\u001b[0m \u001b[0;34m-\u001b[0m \u001b[0my_pred\u001b[0m\u001b[0;34m,\u001b[0m \u001b[0maxis\u001b[0m\u001b[0;34m=\u001b[0m\u001b[0;36m1\u001b[0m\u001b[0;34m)\u001b[0m\u001b[0;34m\u001b[0m\u001b[0m\n",
            "\u001b[0;32m/usr/local/lib/python2.7/dist-packages/sklearn/metrics/classification.pyc\u001b[0m in \u001b[0;36m_check_targets\u001b[0;34m(y_true, y_pred)\u001b[0m\n\u001b[1;32m     69\u001b[0m     \u001b[0my_pred\u001b[0m \u001b[0;34m:\u001b[0m \u001b[0marray\u001b[0m \u001b[0;32mor\u001b[0m \u001b[0mindicator\u001b[0m \u001b[0mmatrix\u001b[0m\u001b[0;34m\u001b[0m\u001b[0m\n\u001b[1;32m     70\u001b[0m     \"\"\"\n\u001b[0;32m---> 71\u001b[0;31m     \u001b[0mcheck_consistent_length\u001b[0m\u001b[0;34m(\u001b[0m\u001b[0my_true\u001b[0m\u001b[0;34m,\u001b[0m \u001b[0my_pred\u001b[0m\u001b[0;34m)\u001b[0m\u001b[0;34m\u001b[0m\u001b[0m\n\u001b[0m\u001b[1;32m     72\u001b[0m     \u001b[0mtype_true\u001b[0m \u001b[0;34m=\u001b[0m \u001b[0mtype_of_target\u001b[0m\u001b[0;34m(\u001b[0m\u001b[0my_true\u001b[0m\u001b[0;34m)\u001b[0m\u001b[0;34m\u001b[0m\u001b[0m\n\u001b[1;32m     73\u001b[0m     \u001b[0mtype_pred\u001b[0m \u001b[0;34m=\u001b[0m \u001b[0mtype_of_target\u001b[0m\u001b[0;34m(\u001b[0m\u001b[0my_pred\u001b[0m\u001b[0;34m)\u001b[0m\u001b[0;34m\u001b[0m\u001b[0m\n",
            "\u001b[0;32m/usr/local/lib/python2.7/dist-packages/sklearn/utils/validation.pyc\u001b[0m in \u001b[0;36mcheck_consistent_length\u001b[0;34m(*arrays)\u001b[0m\n\u001b[1;32m    202\u001b[0m     \u001b[0;32mif\u001b[0m \u001b[0mlen\u001b[0m\u001b[0;34m(\u001b[0m\u001b[0muniques\u001b[0m\u001b[0;34m)\u001b[0m \u001b[0;34m>\u001b[0m \u001b[0;36m1\u001b[0m\u001b[0;34m:\u001b[0m\u001b[0;34m\u001b[0m\u001b[0m\n\u001b[1;32m    203\u001b[0m         raise ValueError(\"Found input variables with inconsistent numbers of\"\n\u001b[0;32m--> 204\u001b[0;31m                          \" samples: %r\" % [int(l) for l in lengths])\n\u001b[0m\u001b[1;32m    205\u001b[0m \u001b[0;34m\u001b[0m\u001b[0m\n\u001b[1;32m    206\u001b[0m \u001b[0;34m\u001b[0m\u001b[0m\n",
            "\u001b[0;31mValueError\u001b[0m: Found input variables with inconsistent numbers of samples: [120, 30]"
          ]
        }
      ]
    },
    {
      "metadata": {
        "id": "Q696Fg0bNQJW",
        "colab_type": "text"
      },
      "cell_type": "markdown",
      "source": [
        "How did the neural network do? Did it make better or worse grades than k-nearest neighbors?"
      ]
    },
    {
      "metadata": {
        "id": "y9lmiyo4NQJX",
        "colab_type": "text"
      },
      "cell_type": "markdown",
      "source": [
        "## That's it! ##\n",
        "\n",
        "You've trained TWO different types of machine learning algorithms to recognize different types of irises!\n",
        "\n",
        "Want to learn more? "
      ]
    },
    {
      "metadata": {
        "id": "xbsetw-WNQJX",
        "colab_type": "text"
      },
      "cell_type": "markdown",
      "source": [
        "## BONUS STEPS ##\n",
        "\n",
        "1. We set testing_size early on to be 20% of the data (by setting the value to 0.2). What happens when we change that number to 0.4? 0.6? \n",
        "\n",
        "2. What happens when you increase the number of neurons in the hidden layer in the neural network? What about decreasing the number of neurons in the hidden layer? What happens when you add more layers?\n",
        "\n",
        "3. What happens when you change the number of training iterations or steps for the neural network (change `max_iter`)? "
      ]
    },
    {
      "metadata": {
        "id": "GgR8w8abNQJZ",
        "colab_type": "code",
        "colab": {}
      },
      "cell_type": "code",
      "source": [
        ""
      ],
      "execution_count": 0,
      "outputs": []
    }
  ]
}