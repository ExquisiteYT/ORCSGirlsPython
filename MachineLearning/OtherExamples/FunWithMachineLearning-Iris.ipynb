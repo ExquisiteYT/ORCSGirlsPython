{
 "cells": [
  {
   "cell_type": "markdown",
   "metadata": {},
   "source": [
    "# Fun with Machine Learning\n",
    "\n",
    "We're going to use K-nearest neighbors and neural networks on the iris data set!  "
   ]
  },
  {
   "cell_type": "markdown",
   "metadata": {},
   "source": [
    "## Loading Extensions ##\n",
    "\n",
    "A great thing about Python is that there are extensions for lots of different things you want to do, including machine learning! We're going to use several Python extensions to help us read in the data and do machine learning.  First, we'll load those libraries in.  Make sure that you execute it by using `shift-enter`."
   ]
  },
  {
   "cell_type": "code",
   "execution_count": null,
   "metadata": {
    "collapsed": true
   },
   "outputs": [],
   "source": [
    "import sys\n",
    "# scipy\n",
    "import scipy\n",
    "# numpy\n",
    "import numpy\n",
    "# matplotlib -- the extension that plots the data\n",
    "import matplotlib\n",
    "# pandas -- the extension that reads in the data\n",
    "import pandas\n",
    "# scikit-learn -- where the machine learning code comes from!\n",
    "import sklearn\n",
    "\n",
    "import matplotlib.pyplot as plt\n",
    "from sklearn import model_selection\n",
    "from sklearn.metrics import accuracy_score\n",
    "from sklearn.neighbors import KNeighborsClassifier\n",
    "from sklearn.neural_network import MLPClassifier"
   ]
  },
  {
   "cell_type": "markdown",
   "metadata": {},
   "source": [
    "## Step 1: Loading the data ##\n",
    "\n",
    "Now we're going to load the iris data into our program using pandas.  Since the data on the website doesn't have column labels telling us what each of the numbers are, we specify the names of each type of data.  In this case, \"class\" will be one of Iris-Verginica, Iris-Versicolour or Iris-Setosa."
   ]
  },
  {
   "cell_type": "code",
   "execution_count": null,
   "metadata": {
    "collapsed": true
   },
   "outputs": [],
   "source": [
    "# Website where the data is located -- You can visit this website to see what the raw data looks like.\n",
    "url = \"https://archive.ics.uci.edu/ml/machine-learning-databases/iris/iris.data\"\n",
    "\n",
    "names = ['sepal-length', 'sepal-width', 'petal-length', 'petal-width', 'class']\n",
    "\n",
    "# Read the data set from the website.\n",
    "dataset = pandas.read_csv(url, names=names)\n"
   ]
  },
  {
   "cell_type": "markdown",
   "metadata": {},
   "source": [
    "## Step 2: Look at the data ##\n",
    "\n",
    "Let's inspect the data to see what it looks like. The pandas extension has some handy methods for us to use to do that."
   ]
  },
  {
   "cell_type": "code",
   "execution_count": null,
   "metadata": {
    "collapsed": true
   },
   "outputs": [],
   "source": [
    "# This will tell us how many irises there are (the first number) and how many data points \n",
    "# each iris has (the second number)\n",
    "print(dataset.shape)"
   ]
  },
  {
   "cell_type": "code",
   "execution_count": null,
   "metadata": {
    "collapsed": true
   },
   "outputs": [],
   "source": [
    "# This will show us the first 20 irises in the data set.\n",
    "print(dataset.head(20))"
   ]
  },
  {
   "cell_type": "markdown",
   "metadata": {},
   "source": [
    "Now let's find out how many there are per class."
   ]
  },
  {
   "cell_type": "code",
   "execution_count": null,
   "metadata": {
    "collapsed": true
   },
   "outputs": [],
   "source": [
    "# This commands groups the irises by class and prints out how many there are in each class.\n",
    "print(dataset.groupby('class').size())"
   ]
  },
  {
   "cell_type": "markdown",
   "metadata": {},
   "source": [
    "## Step 3: Separate the data into input data and labels. ##\n",
    "\n",
    "This array has all of the data in it, including the labels.  The labels are what we're trying to get the machine learning methods to learn based on the inputs we give it, so we need to separate them.  The inputs are the first four columns (petal and sepal length and width) and the labels are the last column."
   ]
  },
  {
   "cell_type": "code",
   "execution_count": null,
   "metadata": {
    "collapsed": true
   },
   "outputs": [],
   "source": [
    "# The value of the data are inside the variable dataset, so let's pull them out.\n",
    "values = dataset.values\n",
    "\n",
    "# Let's get the inputs by pulling out all of the rows and columns 0 through 4 (not including 4)\n",
    "inputs = values[:,0:4]\n",
    "\n",
    "# Let's get the labels by pullling out all of the rows and column 4\n",
    "labels = values[:,4]"
   ]
  },
  {
   "cell_type": "markdown",
   "metadata": {},
   "source": [
    "## Step 4: Separate the data into training and testing. ##\n",
    "\n",
    "Remember that for maching learning, we always want to use training data to teach the machine learning method to do something and use the testing method to see how well it has learned.  The extension sklearn's model_selection will do this for us, but first we have to specify how much of the data we want to be testing."
   ]
  },
  {
   "cell_type": "code",
   "execution_count": null,
   "metadata": {
    "collapsed": true
   },
   "outputs": [],
   "source": [
    "# This says that we want 20 percent of our data to be the testing set.\n",
    "testing_size = 0.2\n",
    "\n",
    "# This is a number that is used to determine how the training/testing set is randomly split.\n",
    "# It's best to treat it as a \"magic\" number.\n",
    "seed = 7\n",
    "\n",
    "# Let's split the data into training and testing!\n",
    "inputs_train, inputs_test, labels_train, labels_test = model_selection.train_test_split(inputs, labels, test_size=testing_size, random_state=seed)\n"
   ]
  },
  {
   "cell_type": "markdown",
   "metadata": {},
   "source": [
    "## Step 5: Let's train K-Nearest Neighbors! ##\n",
    "\n",
    "We'll start with K-Nearest Neighbors (KNN).  Up where we loaded the extensions, we loaded in a KNeighborsClassifier. Now we're going to create one, and then call `fit` on it, which is where the training or learning happens based on the training set."
   ]
  },
  {
   "cell_type": "code",
   "execution_count": null,
   "metadata": {
    "collapsed": true
   },
   "outputs": [],
   "source": [
    "# Create the KNN\n",
    "knn = KNeighborsClassifier()\n",
    "\n",
    "# Train the KNN!\n",
    "knn.fit(inputs_train, labels_train)"
   ]
  },
  {
   "cell_type": "markdown",
   "metadata": {},
   "source": [
    "## Step 6: Let's see if the KNN learned anything... ##\n",
    "\n",
    "First, we'll see if it learned the training data.  We use a method called `predict` to run data through the KNN classifier.  Then we're going to print the accuracy score and we're going to multiply it by 100.  You can think of the score that it gets like a score on a test at a school.  The higher the score, the better the classifier!"
   ]
  },
  {
   "cell_type": "code",
   "execution_count": null,
   "metadata": {
    "collapsed": true
   },
   "outputs": [],
   "source": [
    "# Predict what the classes are based on the training data\n",
    "predictions = knn.predict(inputs_train)\n",
    "\n",
    "# Print the score on the training data\n",
    "print(\"KNN Training Set Score:\")\n",
    "print(accuracy_score(labels_train, predictions)*100)"
   ]
  },
  {
   "cell_type": "markdown",
   "metadata": {},
   "source": [
    "It should do pretty well on the training data, since that's what we used to teach it.  But machine learning is all about applying your machine learning method to NEW data.  So now let's see how it does on the testing set.  We're going to do the same thing, but with the testing data instead of the training data."
   ]
  },
  {
   "cell_type": "code",
   "execution_count": null,
   "metadata": {
    "collapsed": true
   },
   "outputs": [],
   "source": [
    "# Predict what the classes are based on the testing data\n",
    "predictions = knn.predict(inputs_test)\n",
    "\n",
    "# Print the score on the testing data\n",
    "print(\"KNN Testing Set Score:\")\n",
    "print(accuracy_score(labels_test, predictions)*100)"
   ]
  },
  {
   "cell_type": "markdown",
   "metadata": {},
   "source": [
    "It still does okay, but maybe not as good as the training set.  But it clearly learned something!"
   ]
  },
  {
   "cell_type": "markdown",
   "metadata": {},
   "source": [
    "## Step 7: Let's train a neural network! ##\n",
    "\n",
    "Okay, now we're going train a neural network.  The great thing about sklearn is that all of the machine learning methods use the same structure. In this step we're going to create a neural network, and **then YOU are going to add in the training step** by writing the code to train it.  You can use the exact same structure from the knn example about for training the neural network, just change knn to nnet!"
   ]
  },
  {
   "cell_type": "code",
   "execution_count": null,
   "metadata": {
    "collapsed": true
   },
   "outputs": [],
   "source": [
    "# MLP stands for multi-layer perceptron -- it's just a fancy name for the neural networks we've been working with\n",
    "\n",
    "# The hidden layer sizes specify how many layers and how many neurons per layer.  \n",
    "# Right now, there's only one hidden layer with 10 neurons, but for example, we could change that to (10,5,)\n",
    "# to make two hidden layers, one with 10 neurons and one with 5.\n",
    "\n",
    "# max_iter specifies how many training steps to use\n",
    "\n",
    "nnet = MLPClassifier(hidden_layer_sizes=(10,), max_iter=1000)\n",
    "\n",
    "# Train the NNET!\n",
    "# Here's where you add the training step for nnet!  \n",
    "# Just do the same thing we did for mlp when training, but replace mlp with nnet\n",
    "# YOU ADD CODE HERE\n"
   ]
  },
  {
   "cell_type": "markdown",
   "metadata": {},
   "source": [
    "## Step 8: Let's test it! ##\n",
    "\n",
    "Now we're going to do the exact same thing we did to test knns, but for nnet! **You're going to fill in the code below, just like we did it with knn!**"
   ]
  },
  {
   "cell_type": "code",
   "execution_count": null,
   "metadata": {
    "collapsed": true
   },
   "outputs": [],
   "source": [
    "# Predict what the classes are based on the training data\n",
    "# YOU ADD CODE HERE!\n",
    "\n",
    "\n",
    "# Print the score on the training data\n",
    "print(\"Neural Network Training Set Score:\")\n",
    "print(accuracy_score(labels_train, predictions)*100)\n",
    "\n",
    "# Predict what the classes are based on the testing data\n",
    "# YOU ADD CODE HERE!\n",
    "\n",
    "\n",
    "# Print the score on the testing data\n",
    "print(\"Neural Network Testing Set Score:\")\n",
    "print(accuracy_score(labels_test, predictions)*100)"
   ]
  },
  {
   "cell_type": "markdown",
   "metadata": {},
   "source": [
    "How did the neural network do? Did it make better or worse grades than k-nearest neighbors?"
   ]
  },
  {
   "cell_type": "markdown",
   "metadata": {},
   "source": [
    "## That's it! ##\n",
    "\n",
    "You've trained TWO different types of machine learning algorithms to recognize different types of irises!\n",
    "\n",
    "Want to learn more? "
   ]
  },
  {
   "cell_type": "markdown",
   "metadata": {},
   "source": [
    "## BONUS STEPS ##\n",
    "\n",
    "1. We set testing_size early on to be 20% of the data (by setting the value to 0.2). What happens when we change that number to 0.4? 0.6? \n",
    "\n",
    "2. What happens when you increase the number of neurons in the hidden layer in the neural network? What about decreasing the number of neurons in the hidden layer? What happens when you add more layers?\n",
    "\n",
    "3. What happens when you change the number of training iterations or steps for the neural network (change `max_iter`)? "
   ]
  },
  {
   "cell_type": "code",
   "execution_count": null,
   "metadata": {
    "collapsed": true
   },
   "outputs": [],
   "source": []
  }
 ],
 "metadata": {
  "kernelspec": {
   "display_name": "Python 2",
   "language": "python",
   "name": "python2"
  },
  "language_info": {
   "codemirror_mode": {
    "name": "ipython",
    "version": 2
   },
   "file_extension": ".py",
   "mimetype": "text/x-python",
   "name": "python",
   "nbconvert_exporter": "python",
   "pygments_lexer": "ipython2",
   "version": "2.7.13"
  }
 },
 "nbformat": 4,
 "nbformat_minor": 2
}
