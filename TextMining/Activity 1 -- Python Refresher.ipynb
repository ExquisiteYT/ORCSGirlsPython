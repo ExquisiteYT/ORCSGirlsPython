{
 "cells": [
  {
   "cell_type": "markdown",
   "metadata": {},
   "source": [
    "<img src=\"Images/PoweredTechGirlz.png\" width=\"15%\" align=\"right\" hpsace=\"50\">\n",
    "\n",
    "# Activity 1: Python Notebooks\n",
    "\n",
    "\n",
    "Before we get to text mining, we will go through all programming you will need for the rest of the class.\n",
    "\n",
    "First, we'll get to know Jupyter Notebooks."
   ]
  },
  {
   "cell_type": "markdown",
   "metadata": {
    "collapsed": true
   },
   "source": [
    "## Python Notebooks\n",
    "\n",
    "### Cells\n",
    "\n",
    "Python notebooks are composed of cells like the one in the picture below:\n",
    "\n",
    "<img src=\"Images/jupyter_basics.png\" width=\"100%\" align=\"center\" style=\"margin-top: 25px;\">"
   ]
  },
  {
   "cell_type": "markdown",
   "metadata": {},
   "source": [
    "### Cell Type\n",
    "\n",
    "Cells have a **type**. We will use two types:\n",
    "- **Markdown**: This allows to add text and explainations to your notebook. \n",
    "- **Code**: This allows you to enter and execute Python code."
   ]
  },
  {
   "cell_type": "markdown",
   "metadata": {},
   "source": [
    "### Running code\n",
    "\n",
    "You can run a cell either by pressing `shift` + `enter` or by pressing the little \"play\" button that looks like this:\n",
    "\n",
    "<img src=\"Images/ipython_bar.png\" width=\"50%\" align=\"center\" style=\"margin-top: 25px;\">"
   ]
  },
  {
   "cell_type": "markdown",
   "metadata": {},
   "source": [
    "### Hello World\n",
    "\n",
    "Let us start with writing `Hello world` on the screen. Make sure the type of the cell is **code** by checking the dropdown menu at the top. In the cell below enter \n",
    "\n",
    "> `print (\"Hello world\")` \n",
    "\n",
    "and press `shift+enter`."
   ]
  },
  {
   "cell_type": "code",
   "execution_count": null,
   "metadata": {
    "scrolled": true
   },
   "outputs": [],
   "source": [
    "print('Hello World!')"
   ]
  },
  {
   "cell_type": "markdown",
   "metadata": {},
   "source": [
    "### Cells and saving\n",
    "\n",
    "Look at the menu above. Click the `save` symbol to save your notebook. \n",
    "\n",
    "If you want to add a cell, click `Insert` and then `Insert cell above` or `insert cell below`. \n",
    "\n",
    "Try it now, **add a new cell above this one** and then type \n",
    "\n",
    "> `import this` \n",
    "\n",
    "into the new cell followed by `shift+return`. \n",
    "\n",
    "### You have discovered the *Zen of Python*"
   ]
  },
  {
   "cell_type": "markdown",
   "metadata": {},
   "source": [
    "## Python\n",
    "\n",
    "There are only three things we will need in Python:\n",
    "* **Variables** \n",
    "* **Lists**\n",
    "* **Loops**\n",
    "\n",
    "First, let's look at variables.\n",
    "\n",
    "### Variables\n",
    "\n",
    "Variables are a way for us to store information thay we may need later on.\n",
    "\n",
    "Say you are trying to calculate some equation the result of which you want to use later. You could either use:"
   ]
  },
  {
   "cell_type": "code",
   "execution_count": null,
   "metadata": {},
   "outputs": [],
   "source": [
    "7 * 25"
   ]
  },
  {
   "cell_type": "code",
   "execution_count": null,
   "metadata": {},
   "outputs": [],
   "source": [
    "175 + 21"
   ]
  },
  {
   "cell_type": "markdown",
   "metadata": {},
   "source": [
    "Or you could write:"
   ]
  },
  {
   "cell_type": "code",
   "execution_count": null,
   "metadata": {},
   "outputs": [],
   "source": [
    "my_awesome_variable = 7 * 25\n",
    "\n",
    "another_variable = my_awesome_variable + 21\n",
    "\n",
    "print(another_variable)"
   ]
  },
  {
   "cell_type": "markdown",
   "metadata": {},
   "source": [
    "Variables can also contain text. Text needs to be written in quotation marks like this:"
   ]
  },
  {
   "cell_type": "code",
   "execution_count": null,
   "metadata": {},
   "outputs": [],
   "source": [
    "my_name = \"Dasha\"\n",
    "\n",
    "print(\"Hello,\", my_name)"
   ]
  },
  {
   "cell_type": "markdown",
   "metadata": {},
   "source": [
    "### Lists"
   ]
  },
  {
   "cell_type": "markdown",
   "metadata": {},
   "source": [
    "If you want Python to remember several things (like several names) you can use **lists**. Lists are created with squared brackets: `[` and `]`. Let's create a list:"
   ]
  },
  {
   "cell_type": "code",
   "execution_count": null,
   "metadata": {},
   "outputs": [],
   "source": [
    "names = [\"Harry\", \"Ron\", \"Hermione\", \"Hagrid\"]\n",
    "\n",
    "print(names)"
   ]
  },
  {
   "cell_type": "markdown",
   "metadata": {},
   "source": [
    "Lists can also contain numbers:"
   ]
  },
  {
   "cell_type": "code",
   "execution_count": null,
   "metadata": {
    "collapsed": true
   },
   "outputs": [],
   "source": [
    "numbers = [10, 11, 12, 13]"
   ]
  },
  {
   "cell_type": "markdown",
   "metadata": {},
   "source": [
    "You can access a member of a list, you can use its sequence number. The first member has number 0, second is number 1, third is number 2 and so on (notice the numbers start from zero). This is what you would do to access the third member:"
   ]
  },
  {
   "cell_type": "code",
   "execution_count": null,
   "metadata": {},
   "outputs": [],
   "source": [
    "print(names[2]) # numbering starts from zero, so the third member can be accessed with number 2\n",
    "\n",
    "print(numbers[1])"
   ]
  },
  {
   "cell_type": "markdown",
   "metadata": {},
   "source": [
    "Lists are not static, you can add to them. When you add to a list, the new member is also put at the end:"
   ]
  },
  {
   "cell_type": "code",
   "execution_count": null,
   "metadata": {},
   "outputs": [],
   "source": [
    "names.append(\"Dumbledore\")\n",
    "\n",
    "print(names)"
   ]
  },
  {
   "cell_type": "markdown",
   "metadata": {},
   "source": [
    "Can you add your name to the list?"
   ]
  },
  {
   "cell_type": "code",
   "execution_count": null,
   "metadata": {
    "collapsed": true
   },
   "outputs": [],
   "source": []
  },
  {
   "cell_type": "markdown",
   "metadata": {},
   "source": [
    "### Exercise"
   ]
  },
  {
   "cell_type": "markdown",
   "metadata": {},
   "source": [
    "We prepared a very long list, let's call it a `mysterious_list`. The following code loads the list:"
   ]
  },
  {
   "cell_type": "code",
   "execution_count": null,
   "metadata": {
    "collapsed": true
   },
   "outputs": [],
   "source": [
    "from Helpers.mysterious_list import *\n",
    "\n",
    "mysterious_list = load_mysterious_list()"
   ]
  },
  {
   "cell_type": "markdown",
   "metadata": {},
   "source": [
    "Can you tell us what words appear on the 5., 13., 29., and 36. position? Use the cell bellow."
   ]
  },
  {
   "cell_type": "code",
   "execution_count": null,
   "metadata": {
    "collapsed": true
   },
   "outputs": [],
   "source": []
  },
  {
   "cell_type": "markdown",
   "metadata": {},
   "source": [
    "### Loops\n",
    "\n",
    "Loops are a way to do something with many variables. Remember the list of names we just created?"
   ]
  },
  {
   "cell_type": "code",
   "execution_count": null,
   "metadata": {},
   "outputs": [],
   "source": [
    "print(names)"
   ]
  },
  {
   "cell_type": "markdown",
   "metadata": {},
   "source": [
    "If we want to say hello to everyone on this list, we have to write:"
   ]
  },
  {
   "cell_type": "code",
   "execution_count": null,
   "metadata": {},
   "outputs": [],
   "source": [
    "print(\"Hello, Harry\")\n",
    "print(\"Hello, Ron\")\n",
    "print(\"Hello, Hermione\")\n",
    "print(\"Hello, Hagrid\")\n",
    "print(\"Hello, Dumbledore\")"
   ]
  },
  {
   "cell_type": "markdown",
   "metadata": {},
   "source": [
    "Or we can use a loop to that!"
   ]
  },
  {
   "cell_type": "code",
   "execution_count": null,
   "metadata": {},
   "outputs": [],
   "source": [
    "for name in names:\n",
    "    print(\"Hello,\", name)"
   ]
  },
  {
   "cell_type": "markdown",
   "metadata": {},
   "source": [
    "Isn't that nicer?\n",
    "\n",
    "Notice that you need to use a colon to end the first line and then four spaces on the second line. This is very important."
   ]
  },
  {
   "cell_type": "markdown",
   "metadata": {},
   "source": [
    "# That's All Folks! Now you know Python!"
   ]
  }
 ],
 "metadata": {
  "git": {
   "suppress_outputs": true
  },
  "kernelspec": {
   "display_name": "Python 3",
   "language": "python",
   "name": "python3"
  },
  "language_info": {
   "codemirror_mode": {
    "name": "ipython",
    "version": 3
   },
   "file_extension": ".py",
   "mimetype": "text/x-python",
   "name": "python",
   "nbconvert_exporter": "python",
   "pygments_lexer": "ipython3",
   "version": "3.6.1"
  }
 },
 "nbformat": 4,
 "nbformat_minor": 2
}
