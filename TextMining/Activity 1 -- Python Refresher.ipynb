{
  "nbformat": 4,
  "nbformat_minor": 0,
  "metadata": {
    "colab": {
      "name": "Activity 1 -- Python Refresher.ipynb",
      "version": "0.3.2",
      "provenance": [],
      "include_colab_link": true
    },
    "kernelspec": {
      "display_name": "Python 3",
      "language": "python",
      "name": "python3"
    }
  },
  "cells": [
    {
      "cell_type": "markdown",
      "metadata": {
        "id": "view-in-github",
        "colab_type": "text"
      },
      "source": [
        "<a href=\"https://colab.research.google.com/github/tproffen/ORCSGirlsPython/blob/master/TextMining/Activity%201%20--%20Python%20Refresher.ipynb\" target=\"_parent\"><img src=\"https://colab.research.google.com/assets/colab-badge.svg\" alt=\"Open In Colab\"/></a>"
      ]
    },
    {
      "metadata": {
        "id": "6qSUkwefvzWA",
        "colab_type": "text"
      },
      "cell_type": "markdown",
      "source": [
        "<img src=\"https://github.com/tproffen/ORCSGirlsPython/blob/master/TextMining/Images/PoweredTechGirlz.png?raw=1\" width=\"15%\" align=\"right\" hpsace=\"50\">\n",
        "\n",
        "# Activity 1: Python Notebooks\n",
        "\n",
        "\n",
        "Before we get to text mining, we will go through all programming you will need for the rest of the class.\n",
        "\n",
        "First, we'll get to know Jupyter Notebooks. Make sure you run the command in the next cell by clicking the run button on the left or pressing ```shift+enter```.  This is neede to copy all neccessary files for the activity."
      ]
    },
    {
      "metadata": {
        "id": "61AfB_9Vx5JL",
        "colab_type": "code",
        "colab": {}
      },
      "cell_type": "code",
      "source": [
        "!mkdir -p Helpers\n",
        "!curl -o Helpers/helpers.py https://raw.githubusercontent.com/tproffen/ORCSGirlsPython/master/TextMining/Helpers/mysterious_list.py"
      ],
      "execution_count": 0,
      "outputs": []
    },
    {
      "metadata": {
        "collapsed": true,
        "id": "rdwDfxLMvzWC",
        "colab_type": "text"
      },
      "cell_type": "markdown",
      "source": [
        "## Python Notebooks\n",
        "\n",
        "**Note:** If you are running this notebook using <a href=\"https://colab.research.google.com/\">Google Colaboratory</a>, the screen will look somewhat different. You can use the **+ Code** and **+ Text** buttons to add **Markdown** and **Code** cells. Execute a cell by pressing `shift` + `enter` or clocking the play button next to the cell.\n",
        "\n",
        "### Cells\n",
        "\n",
        "Python notebooks are composed of cells.\n",
        "Cells have a **type**. We will use two types:\n",
        "- **Text**: This allows to add text and explainations to your notebook. \n",
        "- **Code**: This allows you to enter and execute Python code.\n",
        "\n",
        "### Running code\n",
        "\n",
        "You can run a cell either by pressing `shift` + `enter` or by pressing the little \"play\" button to theleft of the cell.\n",
        "\n",
        "### Hello World\n",
        "\n",
        "Let us start with writing `Hello, World!` on the screen. \n",
        "\n",
        "Click in the cell beloq and enter \n",
        "\n",
        "> `print (\"Hello, World!\")` \n",
        "\n",
        "and press `shift+enter` (or the little \"play\" button)."
      ]
    },
    {
      "metadata": {
        "scrolled": true,
        "id": "tJwHrKWMvzWG",
        "colab_type": "code",
        "colab": {}
      },
      "cell_type": "code",
      "source": [
        "print('Hello World!')"
      ],
      "execution_count": 0,
      "outputs": []
    },
    {
      "metadata": {
        "id": "Y32AuvF9vzWJ",
        "colab_type": "text"
      },
      "cell_type": "markdown",
      "source": [
        "### Cells and saving\n",
        "\n",
        "Look at the menu above. Click the `save` symbol to save your notebook. \n",
        "\n",
        "If you want to add a cell, click `Insert` and then `Insert cell above` or `insert cell below`. \n",
        "\n",
        "Try it now, **add a new cell above this one** and then type \n",
        "\n",
        "> `import this` \n",
        "\n",
        "into the new cell followed by `shift+return`. \n",
        "\n",
        "### You have discovered the *Zen of Python*"
      ]
    },
    {
      "metadata": {
        "id": "CbwZx9wLvzWJ",
        "colab_type": "text"
      },
      "cell_type": "markdown",
      "source": [
        "## Python\n",
        "\n",
        "There are only three things we will need in Python:\n",
        "* **Variables** \n",
        "* **Lists**\n",
        "* **Loops**\n",
        "\n",
        "First, let's look at variables.\n",
        "\n",
        "### Variables\n",
        "\n",
        "Variables are a way for us to store information thay we may need later on.\n",
        "\n",
        "Say you are trying to calculate some equation the result of which you want to use later. You could either use:"
      ]
    },
    {
      "metadata": {
        "id": "Tuktj_eKvzWK",
        "colab_type": "code",
        "colab": {}
      },
      "cell_type": "code",
      "source": [
        "7 * 25"
      ],
      "execution_count": 0,
      "outputs": []
    },
    {
      "metadata": {
        "id": "BODocXszvzWO",
        "colab_type": "code",
        "colab": {}
      },
      "cell_type": "code",
      "source": [
        "175 + 21"
      ],
      "execution_count": 0,
      "outputs": []
    },
    {
      "metadata": {
        "id": "8kI9IlztvzWT",
        "colab_type": "text"
      },
      "cell_type": "markdown",
      "source": [
        "Or you could write:"
      ]
    },
    {
      "metadata": {
        "id": "2ybqAHehvzWU",
        "colab_type": "code",
        "colab": {}
      },
      "cell_type": "code",
      "source": [
        "my_awesome_variable = 7 * 25\n",
        "\n",
        "another_variable = my_awesome_variable + 21\n",
        "\n",
        "print(another_variable)"
      ],
      "execution_count": 0,
      "outputs": []
    },
    {
      "metadata": {
        "id": "PkESENVlvzWX",
        "colab_type": "text"
      },
      "cell_type": "markdown",
      "source": [
        "Variables can also contain text. Text needs to be written in quotation marks like this:"
      ]
    },
    {
      "metadata": {
        "id": "_diYlHQTvzWa",
        "colab_type": "code",
        "colab": {}
      },
      "cell_type": "code",
      "source": [
        "my_name = \"Dasha\"\n",
        "\n",
        "print(\"Hello,\", my_name)"
      ],
      "execution_count": 0,
      "outputs": []
    },
    {
      "metadata": {
        "id": "_9VtAfBHvzWd",
        "colab_type": "text"
      },
      "cell_type": "markdown",
      "source": [
        "### Lists"
      ]
    },
    {
      "metadata": {
        "id": "0DbPIpNLvzWe",
        "colab_type": "text"
      },
      "cell_type": "markdown",
      "source": [
        "If you want Python to remember several things (like several names) you can use **lists**. Lists are created with squared brackets: `[` and `]`. Let's create a list:"
      ]
    },
    {
      "metadata": {
        "id": "n3hCxfj3vzWg",
        "colab_type": "code",
        "colab": {}
      },
      "cell_type": "code",
      "source": [
        "names = [\"Harry\", \"Ron\", \"Hermione\", \"Hagrid\"]\n",
        "\n",
        "print(names)"
      ],
      "execution_count": 0,
      "outputs": []
    },
    {
      "metadata": {
        "id": "0DGEM6mLvzWl",
        "colab_type": "text"
      },
      "cell_type": "markdown",
      "source": [
        "Lists can also contain numbers:"
      ]
    },
    {
      "metadata": {
        "id": "HDuuqwrrvzWm",
        "colab_type": "code",
        "colab": {}
      },
      "cell_type": "code",
      "source": [
        "numbers = [10, 11, 12, 13]"
      ],
      "execution_count": 0,
      "outputs": []
    },
    {
      "metadata": {
        "id": "KLOuSqRPvzWo",
        "colab_type": "text"
      },
      "cell_type": "markdown",
      "source": [
        "You can access a member of a list, you can use its sequence number. The first member has number 0, second is number 1, third is number 2 and so on (notice the numbers start from zero). This is what you would do to access the third member:"
      ]
    },
    {
      "metadata": {
        "id": "U9u_7bMdvzWp",
        "colab_type": "code",
        "colab": {}
      },
      "cell_type": "code",
      "source": [
        "print(names[2]) # numbering starts from zero, so the third member can be accessed with number 2\n",
        "\n",
        "print(numbers[1])"
      ],
      "execution_count": 0,
      "outputs": []
    },
    {
      "metadata": {
        "id": "UnLhl0S2vzWr",
        "colab_type": "text"
      },
      "cell_type": "markdown",
      "source": [
        "Lists are not static, you can add to them. When you add to a list, the new member is also put at the end:"
      ]
    },
    {
      "metadata": {
        "id": "OhUIQFM_vzWs",
        "colab_type": "code",
        "colab": {}
      },
      "cell_type": "code",
      "source": [
        "names.append(\"Dumbledore\")\n",
        "\n",
        "print(names)"
      ],
      "execution_count": 0,
      "outputs": []
    },
    {
      "metadata": {
        "id": "qo5r05Z1vzWv",
        "colab_type": "text"
      },
      "cell_type": "markdown",
      "source": [
        "Can you add your name to the list?"
      ]
    },
    {
      "metadata": {
        "id": "TNvB1embvzWv",
        "colab_type": "code",
        "colab": {}
      },
      "cell_type": "code",
      "source": [
        ""
      ],
      "execution_count": 0,
      "outputs": []
    },
    {
      "metadata": {
        "id": "VlK3iecFvzW1",
        "colab_type": "text"
      },
      "cell_type": "markdown",
      "source": [
        "### Exercise"
      ]
    },
    {
      "metadata": {
        "id": "wUDQHlEdvzW3",
        "colab_type": "text"
      },
      "cell_type": "markdown",
      "source": [
        "We prepared a very long list, let's call it a `mysterious_list`. The following code loads the list:"
      ]
    },
    {
      "metadata": {
        "id": "mMfXBh-HvzW3",
        "colab_type": "code",
        "colab": {}
      },
      "cell_type": "code",
      "source": [
        "from Helpers.helpers import *\n",
        "\n",
        "mysterious_list = load_mysterious_list()"
      ],
      "execution_count": 0,
      "outputs": []
    },
    {
      "metadata": {
        "id": "lQDa5wxpvzW6",
        "colab_type": "text"
      },
      "cell_type": "markdown",
      "source": [
        "Can you tell us what words appear on the 5., 13., 29., and 36. position? Use the cell bellow."
      ]
    },
    {
      "metadata": {
        "id": "Ewi9KkoHvzW6",
        "colab_type": "code",
        "colab": {}
      },
      "cell_type": "code",
      "source": [
        "print (mysterious_list[5])"
      ],
      "execution_count": 0,
      "outputs": []
    },
    {
      "metadata": {
        "id": "DkHHBd2avzW8",
        "colab_type": "text"
      },
      "cell_type": "markdown",
      "source": [
        "### Loops\n",
        "\n",
        "Loops are a way to do something with many variables. Remember the list of names we just created?"
      ]
    },
    {
      "metadata": {
        "id": "YWaTA8fBvzW9",
        "colab_type": "code",
        "colab": {}
      },
      "cell_type": "code",
      "source": [
        "print(names)"
      ],
      "execution_count": 0,
      "outputs": []
    },
    {
      "metadata": {
        "id": "sMhDYwiQvzXA",
        "colab_type": "text"
      },
      "cell_type": "markdown",
      "source": [
        "If we want to say hello to everyone on this list, we have to write:"
      ]
    },
    {
      "metadata": {
        "id": "3VQTBOA8vzXB",
        "colab_type": "code",
        "colab": {}
      },
      "cell_type": "code",
      "source": [
        "print(\"Hello, Harry\")\n",
        "print(\"Hello, Ron\")\n",
        "print(\"Hello, Hermione\")\n",
        "print(\"Hello, Hagrid\")\n",
        "print(\"Hello, Dumbledore\")"
      ],
      "execution_count": 0,
      "outputs": []
    },
    {
      "metadata": {
        "id": "EGHoksj4vzXE",
        "colab_type": "text"
      },
      "cell_type": "markdown",
      "source": [
        "Or we can use a loop to that!"
      ]
    },
    {
      "metadata": {
        "id": "nBGRyliFvzXE",
        "colab_type": "code",
        "colab": {}
      },
      "cell_type": "code",
      "source": [
        "for name in names:\n",
        "    print(\"Hello,\", name)"
      ],
      "execution_count": 0,
      "outputs": []
    },
    {
      "metadata": {
        "id": "U19zlYNFvzXG",
        "colab_type": "text"
      },
      "cell_type": "markdown",
      "source": [
        "Isn't that nicer?\n",
        "\n",
        "Notice that you need to use a colon to end the first line and then four spaces on the second line. This is very important."
      ]
    },
    {
      "metadata": {
        "id": "efTHhdLuvzXH",
        "colab_type": "text"
      },
      "cell_type": "markdown",
      "source": [
        "# That's All Folks! Now you know Python!"
      ]
    }
  ]
}