{
 "cells": [
  {
   "cell_type": "markdown",
   "metadata": {
    "colab_type": "text",
    "id": "view-in-github"
   },
   "source": [
    "<a href=\"https://colab.research.google.com/github/tproffen/ORCSGirlsPython/blob/master/TextMining/Activity%201%20--%20Python%20Refresher.ipynb\" target=\"_parent\"><img src=\"https://colab.research.google.com/assets/colab-badge.svg\" alt=\"Open In Colab\"/></a>"
   ]
  },
  {
   "cell_type": "markdown",
   "metadata": {
    "colab_type": "text",
    "id": "6qSUkwefvzWA"
   },
   "source": [
    "<img src=\"https://github.com/tproffen/ORCSGirlsPython/blob/master/TextMining/Images/PoweredTechGirlz.png?raw=1\" width=\"15%\" align=\"right\" hpsace=\"50\">\n",
    "\n",
    "# Activity 1: Python Notebooks\n",
    "\n",
    "\n",
    "Before we get to text mining, we will go through all programming you will need for the rest of the class.\n",
    "\n",
    "First, we'll get to know Jupyter Notebooks. Make sure you run the command in the next cell by clicking the run button on the left or pressing ```shift+enter```.  This is neede to copy all neccessary files for the activity."
   ]
  },
  {
   "cell_type": "code",
   "execution_count": null,
   "metadata": {
    "colab": {},
    "colab_type": "code",
    "id": "61AfB_9Vx5JL"
   },
   "outputs": [],
   "source": [
    "!curl -s -o setup.sh https://raw.githubusercontent.com/tproffen/ORCSGirlsPython/master/TextMining/Helpers/setup_activity1.sh\n",
    "!bash setup.sh"
   ]
  },
  {
   "cell_type": "markdown",
   "metadata": {
    "colab_type": "text",
    "collapsed": true,
    "id": "rdwDfxLMvzWC"
   },
   "source": [
    "## Python Notebooks\n",
    "\n",
    "**Note:** If you are running this notebook using <a href=\"https://colab.research.google.com/\">Google Colaboratory</a>, the screen will look somewhat different. You can use the **+ Code** and **+ Text** buttons to add **Markdown** and **Code** cells. Execute a cell by pressing `shift` + `enter` or clocking the play button next to the cell.\n",
    "\n",
    "### Cells\n",
    "\n",
    "Python notebooks are composed of cells.\n",
    "Cells have a **type**. We will use two types:\n",
    "- **Text**: This allows to add text and explainations to your notebook. \n",
    "- **Code**: This allows you to enter and execute Python code.\n",
    "\n",
    "### Running code\n",
    "\n",
    "You can run a cell either by pressing `shift` + `enter` or by pressing the little \"play\" button to theleft of the cell.\n",
    "\n",
    "### Hello World\n",
    "\n",
    "Let us start with writing `Hello, World!` on the screen. \n",
    "\n",
    "Click in the cell below and enter \n",
    "\n",
    "> `print (\"Hello, World!\")` \n",
    "\n",
    "and press `shift+enter` (or the little \"play\" button)."
   ]
  },
  {
   "cell_type": "code",
   "execution_count": null,
   "metadata": {
    "colab": {},
    "colab_type": "code",
    "id": "tJwHrKWMvzWG",
    "scrolled": true
   },
   "outputs": [],
   "source": [
    "print(\"Hello, World!\")"
   ]
  },
  {
   "cell_type": "markdown",
   "metadata": {},
   "source": [
    "Sometimes you will see code in different color:"
   ]
  },
  {
   "cell_type": "code",
   "execution_count": null,
   "metadata": {},
   "outputs": [],
   "source": [
    "# This is a comment"
   ]
  },
  {
   "cell_type": "markdown",
   "metadata": {},
   "source": [
    "As the code says, it's just a comment:) That means the code does nothing, its purpose is just to inform you of something."
   ]
  },
  {
   "cell_type": "markdown",
   "metadata": {
    "colab_type": "text",
    "id": "CbwZx9wLvzWJ"
   },
   "source": [
    "## Python\n",
    "\n",
    "There are only three things we will need in Python:\n",
    "* **Variables** \n",
    "* **Lists**\n",
    "* **Loops**\n",
    "\n",
    "First, let's look at variables.\n",
    "\n",
    "### Variables\n",
    "\n",
    "Variables are a way for us to store information thay we may need later on.\n",
    "\n",
    "Say you are trying to remember somebody's name:"
   ]
  },
  {
   "cell_type": "code",
   "execution_count": null,
   "metadata": {
    "colab": {},
    "colab_type": "code",
    "id": "_diYlHQTvzWa"
   },
   "outputs": [],
   "source": [
    "# Text needs to be written with quotation marks\n",
    "\n",
    "my_name = \"Dasha\"\n",
    "\n",
    "print(\"Hello,\", my_name)"
   ]
  },
  {
   "cell_type": "markdown",
   "metadata": {},
   "source": [
    "Variables can also contain numbers:"
   ]
  },
  {
   "cell_type": "code",
   "execution_count": null,
   "metadata": {},
   "outputs": [],
   "source": [
    "number = 1\n",
    "\n",
    "decimal = 3.45\n",
    "\n",
    "print(number)\n",
    "\n",
    "print(decimal)"
   ]
  },
  {
   "cell_type": "markdown",
   "metadata": {
    "colab_type": "text",
    "id": "_9VtAfBHvzWd"
   },
   "source": [
    "### Lists"
   ]
  },
  {
   "cell_type": "markdown",
   "metadata": {
    "colab_type": "text",
    "id": "0DbPIpNLvzWe"
   },
   "source": [
    "If you want Python to remember several things (like several names) you can use **lists**. Lists are created with squared brackets: `[` and `]`. Let's create a list:"
   ]
  },
  {
   "cell_type": "code",
   "execution_count": null,
   "metadata": {
    "colab": {},
    "colab_type": "code",
    "id": "n3hCxfj3vzWg"
   },
   "outputs": [],
   "source": [
    "names = [\"Harry\", \"Ron\", \"Hermione\", \"Hagrid\"]\n",
    "\n",
    "print(names)"
   ]
  },
  {
   "cell_type": "markdown",
   "metadata": {
    "colab_type": "text",
    "id": "0DGEM6mLvzWl"
   },
   "source": [
    "Lists can also contain numbers:"
   ]
  },
  {
   "cell_type": "code",
   "execution_count": null,
   "metadata": {
    "colab": {},
    "colab_type": "code",
    "id": "HDuuqwrrvzWm"
   },
   "outputs": [],
   "source": [
    "numbers = [10, 11, 12, 13]"
   ]
  },
  {
   "cell_type": "markdown",
   "metadata": {
    "colab_type": "text",
    "id": "KLOuSqRPvzWo"
   },
   "source": [
    "You can access a member of a list, you can use its sequence number. The first member has number 0, second is number 1, third is number 2 and so on (notice the numbers start from zero). This is what you would do to access the third member:"
   ]
  },
  {
   "cell_type": "code",
   "execution_count": null,
   "metadata": {
    "colab": {},
    "colab_type": "code",
    "id": "U9u_7bMdvzWp"
   },
   "outputs": [],
   "source": [
    "print(names[2]) # numbering starts from zero, so the third member can be accessed with number 2\n",
    "\n",
    "print(numbers[1])"
   ]
  },
  {
   "cell_type": "markdown",
   "metadata": {
    "colab_type": "text",
    "id": "UnLhl0S2vzWr"
   },
   "source": [
    "Lists are not static, you can add to them. When you add to a list, the new member is also put at the end:"
   ]
  },
  {
   "cell_type": "code",
   "execution_count": null,
   "metadata": {
    "colab": {},
    "colab_type": "code",
    "id": "OhUIQFM_vzWs"
   },
   "outputs": [],
   "source": [
    "names.append(\"Dumbledore\")\n",
    "\n",
    "print(names)"
   ]
  },
  {
   "cell_type": "markdown",
   "metadata": {
    "colab_type": "text",
    "id": "qo5r05Z1vzWv"
   },
   "source": [
    "Can you add your name to the list?"
   ]
  },
  {
   "cell_type": "code",
   "execution_count": null,
   "metadata": {
    "colab": {},
    "colab_type": "code",
    "id": "TNvB1embvzWv"
   },
   "outputs": [],
   "source": []
  },
  {
   "cell_type": "markdown",
   "metadata": {
    "colab_type": "text",
    "id": "DkHHBd2avzW8"
   },
   "source": [
    "### Loops\n",
    "\n",
    "Loops are a way to do something with many variables. Remember the list of names we just created?"
   ]
  },
  {
   "cell_type": "code",
   "execution_count": null,
   "metadata": {
    "colab": {},
    "colab_type": "code",
    "id": "YWaTA8fBvzW9"
   },
   "outputs": [],
   "source": [
    "print(names)"
   ]
  },
  {
   "cell_type": "markdown",
   "metadata": {
    "colab_type": "text",
    "id": "sMhDYwiQvzXA"
   },
   "source": [
    "If we want to say hello to everyone on this list, we have to write:"
   ]
  },
  {
   "cell_type": "code",
   "execution_count": null,
   "metadata": {
    "colab": {},
    "colab_type": "code",
    "id": "3VQTBOA8vzXB"
   },
   "outputs": [],
   "source": [
    "print(\"Hello, Harry\")\n",
    "print(\"Hello, Ron\")\n",
    "print(\"Hello, Hermione\")\n",
    "print(\"Hello, Hagrid\")\n",
    "print(\"Hello, Dumbledore\")"
   ]
  },
  {
   "cell_type": "markdown",
   "metadata": {
    "colab_type": "text",
    "id": "EGHoksj4vzXE"
   },
   "source": [
    "Or we can use a loop to that!"
   ]
  },
  {
   "cell_type": "code",
   "execution_count": null,
   "metadata": {
    "colab": {},
    "colab_type": "code",
    "id": "nBGRyliFvzXE"
   },
   "outputs": [],
   "source": [
    "for name in names:\n",
    "    print(\"Hello,\", name)"
   ]
  },
  {
   "cell_type": "markdown",
   "metadata": {
    "colab_type": "text",
    "id": "U19zlYNFvzXG"
   },
   "source": [
    "Isn't that nicer?\n",
    "\n",
    "Notice that you need to use a colon to end the first line and then four spaces on the second line. This is very important."
   ]
  },
  {
   "cell_type": "markdown",
   "metadata": {
    "colab_type": "text",
    "id": "efTHhdLuvzXH"
   },
   "source": [
    "# That's All Folks! Now you know Python!"
   ]
  }
 ],
 "metadata": {
  "colab": {
   "include_colab_link": true,
   "name": "Activity 1 -- Python Refresher.ipynb",
   "provenance": []
  },
  "kernelspec": {
   "display_name": "Python 3",
   "language": "python",
   "name": "python3"
  },
  "language_info": {
   "codemirror_mode": {
    "name": "ipython",
    "version": 3
   },
   "file_extension": ".py",
   "mimetype": "text/x-python",
   "name": "python",
   "nbconvert_exporter": "python",
   "pygments_lexer": "ipython3",
   "version": "3.7.4"
  }
 },
 "nbformat": 4,
 "nbformat_minor": 1
}
