{
  "nbformat": 4,
  "nbformat_minor": 0,
  "metadata": {
    "colab": {
      "name": "Activity 2 -- Book length.ipynb",
      "version": "0.3.2",
      "provenance": [],
      "include_colab_link": true
    },
    "kernelspec": {
      "display_name": "Python 3",
      "language": "python",
      "name": "python3"
    }
  },
  "cells": [
    {
      "cell_type": "markdown",
      "metadata": {
        "id": "view-in-github",
        "colab_type": "text"
      },
      "source": [
        "<a href=\"https://colab.research.google.com/github/tproffen/ORCSGirlsPython/blob/master/TextMining/Activity%202%20--%20Book%20length.ipynb\" target=\"_parent\"><img src=\"https://colab.research.google.com/assets/colab-badge.svg\" alt=\"Open In Colab\"/></a>"
      ]
    },
    {
      "metadata": {
        "collapsed": true,
        "id": "xWs7zv3wIerB",
        "colab_type": "text"
      },
      "cell_type": "markdown",
      "source": [
        "<img src=\"https://github.com/tproffen/ORCSGirlsPython/blob/master/TextMining/Images/PoweredTechGirlz.png?raw=1\" width=\"15%\" align=\"right\">\n",
        "\n",
        "# Activity 2: Text Mining Harry Potter - Book Length\n",
        "\n",
        "We will be using data provided by [Bradley Boehmke](https://github.com/bradleyboehmke/harrypotter).\n",
        "\n",
        "The goal of this class is to do a textual analysis of the seven Harry Potter books. We will use Python to discover some interesting insights that maybe nobody else in the world has realized about the Harry Potter books!\n",
        "\n",
        "These are the books we will be analyzing:\n",
        "\n",
        "1. Harry Potter and the Sorcerer's Stone\n",
        "2. Harry Potter and the Chamber of Secrets\n",
        "3. Harry Potter and the Prisoner of Azkaban\n",
        "4. Harry Potter and the Goblet of Fire\n",
        "5. Harry Potter and the Order of the Phoenix\n",
        "6. Harry Potter and the Half-Blood Prince\n",
        "7. Harry Potter and the Deathly Hallows\n",
        "\n",
        "<img src=\"https://github.com/tproffen/ORCSGirlsPython/blob/master/TextMining/Images/book_covers.png?raw=1\" width=\"60%\" align=\"left\">"
      ]
    },
    {
      "metadata": {
        "id": "MsTfmJ9sIerC",
        "colab_type": "text"
      },
      "cell_type": "markdown",
      "source": [
        "We prepared some functions to help you with loading data and creating figures. Let's import those functions now."
      ]
    },
    {
      "metadata": {
        "id": "T6vZTWJBIh4O",
        "colab_type": "code",
        "colab": {}
      },
      "cell_type": "code",
      "source": [
        "!curl -s -o setup.sh https://raw.githubusercontent.com/tproffen/ORCSGirlsPython/master/TextMining/Helpers/setup_activity2.sh\n",
        "!bash setup.sh"
      ],
      "execution_count": 0,
      "outputs": []
    },
    {
      "metadata": {
        "id": "wN8akvLZIerD",
        "colab_type": "code",
        "colab": {}
      },
      "cell_type": "code",
      "source": [
        "import Helpers\n",
        "from Helpers.load_data import *\n",
        "from Helpers.plot_data import *\n",
        "from collections import Counter"
      ],
      "execution_count": 0,
      "outputs": []
    },
    {
      "metadata": {
        "id": "1dl6hzqKIerF",
        "colab_type": "text"
      },
      "cell_type": "markdown",
      "source": [
        "## Counting words\n",
        "\n",
        "We will try to use Python to count the number of words in the example text we just saw. We have the text ready here:"
      ]
    },
    {
      "metadata": {
        "id": "xwDyPkmrIerG",
        "colab_type": "code",
        "colab": {}
      },
      "cell_type": "code",
      "source": [
        "text = (\n",
        "    'Hagrid: \"You are a wizard, Harry\" '\n",
        "    'Harry: \"I am a what?\" '\n",
        "    'Hagrid: \"A wizard, Harry\" '\n",
        ")\n",
        "print(text)"
      ],
      "execution_count": 0,
      "outputs": []
    },
    {
      "metadata": {
        "id": "tHTpP92FIerJ",
        "colab_type": "text"
      },
      "cell_type": "markdown",
      "source": [
        "We would like to count how many words the first book contains, but as you just saw, what we have is continuous text. So how do we get the words out?\n",
        "\n",
        "As it turns out, in Python there is a neat function called `split` that does that!\n",
        "\n",
        "The following code will split the text into separate words."
      ]
    },
    {
      "metadata": {
        "id": "f7N3SQCdIerJ",
        "colab_type": "code",
        "colab": {}
      },
      "cell_type": "code",
      "source": [
        "words = text.split()\n",
        "\n",
        "print(words)"
      ],
      "execution_count": 0,
      "outputs": []
    },
    {
      "metadata": {
        "id": "D1A5c9SmIerM",
        "colab_type": "text"
      },
      "cell_type": "markdown",
      "source": [
        "To count how many words are in the text we can use another neat Python function: `len` (which stands for \"length\"). `len` can tell us how long the list of words we just created is."
      ]
    },
    {
      "metadata": {
        "id": "0l4dCuc3IerM",
        "colab_type": "code",
        "colab": {}
      },
      "cell_type": "code",
      "source": [
        "number_of_words = len(words)\n",
        "\n",
        "print(number_of_words)"
      ],
      "execution_count": 0,
      "outputs": []
    },
    {
      "metadata": {
        "id": "1LZlIbn6IerQ",
        "colab_type": "text"
      },
      "cell_type": "markdown",
      "source": [
        "## Reading Data\n",
        "\n",
        "Let's try to do the same with the first book!\n",
        "\n",
        "To be able to work with the books, we first need to load them into a Python variable. The books are stored in text files, one in each file. We prepared a function for loading each book. Run the code below to load the first book and store it in a variable called `book`."
      ]
    },
    {
      "metadata": {
        "id": "ydbVi2OEIerR",
        "colab_type": "code",
        "colab": {}
      },
      "cell_type": "code",
      "source": [
        "book = load_book_1()"
      ],
      "execution_count": 0,
      "outputs": []
    },
    {
      "metadata": {
        "collapsed": true,
        "id": "Gs_0hnbuIerT",
        "colab_type": "text"
      },
      "cell_type": "markdown",
      "source": [
        "Now we have a variable called `book` which contains the text of the first book. \n",
        "\n",
        "Remember lists from the first exercise? As it happens, text in Python can also be accessed as list. Think of it as a list of characters.\n",
        "\n",
        "Because text in Python is a list, you can also access the contents using indexing. To print the first 500 characters of the book, you can run:"
      ]
    },
    {
      "metadata": {
        "id": "Cwr0XyEGIerU",
        "colab_type": "code",
        "colab": {}
      },
      "cell_type": "code",
      "source": [
        "print(book[0:500])"
      ],
      "execution_count": 0,
      "outputs": []
    },
    {
      "metadata": {
        "id": "WPbyhtC9IerW",
        "colab_type": "text"
      },
      "cell_type": "markdown",
      "source": [
        "## Book length\n",
        "\n",
        "Do you know how long was the first book? Try to guess!\n",
        "\n",
        "In this exercise, we will look at how to answer that.\n",
        "\n",
        "Do you remember how to split text into words? Try to do that with the first book:"
      ]
    },
    {
      "metadata": {
        "id": "pBNmN_AAIerX",
        "colab_type": "code",
        "colab": {}
      },
      "cell_type": "code",
      "source": [
        "words = #replace_this_with_your_code#\n",
        "\n",
        "print(words[0:26])"
      ],
      "execution_count": 0,
      "outputs": []
    },
    {
      "metadata": {
        "id": "74csIQHIIerb",
        "colab_type": "text"
      },
      "cell_type": "markdown",
      "source": [
        "Now we just need to find how long the list is:"
      ]
    },
    {
      "metadata": {
        "id": "I3zSTtlyIerb",
        "colab_type": "code",
        "colab": {}
      },
      "cell_type": "code",
      "source": [
        "book_length = #replace_this_with_your_code#\n",
        "\n",
        "print(book_length)"
      ],
      "execution_count": 0,
      "outputs": []
    },
    {
      "metadata": {
        "id": "4p6ZlaX9Iere",
        "colab_type": "text"
      },
      "cell_type": "markdown",
      "source": [
        "That's right, it's pretty long!"
      ]
    },
    {
      "metadata": {
        "id": "mqA8L1jnIere",
        "colab_type": "text"
      },
      "cell_type": "markdown",
      "source": [
        "### Exercise\n",
        "\n",
        "Can you tell me how long is the second book? We created a function you can use to load the second book: `load_book_2`. Use the function to load the second book, then split the text into words and count how long is it. Is it longer or shorter than the first book?"
      ]
    },
    {
      "metadata": {
        "id": "JIJkDmlXIerf",
        "colab_type": "code",
        "colab": {}
      },
      "cell_type": "code",
      "source": [
        ""
      ],
      "execution_count": 0,
      "outputs": []
    },
    {
      "metadata": {
        "id": "H5-vFoKzIerh",
        "colab_type": "text"
      },
      "cell_type": "markdown",
      "source": [
        "## Finding the longest book\n",
        "\n",
        "Now that you know how to find the length of a book we will do this for all books.\n",
        "\n",
        "To do this, we will use one additional part of Python: loops.\n",
        "\n",
        "First, we will need to load all books. We prepared a function you can use to do that: `load_all_books`. Run the code below."
      ]
    },
    {
      "metadata": {
        "id": "THT4VXqRIerh",
        "colab_type": "code",
        "colab": {}
      },
      "cell_type": "code",
      "source": [
        "books = load_all_books()"
      ],
      "execution_count": 0,
      "outputs": []
    },
    {
      "metadata": {
        "id": "8HjHtaUpIerl",
        "colab_type": "text"
      },
      "cell_type": "markdown",
      "source": [
        "Now we have a list called `books` which contains all seven book. This is the length of the list"
      ]
    },
    {
      "metadata": {
        "id": "ApfYHqVzIerl",
        "colab_type": "code",
        "colab": {}
      },
      "cell_type": "code",
      "source": [
        "print(len(books))"
      ],
      "execution_count": 0,
      "outputs": []
    },
    {
      "metadata": {
        "id": "5ScJmXjdIero",
        "colab_type": "text"
      },
      "cell_type": "markdown",
      "source": [
        "It contains seven text elements, each is one of the books. \n",
        "\n",
        "Remember that in python, list elements can be accessed using indexing and that the index values start from 0. That means the first book is stored in the list on the zero-th position.\n",
        "\n",
        "If you were to run the following command: \n",
        "\n",
        "> `print(books[0])`\n",
        "\n",
        "That would print the whole first book. (You can try that if you want!)\n",
        "\n",
        "Let's try to print the first 500 characters of the 1st book:"
      ]
    },
    {
      "metadata": {
        "id": "gRbH2d0QIerp",
        "colab_type": "code",
        "colab": {}
      },
      "cell_type": "code",
      "source": [
        "book = books[0]\n",
        "\n",
        "print(book[0:500])"
      ],
      "execution_count": 0,
      "outputs": []
    },
    {
      "metadata": {
        "id": "laGLOfNMIers",
        "colab_type": "text"
      },
      "cell_type": "markdown",
      "source": [
        "To find the length of all seven books, we can use a `for` loop. "
      ]
    },
    {
      "metadata": {
        "id": "FMFJi2BMIers",
        "colab_type": "code",
        "colab": {}
      },
      "cell_type": "code",
      "source": [
        "for book in books:\n",
        "    words = book.split()\n",
        "    print('Book contains', len(words), 'words')"
      ],
      "execution_count": 0,
      "outputs": []
    },
    {
      "metadata": {
        "id": "JI1UU9qUIerv",
        "colab_type": "text"
      },
      "cell_type": "markdown",
      "source": [
        "Let's visualize this!\n",
        "\n",
        "First, we will count the number of words in each book again. This time instead of printing the count we will save the count in a new variable."
      ]
    },
    {
      "metadata": {
        "id": "pilKxfEPIerw",
        "colab_type": "code",
        "colab": {}
      },
      "cell_type": "code",
      "source": [
        "words_per_book = []\n",
        "for book in books:\n",
        "    words = book.split()\n",
        "    number_of_words = len(words)\n",
        "    words_per_book.append(number_of_words)"
      ],
      "execution_count": 0,
      "outputs": []
    },
    {
      "metadata": {
        "id": "xRDx9h4IIery",
        "colab_type": "code",
        "colab": {}
      },
      "cell_type": "code",
      "source": [
        "print(words_per_book)"
      ],
      "execution_count": 0,
      "outputs": []
    },
    {
      "metadata": {
        "id": "3pJ3dCebIer1",
        "colab_type": "text"
      },
      "cell_type": "markdown",
      "source": [
        "We created function which you can use to print the book length:"
      ]
    },
    {
      "metadata": {
        "id": "df6pQ6bnIer1",
        "colab_type": "code",
        "colab": {}
      },
      "cell_type": "code",
      "source": [
        "plot(words_per_book)"
      ],
      "execution_count": 0,
      "outputs": []
    },
    {
      "metadata": {
        "id": "Vd9KBlVtIer3",
        "colab_type": "text"
      },
      "cell_type": "markdown",
      "source": [
        "## Exercise\n",
        "\n",
        "Can you count the total number of words in all books? There are many ways to do that, one of them is to use a loop:"
      ]
    },
    {
      "metadata": {
        "id": "RtHmzao5Ier4",
        "colab_type": "code",
        "colab": {}
      },
      "cell_type": "code",
      "source": [
        ""
      ],
      "execution_count": 0,
      "outputs": []
    }
  ]
}