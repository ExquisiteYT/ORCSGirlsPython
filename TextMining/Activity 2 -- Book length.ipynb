{
 "cells": [
  {
   "cell_type": "markdown",
   "metadata": {
    "collapsed": true
   },
   "source": [
    "<img src=\"Images/PoweredTechGirlz.png\" width=\"15%\" align=\"right\">\n",
    "\n",
    "# Activity 2: Text Mining Harry Potter - Book Length\n",
    "\n",
    "We will be using data provided by [Bradley Boehmke](https://github.com/bradleyboehmke/harrypotter).\n",
    "\n",
    "The goal of this class is to do a textual analysis of the seven Harry Potter books. We will use Python to discover some interesting insights that maybe nobody else in the world has realized about the Harry Potter books!\n",
    "\n",
    "These are the books we will be analyzing:\n",
    "\n",
    "1. Harry Potter and the Sorcerer's Stone\n",
    "2. Harry Potter and the Chamber of Secrets\n",
    "3. Harry Potter and the Prisoner of Azkaban\n",
    "4. Harry Potter and the Goblet of Fire\n",
    "5. Harry Potter and the Order of the Phoenix\n",
    "6. Harry Potter and the Half-Blood Prince\n",
    "7. Harry Potter and the Deathly Hallows\n",
    "\n",
    "<img src=\"Images/book_covers.png\" width=\"60%\" align=\"left\">"
   ]
  },
  {
   "cell_type": "markdown",
   "metadata": {},
   "source": [
    "We prepared some functions to help you with loading data and creating figures. Let's import those functions now."
   ]
  },
  {
   "cell_type": "code",
   "execution_count": null,
   "metadata": {
    "collapsed": true
   },
   "outputs": [],
   "source": [
    "import Helpers\n",
    "from Helpers.load_data import *\n",
    "from Helpers.plot_data import *\n",
    "from collections import Counter"
   ]
  },
  {
   "cell_type": "markdown",
   "metadata": {},
   "source": [
    "## Reading Data\n",
    "\n",
    "To be able to work with the books, we first need to load them into a Python variable. The books are stored in text files, one in each file. We prepared a function for loading each book. Run the code below to load the first book and store it in a variable called `book_1`."
   ]
  },
  {
   "cell_type": "code",
   "execution_count": null,
   "metadata": {
    "collapsed": true
   },
   "outputs": [],
   "source": [
    "book_1 = load_book_1()"
   ]
  },
  {
   "cell_type": "markdown",
   "metadata": {
    "collapsed": true
   },
   "source": [
    "Now we have a variable called `book_1` which contains the text of the first book. \n",
    "\n",
    "Remember lists from the first exercise? As it happens, text in Python can also be accessed as list. Think of it as a list of characters.\n",
    "\n",
    "Because text in Python is a list, you can also access the contents using indexing. To print the first 500 characters of the book, you can run:"
   ]
  },
  {
   "cell_type": "code",
   "execution_count": null,
   "metadata": {},
   "outputs": [],
   "source": [
    "print(book_1[0:500])"
   ]
  },
  {
   "cell_type": "markdown",
   "metadata": {},
   "source": [
    "## Book length\n",
    "\n",
    "Do you know how long was the first book? Try to guess!\n",
    "\n",
    "In this exercise, we will look at how to answer that.\n",
    "\n",
    "We would like to count how many words the first book contains, but as you just saw, the book is represented as continuous text. So how do we get the words out?\n",
    "\n",
    "As it turns out, in Python there is a neat function called `split` that does that!\n",
    "\n",
    "The following code will split the first book into separate words. We will print the first few words."
   ]
  },
  {
   "cell_type": "code",
   "execution_count": null,
   "metadata": {},
   "outputs": [],
   "source": [
    "words = book_1.split()\n",
    "\n",
    "print(words[0:26])"
   ]
  },
  {
   "cell_type": "markdown",
   "metadata": {},
   "source": [
    "The function `split` created a list of words.\n",
    "\n",
    "To count how many words are in the first book we can use another neat Python function: `len` (which stands for \"length\"). `len` can tell us how long the list of words we just created is."
   ]
  },
  {
   "cell_type": "code",
   "execution_count": null,
   "metadata": {},
   "outputs": [],
   "source": [
    "print(len(words))"
   ]
  },
  {
   "cell_type": "markdown",
   "metadata": {},
   "source": [
    "That's right, the first book contains more than 78 thousand words!"
   ]
  },
  {
   "cell_type": "markdown",
   "metadata": {},
   "source": [
    "### Exercise\n",
    "\n",
    "Can you tell me how long is the second book? We created a function you can use to load the second book: `load_book_2`. Use the function to load the second book, then split the text into words and count how long is it. Is it longer or shorter than the first book?"
   ]
  },
  {
   "cell_type": "code",
   "execution_count": null,
   "metadata": {},
   "outputs": [],
   "source": [
    "book_2 = load_book_2()\n",
    "words_book_2 = book_2.split()\n",
    "print(len(words_book_2))"
   ]
  },
  {
   "cell_type": "markdown",
   "metadata": {},
   "source": [
    "## Finding the longest book\n",
    "\n",
    "Now that you know how to find the length of a book we will do this for all books.\n",
    "\n",
    "To do this, we will use one additional part of Python: loops.\n",
    "\n",
    "First, we will need to load all books. We prepared a function you can use to do that: `load_all_books`. Run the code below."
   ]
  },
  {
   "cell_type": "code",
   "execution_count": null,
   "metadata": {
    "collapsed": true
   },
   "outputs": [],
   "source": [
    "books = load_all_books()"
   ]
  },
  {
   "cell_type": "markdown",
   "metadata": {},
   "source": [
    "Now we have a list called `books` which contains all seven book. This is the length of the list"
   ]
  },
  {
   "cell_type": "code",
   "execution_count": null,
   "metadata": {},
   "outputs": [],
   "source": [
    "print(len(books))"
   ]
  },
  {
   "cell_type": "markdown",
   "metadata": {},
   "source": [
    "It contains seven text elements, each is one of the books. \n",
    "\n",
    "Remember that in python, list elements can be accessed using indexing and that the index values start from 0. That means the first book is stored in the list on the zero-th position.\n",
    "\n",
    "If you were to run the following command: \n",
    "\n",
    "> `print(books[0])`\n",
    "\n",
    "That would print the whole first book. (You can try that if you want!)\n",
    "\n",
    "Let's try to print the first 500 characters of the 1st book:"
   ]
  },
  {
   "cell_type": "code",
   "execution_count": null,
   "metadata": {},
   "outputs": [],
   "source": [
    "book_1 = books[0]\n",
    "\n",
    "print(book_1[0:500])"
   ]
  },
  {
   "cell_type": "markdown",
   "metadata": {},
   "source": [
    "To find the length of all seven books, we can use a `for` loop. "
   ]
  },
  {
   "cell_type": "code",
   "execution_count": null,
   "metadata": {},
   "outputs": [],
   "source": [
    "for book in books:\n",
    "    words = book.split()\n",
    "    print('Book contains', len(words), 'words')"
   ]
  },
  {
   "cell_type": "markdown",
   "metadata": {},
   "source": [
    "Let's visualize this!\n",
    "\n",
    "First, we will count the number of words in each book again. This time instead of printing the count we will save the count in a new variable."
   ]
  },
  {
   "cell_type": "code",
   "execution_count": null,
   "metadata": {},
   "outputs": [],
   "source": [
    "words_per_book = []\n",
    "for book in books:\n",
    "    words = book.split()\n",
    "    words_per_book.append(len(words))\n",
    "print(words_per_book)"
   ]
  },
  {
   "cell_type": "markdown",
   "metadata": {},
   "source": [
    "We created function which you can use to print the book length:"
   ]
  },
  {
   "cell_type": "code",
   "execution_count": null,
   "metadata": {},
   "outputs": [],
   "source": [
    "plot(words_per_book)"
   ]
  },
  {
   "cell_type": "markdown",
   "metadata": {},
   "source": [
    "## Exercise\n",
    "\n",
    "Can you count the total number of words in all books? There are many ways to do that, one of them is to use a loop:"
   ]
  },
  {
   "cell_type": "code",
   "execution_count": null,
   "metadata": {},
   "outputs": [],
   "source": [
    "total_words = 0\n",
    "for book in books:\n",
    "    total_words = total_words + len(book.split())\n",
    "print(total_words)"
   ]
  }
 ],
 "metadata": {
  "git": {
   "suppress_outputs": true
  },
  "kernelspec": {
   "display_name": "Python 3",
   "language": "python",
   "name": "python3"
  },
  "language_info": {
   "codemirror_mode": {
    "name": "ipython",
    "version": 3
   },
   "file_extension": ".py",
   "mimetype": "text/x-python",
   "name": "python",
   "nbconvert_exporter": "python",
   "pygments_lexer": "ipython3",
   "version": "3.6.1"
  }
 },
 "nbformat": 4,
 "nbformat_minor": 2
}
