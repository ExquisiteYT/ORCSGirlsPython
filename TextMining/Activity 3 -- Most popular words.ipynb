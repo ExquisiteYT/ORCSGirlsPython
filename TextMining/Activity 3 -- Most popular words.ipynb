{
 "cells": [
  {
   "cell_type": "markdown",
   "metadata": {},
   "source": [
    "<img src=\"Images/PoweredTechGirlz.png\" width=\"15%\" align=\"right\">\n",
    "\n",
    "# Activity 3: Text Mining Harry Potter - Most Popular Words\n",
    "\n",
    "We will be using data provided by [Bradley Boehmke](https://github.com/bradleyboehmke/harrypotter).\n",
    "\n",
    "The goal of this class is to do a textual analysis of the seven Harry Potter books. We will use Python to discover some interesting insights that maybe nobody else in the world has realized about the Harry Potter books! In this activity we will find the most popular words and combination of words in book 1.\n",
    "\n",
    "<img src=\"Images/book_covers.png\" width=\"60%\" align=\"left\">"
   ]
  },
  {
   "cell_type": "code",
   "execution_count": 1,
   "metadata": {
    "collapsed": true
   },
   "outputs": [],
   "source": [
    "import Helpers\n",
    "from Helpers.load_data import *\n",
    "from Helpers.plot_data import *\n",
    "from collections import Counter"
   ]
  },
  {
   "cell_type": "markdown",
   "metadata": {
    "collapsed": true
   },
   "source": [
    "# Most popular words\n",
    "\n",
    "We will try to find out which words are the most popular in each book.\n",
    "\n",
    "We already know how to split each book into words, but this time we will need to do two additional steps.\n",
    "\n",
    "First, look at the following piece of text:"
   ]
  },
  {
   "cell_type": "code",
   "execution_count": 2,
   "metadata": {},
   "outputs": [
    {
     "name": "stdout",
     "output_type": "stream",
     "text": [
      "Hagrid: \"You're a wizard, Harry\" Harry: \"I am a what?\" Hagrid: \"A wizard, Harry\" \n"
     ]
    }
   ],
   "source": [
    "text = (\n",
    "    \"Hagrid: \\\"You're a wizard, Harry\\\" \"\n",
    "    \"Harry: \\\"I am a what?\\\" \"\n",
    "    \"Hagrid: \\\"A wizard, Harry\\\" \"\n",
    ")\n",
    "print(text)"
   ]
  },
  {
   "cell_type": "markdown",
   "metadata": {},
   "source": [
    "How can we find the most popular words in this piece of text?\n",
    "\n",
    "As it turns out, Python has another neat function which we can use to do that. It's called a `Counter`. You can give `Counter` a list of words and it will count how many times does each word appear. \n",
    "\n",
    "To do that, we first need a list of words. In the cell below, split the text into words and assign the result to a new variable called `words`:"
   ]
  },
  {
   "cell_type": "code",
   "execution_count": 5,
   "metadata": {},
   "outputs": [
    {
     "name": "stdout",
     "output_type": "stream",
     "text": [
      "['Hagrid:', '\"You\\'re', 'a', 'wizard,', 'Harry\"', 'Harry:', '\"I', 'am', 'a', 'what?\"', 'Hagrid:', '\"A', 'wizard,', 'Harry\"']\n"
     ]
    }
   ],
   "source": [
    "words = text.split()\n",
    "print(words)"
   ]
  },
  {
   "cell_type": "markdown",
   "metadata": {},
   "source": [
    "Now that we have separate words, we can pass those to a `Counter`:"
   ]
  },
  {
   "cell_type": "code",
   "execution_count": 6,
   "metadata": {},
   "outputs": [
    {
     "data": {
      "text/plain": [
       "Counter({'\"A': 1,\n",
       "         '\"I': 1,\n",
       "         '\"You\\'re': 1,\n",
       "         'Hagrid:': 2,\n",
       "         'Harry\"': 2,\n",
       "         'Harry:': 1,\n",
       "         'a': 2,\n",
       "         'am': 1,\n",
       "         'what?\"': 1,\n",
       "         'wizard,': 2})"
      ]
     },
     "execution_count": 6,
     "metadata": {},
     "output_type": "execute_result"
    }
   ],
   "source": [
    "Counter(words)"
   ]
  },
  {
   "cell_type": "markdown",
   "metadata": {},
   "source": [
    "What happened? `Counter` counted the words \"Harry\" and \"Harry:\" as two separate words. It also counted \"A\" and \"a\" as two separate words.\n",
    "\n",
    "To fix this, we will need to remove all characters from the text which are not letters, and conver the text to lowercase."
   ]
  },
  {
   "cell_type": "code",
   "execution_count": 10,
   "metadata": {},
   "outputs": [
    {
     "name": "stdout",
     "output_type": "stream",
     "text": [
      "['hagrid', 'youre', 'a', 'wizard', 'harry', 'harry', 'i', 'am', 'a', 'what', 'hagrid', 'a', 'wizard', 'harry']\n"
     ]
    }
   ],
   "source": [
    "new_words = []\n",
    "for word in words:\n",
    "    word = word.lower()\n",
    "    word = ''.join([i for i in word if i.isalpha()])\n",
    "    new_words.append(word)\n",
    "print(new_words)"
   ]
  },
  {
   "cell_type": "code",
   "execution_count": 12,
   "metadata": {},
   "outputs": [
    {
     "data": {
      "text/plain": [
       "[('a', 3),\n",
       " ('harry', 3),\n",
       " ('hagrid', 2),\n",
       " ('wizard', 2),\n",
       " ('am', 1),\n",
       " ('what', 1),\n",
       " ('youre', 1),\n",
       " ('i', 1)]"
      ]
     },
     "execution_count": 12,
     "metadata": {},
     "output_type": "execute_result"
    }
   ],
   "source": [
    "Counter(new_words).most_common()"
   ]
  },
  {
   "cell_type": "markdown",
   "metadata": {},
   "source": [
    "This is because in Python \"Harry\" and \"HARRY\" is otherwise considered to be two different words. Therefore, we want to convert all words to lowercase."
   ]
  },
  {
   "cell_type": "code",
   "execution_count": 2,
   "metadata": {},
   "outputs": [
    {
     "name": "stdout",
     "output_type": "stream",
     "text": [
      "Words before: ['THE', 'BOY', 'WHO', 'LIVED', 'Mr.', 'and', 'Mrs.', 'Dursley,', 'of', 'number', 'four,', 'Privet', 'Drive,', 'were', 'proud', 'to', 'say', 'that', 'they', 'were', 'perfectly', 'normal,', 'thank', 'you', 'very', 'much.']\n",
      "\n",
      "Words after: ['the', 'boy', 'who', 'lived', 'mr.', 'and', 'mrs.', 'dursley,', 'of', 'number', 'four,', 'privet', 'drive,', 'were', 'proud', 'to', 'say', 'that', 'they', 'were', 'perfectly', 'normal,', 'thank', 'you', 'very', 'much.']\n"
     ]
    }
   ],
   "source": [
    "book_1 = load_book_1()\n",
    "words = book_1.split()\n",
    "\n",
    "print('Words before:', words[0:26])\n",
    "print()\n",
    "\n",
    "lowercase_words = []\n",
    "for word in words:\n",
    "    lowercase_words.append(word.lower())\n",
    "    \n",
    "print('Words after:', lowercase_words[0:26])"
   ]
  },
  {
   "cell_type": "markdown",
   "metadata": {},
   "source": [
    "We can use `Counter` to count occurences of all words and `matplotlib` to visualize the results:"
   ]
  },
  {
   "cell_type": "code",
   "execution_count": 3,
   "metadata": {},
   "outputs": [
    {
     "data": {
      "image/png": "[encoded data removed]",
      "text/plain": [
       "<Figure size 864x576 with 1 Axes>"
      ]
     },
     "metadata": {},
     "output_type": "display_data"
    }
   ],
   "source": [
    "top_10 = Counter(lowercase_words).most_common(10)\n",
    "top_10_words = []\n",
    "top_10_counts = []\n",
    "for word, count in top_10:\n",
    "    top_10_words.append(word)\n",
    "    top_10_counts.append(count)\n",
    "    \n",
    "plt.figure(figsize=(12, 8))\n",
    "\n",
    "positions = range(len(top_10))\n",
    "plt.barh(positions, top_10_counts)\n",
    "\n",
    "plt.yticks(positions, top_10_words)\n",
    "plt.show()"
   ]
  },
  {
   "cell_type": "markdown",
   "metadata": {},
   "source": [
    "What happened?\n",
    "\n",
    "Explain stopwords."
   ]
  },
  {
   "cell_type": "code",
   "execution_count": 13,
   "metadata": {},
   "outputs": [
    {
     "name": "stdout",
     "output_type": "stream",
     "text": [
      "['a', 'about', 'above', 'after', 'again', 'against', 'all', 'am', 'an', 'and']\n"
     ]
    }
   ],
   "source": [
    "stopwords_file = 'Data/stopwords.txt'\n",
    "with open(stopwords_file) as input_file:\n",
    "    stopwords = input_file.read().split()\n",
    "print(stopwords[0:10])"
   ]
  },
  {
   "cell_type": "code",
   "execution_count": 14,
   "metadata": {},
   "outputs": [
    {
     "name": "stdout",
     "output_type": "stream",
     "text": [
      "['boy', 'lived', 'mr.', 'mrs.', 'dursley,', 'number', 'four,', 'privet', 'drive,', 'proud']\n"
     ]
    }
   ],
   "source": [
    "words_without_stopwords = []\n",
    "for word in lowercase_words:\n",
    "    if word not in stopwords and word != 'said':\n",
    "        words_without_stopwords.append(word)\n",
    "print(words_without_stopwords[0:10])"
   ]
  },
  {
   "cell_type": "code",
   "execution_count": 15,
   "metadata": {},
   "outputs": [
    {
     "data": {
      "image/png": "[encoded data removed]",
      "text/plain": [
       "<Figure size 864x576 with 1 Axes>"
      ]
     },
     "metadata": {},
     "output_type": "display_data"
    }
   ],
   "source": [
    "top_10 = Counter(words_without_stopwords).most_common(10)\n",
    "top_10_words = []\n",
    "top_10_counts = []\n",
    "for word, count in top_10:\n",
    "    top_10_words.append(word)\n",
    "    top_10_counts.append(count)\n",
    "    \n",
    "plt.figure(figsize=(12, 8))\n",
    "\n",
    "positions = range(len(top_10))\n",
    "plt.barh(positions, top_10_counts)\n",
    "\n",
    "plt.yticks(positions, top_10_words)\n",
    "plt.show()"
   ]
  },
  {
   "cell_type": "markdown",
   "metadata": {},
   "source": [
    "What about combinations of words?\n",
    "\n",
    "Explain n-grams"
   ]
  },
  {
   "cell_type": "code",
   "execution_count": 16,
   "metadata": {},
   "outputs": [
    {
     "name": "stdout",
     "output_type": "stream",
     "text": [
      "['boy lived', 'lived mr.', 'mr. mrs.', 'mrs. dursley,', 'dursley, number', 'number four,', 'four, privet', 'privet drive,', 'drive, proud', 'proud say']\n"
     ]
    }
   ],
   "source": [
    "pairs = list(zip(words_without_stopwords, words_without_stopwords[1:]))\n",
    "bigrams = []\n",
    "for pair in pairs:\n",
    "    bigrams.append(pair[0] + ' ' + pair[1])\n",
    "print(bigrams[0:10])"
   ]
  },
  {
   "cell_type": "code",
   "execution_count": 17,
   "metadata": {},
   "outputs": [
    {
     "data": {
      "text/plain": [
       "[('uncle vernon', 71),\n",
       " ('professor mcgonagall', 61),\n",
       " ('aunt petunia', 42),\n",
       " ('mr. dursley', 27),\n",
       " ('harry ron', 27),\n",
       " ('harry looked', 23),\n",
       " ('harry felt', 20),\n",
       " ('uncle vernon,', 16),\n",
       " ('ron hermione', 16),\n",
       " ('nimbus two', 15)]"
      ]
     },
     "execution_count": 17,
     "metadata": {},
     "output_type": "execute_result"
    }
   ],
   "source": [
    "Counter(bigrams).most_common(10)"
   ]
  },
  {
   "cell_type": "code",
   "execution_count": null,
   "metadata": {
    "collapsed": true
   },
   "outputs": [],
   "source": []
  }
 ],
 "metadata": {
  "kernelspec": {
   "display_name": "Python 3",
   "language": "python",
   "name": "python3"
  },
  "language_info": {
   "codemirror_mode": {
    "name": "ipython",
    "version": 3
   },
   "file_extension": ".py",
   "mimetype": "text/x-python",
   "name": "python",
   "nbconvert_exporter": "python",
   "pygments_lexer": "ipython3",
   "version": "3.5.2"
  }
 },
 "nbformat": 4,
 "nbformat_minor": 2
}
