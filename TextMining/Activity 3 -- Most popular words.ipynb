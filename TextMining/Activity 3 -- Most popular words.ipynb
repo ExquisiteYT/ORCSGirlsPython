{
 "cells": [
  {
   "cell_type": "markdown",
   "metadata": {
    "colab_type": "text",
    "id": "view-in-github"
   },
   "source": [
    "<a href=\"https://colab.research.google.com/github/tproffen/ORCSGirlsPython/blob/master/TextMining/Activity%203%20--%20Most%20popular%20words.ipynb\" target=\"_parent\"><img src=\"https://colab.research.google.com/assets/colab-badge.svg\" alt=\"Open In Colab\"/></a>"
   ]
  },
  {
   "cell_type": "markdown",
   "metadata": {
    "colab_type": "text",
    "id": "dTBQPmZeK3Q8"
   },
   "source": [
    "<img src=\"https://github.com/tproffen/ORCSGirlsPython/blob/master/TextMining/Images/PoweredTechGirlz.png?raw=1\" width=\"15%\" align=\"right\">\n",
    "\n",
    "# Activity 3: Text Mining Harry Potter - Most Popular Words\n",
    "\n",
    "We will be using data provided by [Bradley Boehmke](https://github.com/bradleyboehmke/harrypotter).\n",
    "\n",
    "The goal of this class is to do a textual analysis of the seven Harry Potter books. We will use Python to discover some interesting insights that maybe nobody else in the world has realized about the Harry Potter books! In this activity we will find the most popular words and combination of words in book 1.\n",
    "\n",
    "<img src=\"https://github.com/tproffen/ORCSGirlsPython/blob/master/TextMining/Images/book_covers.png?raw=1\" width=\"60%\" align=\"left\">"
   ]
  },
  {
   "cell_type": "code",
   "execution_count": null,
   "metadata": {
    "colab": {},
    "colab_type": "code",
    "id": "azhaxyfaK4vP"
   },
   "outputs": [],
   "source": [
    "!curl -s -o setup.sh https://raw.githubusercontent.com/tproffen/ORCSGirlsPython/master/TextMining/Helpers/setup_activity3.sh\n",
    "!bash setup.sh"
   ]
  },
  {
   "cell_type": "code",
   "execution_count": null,
   "metadata": {
    "colab": {},
    "colab_type": "code",
    "id": "Yfm1zyqVK3Q9"
   },
   "outputs": [],
   "source": [
    "import Helpers\n",
    "from Helpers.load_data import *\n",
    "from Helpers.plot_data import *\n",
    "from Helpers.clean_data import *\n",
    "from collections import Counter\n",
    "#from wordcloud import WordCloud, STOPWORDS"
   ]
  },
  {
   "cell_type": "markdown",
   "metadata": {
    "colab_type": "text",
    "collapsed": true,
    "id": "RkDEiFe_K3Q_"
   },
   "source": [
    "# Most popular words\n",
    "\n",
    "## Clean up\n",
    "\n",
    "We will try to find out which words are the most popular in each book.\n",
    "\n",
    "We already know how to split each book into words, but this time we will need to do two additional steps.\n",
    "\n",
    "First, look at the following piece of text:"
   ]
  },
  {
   "cell_type": "code",
   "execution_count": null,
   "metadata": {
    "colab": {},
    "colab_type": "code",
    "id": "1PIf_PzOK3RA"
   },
   "outputs": [],
   "source": [
    "text = (\n",
    "    'Hagrid: \"You are a wizard, Harry\" '\n",
    "    'Harry: \"I am a what?\" '\n",
    "    'Hagrid: \"A wizard, Harry\" '\n",
    ")\n",
    "print(text)"
   ]
  },
  {
   "cell_type": "markdown",
   "metadata": {
    "colab_type": "text",
    "id": "wBeyu__OK3RC"
   },
   "source": [
    "How can we find the most popular words in this piece of text?\n",
    "\n",
    "As it turns out, Python has another neat function which we can use to do that. It's called a `Counter`. You can give `Counter` a list of words and it will count how many times does each word appear. \n",
    "\n",
    "To do that, we first need a list of words. In the cell below, split the text into words and assign the result to a new variable called `words`:"
   ]
  },
  {
   "cell_type": "code",
   "execution_count": null,
   "metadata": {
    "colab": {},
    "colab_type": "code",
    "id": "EfCJ-iDrK3RD"
   },
   "outputs": [],
   "source": [
    "words = text.split()\n",
    "print(words)"
   ]
  },
  {
   "cell_type": "markdown",
   "metadata": {
    "colab_type": "text",
    "id": "v5IgarR0K3RF"
   },
   "source": [
    "Now that we have separate words, we can pass those to a `Counter`:"
   ]
  },
  {
   "cell_type": "code",
   "execution_count": null,
   "metadata": {
    "colab": {},
    "colab_type": "code",
    "id": "Os_XYpS4K3RG"
   },
   "outputs": [],
   "source": [
    "Counter(words)"
   ]
  },
  {
   "cell_type": "markdown",
   "metadata": {
    "colab_type": "text",
    "id": "6pzqQQ2iK3RJ"
   },
   "source": [
    "What happened? `Counter` counted the words \"Harry\" and \"Harry:\" as two separate words. It also counted \"A\" and \"a\" as two separate words.\n",
    "\n",
    "To fix this, we will need to remove all characters from the text which are not letters, and conver the text to lowercase.\n",
    "\n",
    "First, lets remove special characters. We prepared a helper function that you can use to remove those special characters. It's called `remove_special_characters` :) This is how it works:"
   ]
  },
  {
   "cell_type": "code",
   "execution_count": null,
   "metadata": {
    "colab": {},
    "colab_type": "code",
    "id": "vs0kH4gsK3RK"
   },
   "outputs": [],
   "source": [
    "my_word = '\"Harry!\"'\n",
    "\n",
    "print(\"Original word:\", my_word)\n",
    "\n",
    "clean_word = remove_special_characters(my_word)\n",
    "\n",
    "print(\"Clean word:\", clean_word)"
   ]
  },
  {
   "cell_type": "markdown",
   "metadata": {
    "colab_type": "text",
    "id": "qUFa2gW_K3RN"
   },
   "source": [
    "Can you do this for all words in our text? Try to do that in the field below:"
   ]
  },
  {
   "cell_type": "code",
   "execution_count": null,
   "metadata": {
    "colab": {},
    "colab_type": "code",
    "id": "QZTUXIjhK3RO"
   },
   "outputs": [],
   "source": [
    "clean_words = []\n",
    "\n",
    "for word in words:\n",
    "    clean_words.append(remove_special_characters(word))\n",
    "    \n",
    "print(clean_words)"
   ]
  },
  {
   "cell_type": "markdown",
   "metadata": {
    "colab_type": "text",
    "id": "Fk5ubBauK3RR"
   },
   "source": [
    "Lets try the counter again:"
   ]
  },
  {
   "cell_type": "code",
   "execution_count": null,
   "metadata": {
    "colab": {},
    "colab_type": "code",
    "id": "Z6ZRLAKKK3RT"
   },
   "outputs": [],
   "source": [
    "Counter(clean_words)"
   ]
  },
  {
   "cell_type": "markdown",
   "metadata": {
    "colab_type": "text",
    "id": "PAG0vT2nK3RW"
   },
   "source": [
    "We still have some uppercase and lowercase words that make Python think 'A' and 'a' are two separate words. We need to convert everything to lowercase.\n",
    "\n",
    "In Python that can be done using a function called `lower`:"
   ]
  },
  {
   "cell_type": "code",
   "execution_count": null,
   "metadata": {
    "colab": {},
    "colab_type": "code",
    "id": "XYhwlIVLK3RX"
   },
   "outputs": [],
   "source": [
    "print(\"HELLO\")\n",
    "print(\"HELLO\".lower())"
   ]
  },
  {
   "cell_type": "markdown",
   "metadata": {
    "colab_type": "text",
    "id": "bIZ8Kf0SK3RY"
   },
   "source": [
    "Lets do this for the words in our text:"
   ]
  },
  {
   "cell_type": "code",
   "execution_count": null,
   "metadata": {
    "colab": {},
    "colab_type": "code",
    "id": "55wEtcK4K3RZ"
   },
   "outputs": [],
   "source": [
    "lowercase_words = []\n",
    "\n",
    "for word in clean_words:\n",
    "    lowercase_words.append(word.lower())\n",
    "    \n",
    "print(lowercase_words)"
   ]
  },
  {
   "cell_type": "markdown",
   "metadata": {
    "colab_type": "text",
    "id": "gew1tKJ6K3Rb"
   },
   "source": [
    "Let's try the counter again:"
   ]
  },
  {
   "cell_type": "code",
   "execution_count": null,
   "metadata": {
    "colab": {},
    "colab_type": "code",
    "id": "bMH9aN9PK3Rb"
   },
   "outputs": [],
   "source": [
    "Counter(lowercase_words)"
   ]
  },
  {
   "cell_type": "markdown",
   "metadata": {
    "colab_type": "text",
    "id": "BnWPZYNGK3Rd"
   },
   "source": [
    "# It worked!"
   ]
  },
  {
   "cell_type": "markdown",
   "metadata": {
    "colab_type": "text",
    "id": "JwLOUF_DK3Rd"
   },
   "source": [
    "## Most popular words\n",
    "\n",
    "Let's try to apply this to the first book. First, let's load the book:"
   ]
  },
  {
   "cell_type": "code",
   "execution_count": null,
   "metadata": {
    "colab": {},
    "colab_type": "code",
    "id": "jwxBWALTK3Re"
   },
   "outputs": [],
   "source": [
    "book = load_book_1()\n",
    "\n",
    "print(book[0:500])"
   ]
  },
  {
   "cell_type": "markdown",
   "metadata": {
    "colab_type": "text",
    "id": "DFhvcv4fK3Rh"
   },
   "source": [
    "Let's do what we just learned: split the book to words, turn all words to lowercase and remove special characters. To avoid writing the same code again, we prepared another helper function for you that does all the cleanup we need. It's called `make_clean_words`:"
   ]
  },
  {
   "cell_type": "code",
   "execution_count": null,
   "metadata": {
    "colab": {},
    "colab_type": "code",
    "id": "ywj9uKsbK3Rh"
   },
   "outputs": [],
   "source": [
    "clean_words = make_clean_words(book)\n",
    "    \n",
    "print(clean_words[0:26])"
   ]
  },
  {
   "cell_type": "markdown",
   "metadata": {
    "colab_type": "text",
    "id": "3rO8odJUK3Rj"
   },
   "source": [
    "We just cleaned the whole book one!\n",
    "\n",
    "We can use `Counter` to count occurences of all words in the book!\n",
    "\n",
    "The list would be veeeeeeeeeeery long! So let's ask counter to only give us the 10 most common words:"
   ]
  },
  {
   "cell_type": "code",
   "execution_count": null,
   "metadata": {
    "colab": {},
    "colab_type": "code",
    "id": "rGJNZ4puK3Rk"
   },
   "outputs": [],
   "source": [
    "Counter(clean_words).most_common(10)"
   ]
  },
  {
   "cell_type": "markdown",
   "metadata": {
    "colab_type": "text",
    "id": "oQV4zTGeK3Rm"
   },
   "source": [
    "# That's it! The 10 most common words in book 1!\n",
    "\n",
    "Something happened though. Are all of the words useful to us? Is it useful knowing that \"the\" is the most common word?\n",
    "\n",
    "In English, words like \"the\", \"a\", and \"I\" appear very often, but don't give us any useful information. The frequently appearing words are called \"stopwords\". They are important because they help to structure our sentences, but they don't tell us anything about the meaning of the text.\n",
    "\n",
    "That's why in Text Mining we usually remove those words.\n",
    "\n",
    "We prepared another helper function that you can use -- this function removes all stopwords from a list of words. It's called `remove_stopwords`:"
   ]
  },
  {
   "cell_type": "code",
   "execution_count": null,
   "metadata": {
    "colab": {},
    "colab_type": "code",
    "id": "YyhRrm6wK3Rn"
   },
   "outputs": [],
   "source": [
    "print(\"Before:\", clean_words[0:26])\n",
    "print()\n",
    "\n",
    "no_stopwords = remove_stopwords(clean_words)\n",
    "\n",
    "print(\"After:\", no_stopwords[0:26])"
   ]
  },
  {
   "cell_type": "markdown",
   "metadata": {
    "colab_type": "text",
    "id": "LBrnVz-_K3Rq"
   },
   "source": [
    "Let's try the `Counter` again:"
   ]
  },
  {
   "cell_type": "code",
   "execution_count": null,
   "metadata": {
    "colab": {},
    "colab_type": "code",
    "id": "Zwi0eGupK3Rq"
   },
   "outputs": [],
   "source": [
    "Counter(no_stopwords).most_common(10)"
   ]
  },
  {
   "cell_type": "markdown",
   "metadata": {
    "colab_type": "text",
    "id": "SG7DiHwcK3Rs"
   },
   "source": [
    "# Yay! That worked!\n",
    "\n",
    "Can you tell me who are the most frequently mentioned students in book 1?\n",
    "\n",
    "Let's try to do this for book 2!\n",
    "\n",
    "We prepared a bit of code to help you. Fill in the missing lines:"
   ]
  },
  {
   "cell_type": "code",
   "execution_count": null,
   "metadata": {
    "colab": {},
    "colab_type": "code",
    "id": "plYBjiq-K3Rs"
   },
   "outputs": [],
   "source": [
    "book = load_book_2()\n",
    "\n",
    "clean_words = make_clean_words(book)\n",
    "\n",
    "no_stopwords = remove_stopwords(clean_words)\n",
    "\n",
    "Counter(no_stopwords).most_common(10)"
   ]
  },
  {
   "cell_type": "markdown",
   "metadata": {
    "colab_type": "text",
    "id": "ZEO_v8PQK3Ru"
   },
   "source": [
    "Remember that in the previous activity we used a function called `plot` to visualize the results? Let's try that again:"
   ]
  },
  {
   "cell_type": "code",
   "execution_count": null,
   "metadata": {
    "colab": {},
    "colab_type": "code",
    "id": "qQ4VPDfAK3Rv"
   },
   "outputs": [],
   "source": [
    "top_words = Counter(no_stopwords).most_common(10)\n",
    "\n",
    "plot_words(top_words)"
   ]
  },
  {
   "cell_type": "markdown",
   "metadata": {
    "colab_type": "text",
    "id": "8EUhbPAjK3Rw"
   },
   "source": [
    "Try this for other books by changing the fields above."
   ]
  },
  {
   "cell_type": "markdown",
   "metadata": {
    "colab_type": "text",
    "id": "6D0JmiCXK3Rw"
   },
   "source": [
    "## Word pairs\n",
    "\n",
    "What about combinations of words?\n",
    "\n",
    "So far we were looking at a single word at a time. What if we want to find how often do two words appear in the text together? For example \"professor lockhart\".\n",
    "\n",
    "Remember our text from the start of this activity?"
   ]
  },
  {
   "cell_type": "code",
   "execution_count": null,
   "metadata": {
    "colab": {},
    "colab_type": "code",
    "id": "3x05WtvnK3Rx"
   },
   "outputs": [],
   "source": [
    "print(text)"
   ]
  },
  {
   "cell_type": "markdown",
   "metadata": {
    "colab_type": "text",
    "id": "BNRwXxXRK3Ry"
   },
   "source": [
    "We prepared a function which takes a list of words and turns those words into pairs:"
   ]
  },
  {
   "cell_type": "code",
   "execution_count": null,
   "metadata": {
    "colab": {},
    "colab_type": "code",
    "id": "IfGfz3hnK3Rz"
   },
   "outputs": [],
   "source": [
    "words = text.split()\n",
    "\n",
    "pairs = get_word_pairs(words)\n",
    "\n",
    "Counter(pairs).most_common(10)"
   ]
  },
  {
   "cell_type": "markdown",
   "metadata": {
    "colab_type": "text",
    "collapsed": true,
    "id": "RhO0g-FoK3R2"
   },
   "source": [
    "Let's do this for book 1."
   ]
  },
  {
   "cell_type": "code",
   "execution_count": null,
   "metadata": {
    "colab": {},
    "colab_type": "code",
    "id": "rQWyDFWDK3R2"
   },
   "outputs": [],
   "source": [
    "book = load_book_1()\n",
    "\n",
    "clean_words = make_clean_words(book)\n",
    "    \n",
    "no_stopwords = remove_stopwords(clean_words)\n",
    "\n",
    "word_pairs = get_word_pairs(no_stopwords)\n",
    "\n",
    "Counter(word_pairs).most_common(10)"
   ]
  },
  {
   "cell_type": "code",
   "execution_count": null,
   "metadata": {
    "colab": {},
    "colab_type": "code",
    "id": "U2A1X8DMK3R5"
   },
   "outputs": [],
   "source": [
    "plot_words(Counter(word_pairs).most_common(10))"
   ]
  },
  {
   "cell_type": "markdown",
   "metadata": {
    "colab_type": "text",
    "id": "N7y_tILxK3R7"
   },
   "source": [
    "# Word Clouds\n",
    "\n",
    "You might remember word clouds from the last class. All we need to do is read the desired book with our loading routine. For book one, we use `load_book_1()` and then create the wordcloud like we did in the Python class.  \n",
    "\n",
    "After running it, change the code and create word clouds for all the different books. You can also create a new cell using the menu `Insert` -> `Insert cell below` and copy the code, so you can have a word cloud for all seven books in this one notebook."
   ]
  },
  {
   "cell_type": "code",
   "execution_count": null,
   "metadata": {
    "colab": {},
    "colab_type": "code",
    "id": "2JJFgI7LLtmh"
   },
   "outputs": [],
   "source": [
    "!pip install wordcloud"
   ]
  },
  {
   "cell_type": "code",
   "execution_count": null,
   "metadata": {
    "colab": {},
    "colab_type": "code",
    "id": "pYds8RwsK3R8"
   },
   "outputs": [],
   "source": [
    "%matplotlib inline\n",
    "from wordcloud import WordCloud, STOPWORDS\n",
    "\n",
    "book = load_book_1()\n",
    "wc = WordCloud(width=1000, height=1000, background_color=\"white\", stopwords=STOPWORDS).generate(book)\n",
    "\n",
    "plt.figure(figsize=(10, 10))\n",
    "plt.axis(\"off\")\n",
    "plt.imshow(wc);"
   ]
  },
  {
   "cell_type": "markdown",
   "metadata": {
    "colab_type": "text",
    "id": "B1HnryI0K3R-"
   },
   "source": [
    "## Yeak you made it through activity 3.\n",
    "\n",
    "Feel free to experiment with the notebook to learn even more about the Harry Potter books. For example, you can try other word clouds or finding most common word pairs in the other books."
   ]
  },
  {
   "cell_type": "code",
   "execution_count": null,
   "metadata": {
    "colab": {},
    "colab_type": "code",
    "id": "v096APeZK3R-"
   },
   "outputs": [],
   "source": []
  }
 ],
 "metadata": {
  "colab": {
   "include_colab_link": true,
   "name": "Activity 3 -- Most popular words.ipynb",
   "provenance": [],
   "version": "0.3.2"
  },
  "kernelspec": {
   "display_name": "Python 3",
   "language": "python",
   "name": "python3"
  },
  "language_info": {
   "codemirror_mode": {
    "name": "ipython",
    "version": 3
   },
   "file_extension": ".py",
   "mimetype": "text/x-python",
   "name": "python",
   "nbconvert_exporter": "python",
   "pygments_lexer": "ipython3",
   "version": "3.7.4"
  }
 },
 "nbformat": 4,
 "nbformat_minor": 1
}
