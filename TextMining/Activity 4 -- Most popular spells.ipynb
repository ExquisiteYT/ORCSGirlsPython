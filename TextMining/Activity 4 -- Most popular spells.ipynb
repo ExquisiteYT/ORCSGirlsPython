{
  "nbformat": 4,
  "nbformat_minor": 0,
  "metadata": {
    "colab": {
      "name": "Activity 4 -- Most popular spells.ipynb",
      "version": "0.3.2",
      "provenance": [],
      "include_colab_link": true
    },
    "kernelspec": {
      "display_name": "Python 3",
      "language": "python",
      "name": "python3"
    }
  },
  "cells": [
    {
      "cell_type": "markdown",
      "metadata": {
        "id": "view-in-github",
        "colab_type": "text"
      },
      "source": [
        "<a href=\"https://colab.research.google.com/github/tproffen/ORCSGirlsPython/blob/master/TextMining/Activity%204%20--%20Most%20popular%20spells.ipynb\" target=\"_parent\"><img src=\"https://colab.research.google.com/assets/colab-badge.svg\" alt=\"Open In Colab\"/></a>"
      ]
    },
    {
      "metadata": {
        "id": "5nHyRL-RMFe7",
        "colab_type": "text"
      },
      "cell_type": "markdown",
      "source": [
        "<img src=\"https://github.com/tproffen/ORCSGirlsPython/blob/master/TextMining/Images/PoweredTechGirlz.png?raw=1\" width=\"15%\" align=\"right\">\n",
        "\n",
        "# Activity 4: Text Mining Harry Potter - Most Popular Spells\n",
        "\n",
        "We will be using data provided by [Bradley Boehmke](https://github.com/bradleyboehmke/harrypotter).\n",
        "\n",
        "The goal of this class is to do a textual analysis of the seven Harry Potter books. We will use Python to discover some interesting insights that maybe nobody else in the world has realized about the Harry Potter books! In this activity we will find the most popular spells. This time we look at all 7 books at once.\n",
        "\n",
        "<img src=\"https://github.com/tproffen/ORCSGirlsPython/blob/master/TextMining/Images/book_covers.png?raw=1\" width=\"60%\" align=\"left\">"
      ]
    },
    {
      "metadata": {
        "id": "vkqIC-pGMGhz",
        "colab_type": "code",
        "colab": {}
      },
      "cell_type": "code",
      "source": [
        "!curl -s -o setup.sh https://raw.githubusercontent.com/tproffen/ORCSGirlsPython/master/TextMining/Helpers/setup_activity4.sh\n",
        "!bash setup.sh"
      ],
      "execution_count": 0,
      "outputs": []
    },
    {
      "metadata": {
        "id": "U7sUIAgoMFe8",
        "colab_type": "code",
        "colab": {}
      },
      "cell_type": "code",
      "source": [
        "import Helpers\n",
        "from Helpers.load_data import *\n",
        "from Helpers.plot_data import *\n",
        "from collections import Counter"
      ],
      "execution_count": 0,
      "outputs": []
    },
    {
      "metadata": {
        "id": "xY0YlIugMFe_",
        "colab_type": "text"
      },
      "cell_type": "markdown",
      "source": [
        "# Most popular anything in all seven books\n",
        "\n",
        "Before we have always just looked at a single book an counted words. What if you want to compare for example the most *popular spells* across all seven books. Sounds complicated, lucky for us it is not.\n",
        "\n",
        "This will look familiar from the ealier activity where we looked for the longest book.\n"
      ]
    },
    {
      "metadata": {
        "id": "K5duJL2qMFfA",
        "colab_type": "code",
        "colab": {}
      },
      "cell_type": "code",
      "source": [
        "books = load_all_books()"
      ],
      "execution_count": 0,
      "outputs": []
    },
    {
      "metadata": {
        "id": "vIbiPGyMMFfC",
        "colab_type": "text"
      },
      "cell_type": "markdown",
      "source": [
        "To make pretty plots and save typing, we create a list with the actual names for the seven books."
      ]
    },
    {
      "metadata": {
        "id": "eh09t4vJMFfD",
        "colab_type": "code",
        "colab": {}
      },
      "cell_type": "code",
      "source": [
        "titles = [\n",
        "    'Sorcerer\\'s Stone', 'Chamber of Secrets', 'Prisoner of Azkaban', 'Goblet of Fire', 'Order of the Phoenix', \n",
        "    'Half-Blood Prince', 'Deathly Hallows']"
      ],
      "execution_count": 0,
      "outputs": []
    },
    {
      "metadata": {
        "id": "vFb3XxM6MFfG",
        "colab_type": "text"
      },
      "cell_type": "markdown",
      "source": [
        "As a first example, we want to look at the most popular spells across all books. First we need to define a list with all the spells we want to search for. "
      ]
    },
    {
      "metadata": {
        "id": "F2LiwT25MFfG",
        "colab_type": "code",
        "colab": {}
      },
      "cell_type": "code",
      "source": [
        "words = [\n",
        "    'Expecto Patronum', 'Accio', 'Wingardium Leviosa', 'Expelliarmus', 'Stupefy', 'Lumos', 'Alohomora', \n",
        "    'Imperio', 'Crucio', 'Avada Kedavra']"
      ],
      "execution_count": 0,
      "outputs": []
    },
    {
      "metadata": {
        "id": "ywTmxWboMFfK",
        "colab_type": "text"
      },
      "cell_type": "markdown",
      "source": [
        "Inspect the code below. You find two `for` loops. The first one loops over all the words - in our case _spells_ - and creates a list to keep the word counts. Next it loops over all books and counts how many times the particulatr word selected in the outer loop appears and appends it to the list.\n",
        "\n",
        "Once a book is done, `plt.plot` creates a line for that word - in our case _spell_ - and moves to the next word until the list is done."
      ]
    },
    {
      "metadata": {
        "id": "ClNodnBMMFfL",
        "colab_type": "code",
        "colab": {}
      },
      "cell_type": "code",
      "source": [
        "plt.figure(figsize=(12, 8))\n",
        "positions = range(len(books))\n",
        "\n",
        "for word in words:\n",
        "    word_count = []\n",
        "    for book in books:\n",
        "        book = book.lower()\n",
        "        word_count.append(book.count(word.lower()))\n",
        "    plt.plot(positions, word_count, label=word)\n",
        "    \n",
        "plt.xticks(positions, titles, rotation=45)\n",
        "plt.legend()\n",
        "plt.show()"
      ],
      "execution_count": 0,
      "outputs": []
    },
    {
      "metadata": {
        "id": "Ewglv3IEMFfO",
        "colab_type": "text"
      },
      "cell_type": "markdown",
      "source": [
        "# Try it yourself\n",
        "\n",
        "The same code will work for any other list of words. For example you could try locations with a line like this\n",
        "\n",
        "```\n",
        "words = ['privet drive', 'diagon alley', 'hogwarts', 'azkaban', 'ministry of magic', 'grimmauld place']\n",
        "```\n",
        "or any other list of interesting items from the books. Define the list of words in the next cell. Remember to specify them in lower case since we compare against the text after we converted it to lower case. "
      ]
    },
    {
      "metadata": {
        "id": "S0ITE-RnMFfP",
        "colab_type": "code",
        "colab": {}
      },
      "cell_type": "code",
      "source": [
        "words = ['privet drive', 'diagon alley', 'hogwarts', 'azkaban', 'ministry of magic', 'grimmauld place']"
      ],
      "execution_count": 0,
      "outputs": []
    },
    {
      "metadata": {
        "id": "cXDYEmlYMFfR",
        "colab_type": "text"
      },
      "cell_type": "markdown",
      "source": [
        "All you have to do now is count and plot the results. This code is identical to the one we used for the spells. The only difference is the list of words. "
      ]
    },
    {
      "metadata": {
        "id": "S5hPVABhMFfT",
        "colab_type": "code",
        "colab": {}
      },
      "cell_type": "code",
      "source": [
        ""
      ],
      "execution_count": 0,
      "outputs": []
    },
    {
      "metadata": {
        "id": "TTRJI1CyMFfV",
        "colab_type": "text"
      },
      "cell_type": "markdown",
      "source": [
        "### Have fun and learn more secrets about the Harry Potter books by going back up two cells and change the list of words. Share what you discover."
      ]
    },
    {
      "metadata": {
        "collapsed": true,
        "id": "SpHms55aMFfW",
        "colab_type": "text"
      },
      "cell_type": "markdown",
      "source": [
        "## Congratulations. You are an expert text miner now!"
      ]
    },
    {
      "metadata": {
        "id": "uFMt8gm_MFfW",
        "colab_type": "code",
        "colab": {}
      },
      "cell_type": "code",
      "source": [
        ""
      ],
      "execution_count": 0,
      "outputs": []
    }
  ]
}