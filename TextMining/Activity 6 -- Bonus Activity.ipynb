{
 "cells": [
  {
   "cell_type": "markdown",
   "metadata": {
    "colab_type": "text",
    "id": "view-in-github"
   },
   "source": [
    "<a href=\"https://colab.research.google.com/github/tproffen/ORCSGirlsPython/master/TextMining/Activity%206%20--%20Bonus%20Activity.ipynb\" target=\"_parent\"><img src=\"https://colab.research.google.com/assets/colab-badge.svg\" alt=\"Open In Colab\"/></a>"
   ]
  },
  {
   "cell_type": "markdown",
   "metadata": {
    "colab_type": "text",
    "collapsed": true,
    "id": "xWs7zv3wIerB"
   },
   "source": [
    "<img src=\"https://github.com/tproffen/ORCSGirlsPython/blob/master/TextMining/Images/PoweredTechGirlz.png?raw=1\" width=\"15%\" align=\"right\">\n",
    "\n",
    "# Bonus Activity -- Analyzing Star Wars Scripts\n",
    "\n",
    "The data for this activity was downloaded from the [Internet Movie Script Database](https://www.imsdb.com/).\n",
    "\n",
    "This is a bonus activity in which you can use what that you learned in the class to analyze scripts of the Star Wars movies!\n",
    "\n",
    "These are the movies that we prepared for you:\n",
    "\n",
    "1. Star Wars Episode 1: Phantom Menace\n",
    "2. Star Wars Episode 2: Attack of the Clones\n",
    "3. Star Wars Episode 3: Revenge of the Sith\n",
    "4. Star Wars Episode 4: A New Hope\n",
    "5. Star Wars Episode 5: The Empire Strikes Back\n",
    "6. Star Wars Episode 6: Return of the Jedi\n",
    "7. Star Wars Episode 7: Force Awakens\n",
    "\n",
    "<img src=\"https://github.com/tproffen/ORCSGirlsPython/blob/master/TextMining/Images/star-wars-banner-art.jpg?raw=1\" width=\"60%\" align=\"left\">"
   ]
  },
  {
   "cell_type": "markdown",
   "metadata": {
    "colab_type": "text",
    "id": "MsTfmJ9sIerC"
   },
   "source": [
    "We prepared some functions to help you with loading data and creating figures. Let's import those functions now."
   ]
  },
  {
   "cell_type": "code",
   "execution_count": null,
   "metadata": {
    "colab": {
     "base_uri": "https://localhost:8080/",
     "height": 52
    },
    "colab_type": "code",
    "id": "T6vZTWJBIh4O",
    "outputId": "13749d34-c2c3-4680-a20c-10ad5b3ab439"
   },
   "outputs": [],
   "source": [
    "!curl -s -o setup.sh https://raw.githubusercontent.com/tproffen/ORCSGirlsPython/master/TextMining/Helpers/setup_activity6.sh\n",
    "!bash setup.sh"
   ]
  },
  {
   "cell_type": "code",
   "execution_count": null,
   "metadata": {
    "colab": {},
    "colab_type": "code",
    "id": "wN8akvLZIerD"
   },
   "outputs": [],
   "source": [
    "import Helpers\n",
    "from Helpers.load_movies import *\n",
    "from Helpers.plot_data import *\n",
    "from Helpers.clean_data import *\n",
    "from collections import Counter"
   ]
  },
  {
   "cell_type": "markdown",
   "metadata": {
    "colab_type": "text",
    "id": "1dl6hzqKIerF"
   },
   "source": [
    "## Loading movie scripts\n",
    "\n",
    "The code below loads the script of the first movie into a Python variable. You can replace the number 1 in `load_movie_1` with numbers from 1 to 7 to load any of the 7 movies."
   ]
  },
  {
   "cell_type": "code",
   "execution_count": null,
   "metadata": {
    "colab": {},
    "colab_type": "code",
    "id": "xwDyPkmrIerG"
   },
   "outputs": [],
   "source": [
    "movie_1 = load_movie_1()"
   ]
  },
  {
   "cell_type": "markdown",
   "metadata": {
    "colab_type": "text",
    "id": "w-lp5tLJda2d"
   },
   "source": [
    "## Longest movie"
   ]
  },
  {
   "cell_type": "markdown",
   "metadata": {
    "colab_type": "text",
    "id": "tHTpP92FIerJ"
   },
   "source": [
    "Try to print the first 100 letters of the movie: \n",
    "\n",
    "(The code from Activity 2 may help:)"
   ]
  },
  {
   "cell_type": "code",
   "execution_count": null,
   "metadata": {
    "colab": {},
    "colab_type": "code",
    "id": "f7N3SQCdIerJ"
   },
   "outputs": [],
   "source": [
    "print(#replace_this_with_your_code#)"
   ]
  },
  {
   "cell_type": "markdown",
   "metadata": {
    "colab_type": "text",
    "id": "D1A5c9SmIerM"
   },
   "source": [
    "Do you remember how to find the length of the movie in words?"
   ]
  },
  {
   "cell_type": "code",
   "execution_count": null,
   "metadata": {
    "colab": {},
    "colab_type": "code",
    "id": "0l4dCuc3IerM"
   },
   "outputs": [],
   "source": [
    "words = #split_movie_into_words#\n",
    "\n",
    "movie_length = #count_length_of_movie#\n",
    "\n",
    "print(movie_length)"
   ]
  },
  {
   "cell_type": "markdown",
   "metadata": {
    "colab_type": "text",
    "id": "LBXpysmyda2o"
   },
   "source": [
    "Do you remember how to find which movie was the longest?\n",
    "\n",
    "You can use the same code as above and a for loop:"
   ]
  },
  {
   "cell_type": "code",
   "execution_count": null,
   "metadata": {
    "colab": {},
    "colab_type": "code",
    "id": "YTnP8oLqda2p"
   },
   "outputs": [],
   "source": [
    "movies = load_all_movies()\n",
    "\n",
    "for movie in movies:\n",
    "    words = #split_movie_into_words#\n",
    "    movie_length = #count_length_of_movie#\n",
    "    print('Book contains', movie_length, 'words')"
   ]
  },
  {
   "cell_type": "markdown",
   "metadata": {
    "colab_type": "text",
    "id": "eODmsNH7da2t"
   },
   "source": [
    "Can you count the total number of words in all movies? There are many ways to do that, one of them is to use a loop:"
   ]
  },
  {
   "cell_type": "code",
   "execution_count": null,
   "metadata": {
    "colab": {},
    "colab_type": "code",
    "id": "S6wZJi_Nda2u"
   },
   "outputs": [],
   "source": []
  },
  {
   "cell_type": "markdown",
   "metadata": {
    "colab_type": "text",
    "id": "kTbJp38gda2y"
   },
   "source": [
    "## Most popular words"
   ]
  },
  {
   "cell_type": "markdown",
   "metadata": {
    "colab_type": "text",
    "id": "fdxbA7xeda2z"
   },
   "source": [
    "We will try to find out which words are the most popular in each movie.\n",
    "\n",
    "Do you remember how to count how many words appear in a movie? The code from Activity 3 may help:)"
   ]
  },
  {
   "cell_type": "code",
   "execution_count": null,
   "metadata": {
    "colab": {},
    "colab_type": "code",
    "id": "LuuE3wGwda20"
   },
   "outputs": [],
   "source": [
    "movie = #load_the_movie_you_are_interested_in#\n",
    "\n",
    "words = movie.split()\n",
    "\n",
    "clean_words = #add_here_your_code_for_cleaning_words#\n",
    "\n",
    "no_stopwords = #add_here_your_code_for_removing_stopwords#\n",
    "\n",
    "Counter(no_stopwords).most_common(10)"
   ]
  },
  {
   "cell_type": "markdown",
   "metadata": {
    "colab_type": "text",
    "id": "PpcBUnDdda25"
   },
   "source": [
    "That's it! You should now see the 10 most common words in the movie of your choice:)\n",
    "\n",
    "We can now try to create a plot like we did earlier:"
   ]
  },
  {
   "cell_type": "code",
   "execution_count": null,
   "metadata": {
    "colab": {},
    "colab_type": "code",
    "id": "OJzfwIkyda25"
   },
   "outputs": [],
   "source": [
    "top_words = Counter(no_stopwords).most_common(10)\n",
    "\n",
    "plot_words(top_words)"
   ]
  },
  {
   "cell_type": "markdown",
   "metadata": {
    "colab_type": "text",
    "id": "7T7puDGPda28"
   },
   "source": [
    "## Word pairs"
   ]
  },
  {
   "cell_type": "markdown",
   "metadata": {
    "colab_type": "text",
    "id": "jJxVeCDhda29"
   },
   "source": [
    "Do you remember how to find the most common word pairs? Again, Activity 3 may have some help!"
   ]
  },
  {
   "cell_type": "code",
   "execution_count": null,
   "metadata": {
    "colab": {},
    "colab_type": "code",
    "id": "q7LHMN9Vda2-"
   },
   "outputs": [],
   "source": []
  },
  {
   "cell_type": "markdown",
   "metadata": {
    "colab_type": "text",
    "id": "IUOPEY4Qda3B"
   },
   "source": [
    "# Word Clouds\n",
    "\n",
    "You might remember word clouds from Activity 3. All we need to do is read the desired movie with our loading routine. For book one, we use `load_movie_1()` and then create the wordcloud like we did earlier.  \n",
    "\n",
    "After running it, change the code and create word clouds for all the different movie. You can also create a new cell using the menu `Insert` -> `Insert cell below` and copy the code, so you can have a word cloud for all seven movies in this one notebook."
   ]
  },
  {
   "cell_type": "code",
   "execution_count": null,
   "metadata": {
    "colab": {},
    "colab_type": "code",
    "id": "FXucKD2ada3C"
   },
   "outputs": [],
   "source": [
    "!pip install wordcloud"
   ]
  },
  {
   "cell_type": "code",
   "execution_count": null,
   "metadata": {
    "colab": {},
    "colab_type": "code",
    "id": "A5mv__Pzda3F"
   },
   "outputs": [],
   "source": [
    "%matplotlib inline\n",
    "from wordcloud import WordCloud, STOPWORDS\n",
    "\n",
    "movie = load_movie_1()\n",
    "wc = WordCloud(width=1000, height=1000, background_color=\"white\", stopwords=STOPWORDS).generate(movie)\n",
    "\n",
    "plt.figure(figsize=(10, 10))\n",
    "plt.axis(\"off\")\n",
    "plt.imshow(wc);"
   ]
  },
  {
   "cell_type": "markdown",
   "metadata": {
    "colab_type": "text",
    "id": "OBaLKvpWda3I"
   },
   "source": [
    "## Any other questions about Star Wars?\n",
    "\n",
    "Feel free to ask our volunteers for help if you'd like to explore the movie scripts some more!"
   ]
  },
  {
   "cell_type": "code",
   "execution_count": null,
   "metadata": {
    "colab": {},
    "colab_type": "code",
    "id": "REsoD5rvda3K"
   },
   "outputs": [],
   "source": []
  }
 ],
 "metadata": {
  "colab": {
   "include_colab_link": true,
   "name": "Activity 2 -- Book length.ipynb",
   "provenance": []
  },
  "kernelspec": {
   "display_name": "Python 3",
   "language": "python",
   "name": "python3"
  },
  "language_info": {
   "codemirror_mode": {
    "name": "ipython",
    "version": 3
   },
   "file_extension": ".py",
   "mimetype": "text/x-python",
   "name": "python",
   "nbconvert_exporter": "python",
   "pygments_lexer": "ipython3",
   "version": "3.6.8"
  }
 },
 "nbformat": 4,
 "nbformat_minor": 1
}
